{
 "cells": [
  {
   "cell_type": "markdown",
   "id": "0635285d-5589-4eeb-9091-9dd2143b3492",
   "metadata": {
    "tags": []
   },
   "source": [
    "# Connect to Hive"
   ]
  },
  {
   "cell_type": "code",
   "execution_count": null,
   "id": "d4d77bfb-132e-422c-9933-69d0df5685dd",
   "metadata": {
    "ExecuteTime": {
     "end_time": "2024-05-04T14:54:16.587611Z",
     "start_time": "2024-05-04T14:54:14.898483Z"
    }
   },
   "outputs": [],
   "source": [
    "from pyspark.sql import SparkSession\n",
    "\n",
    "# Add here your team number teamx\n",
    "team = \"team9\"\n",
    "\n",
    "# location of your Hive database in HDFS\n",
    "warehouse = \"project/hive/warehouse\"\n",
    "\n",
    "spark = SparkSession.builder\\\n",
    "        .appName(\"{} - spark ML\".format(team))\\\n",
    "        .master(\"yarn\")\\\n",
    "        .config(\"hive.metastore.uris\", \"thrift://hadoop-02.uni.innopolis.ru:9883\")\\\n",
    "        .config(\"spark.sql.warehouse.dir\", warehouse)\\\n",
    "        .config(\"spark.sql.avro.compression.codec\", \"snappy\")\\\n",
    "        .enableHiveSupport()\\\n",
    "        .getOrCreate()\n",
    "\n",
    "sc = spark.sparkContext"
   ]
  },
  {
   "cell_type": "code",
   "execution_count": null,
   "id": "63347c73-2077-4d7e-b72e-0579fe675dac",
   "metadata": {},
   "outputs": [],
   "source": [
    "spark.sql(\"SHOW DATABASES\").show()\n",
    "spark.sql(\"USE team9_projectdb\").show()\n",
    "spark.sql(\"SHOW TABLES\").show()\n",
    "spark.sql(\"SELECT * FROM team9_projectdb.ctr_part\").show()"
   ]
  },
  {
   "cell_type": "code",
   "execution_count": null,
   "id": "ab0a0875-0d8c-4f48-a65b-230e11c46d38",
   "metadata": {
    "ExecuteTime": {
     "end_time": "2024-05-04T14:54:49.571635Z",
     "start_time": "2024-05-04T14:54:49.560728Z"
    }
   },
   "outputs": [],
   "source": [
    "spark"
   ]
  },
  {
   "cell_type": "markdown",
   "id": "ebbc89ee-c475-47d1-b000-a800563a8870",
   "metadata": {},
   "source": [
    "# list Hive databases"
   ]
  },
  {
   "cell_type": "code",
   "execution_count": 4,
   "id": "e2631136-e462-4815-a807-d1bd4bc3f7a8",
   "metadata": {},
   "outputs": [
    {
     "name": "stdout",
     "output_type": "stream",
     "text": [
      "[Database(name='default', description='Default Hive database', locationUri='hdfs://hadoop-02.uni.innopolis.ru:8020/apps/hive/warehouse'), Database(name='root_db', description='', locationUri='hdfs://hadoop-02.uni.innopolis.ru:8020/user/root/root_db'), Database(name='team0_projectdb', description='', locationUri='hdfs://hadoop-02.uni.innopolis.ru:8020/user/team0/project/hive/warehouse'), Database(name='team12_hive_projectdb', description='', locationUri='hdfs://hadoop-02.uni.innopolis.ru:8020/user/team12/project/hive/warehouse'), Database(name='team13_projectdb', description='', locationUri='hdfs://hadoop-02.uni.innopolis.ru:8020/user/team13/project/hive/warehouse'), Database(name='team14_projectdb', description='', locationUri='hdfs://hadoop-02.uni.innopolis.ru:8020/user/team14/project/hive/warehouse'), Database(name='team15_projectdb', description='', locationUri='hdfs://hadoop-02.uni.innopolis.ru:8020/user/team15/project/hive/warehouse'), Database(name='team16_projectdb', description='', locationUri='hdfs://hadoop-02.uni.innopolis.ru:8020/user/team16/project/hive/warehouse'), Database(name='team17_projectdb', description='', locationUri='hdfs://hadoop-02.uni.innopolis.ru:8020/user/team17/project/hive/warehouse'), Database(name='team18_projectdb', description='', locationUri='hdfs://hadoop-02.uni.innopolis.ru:8020/user/team18/project/hive/warehouse'), Database(name='team19_projectdb', description='', locationUri='hdfs://hadoop-02.uni.innopolis.ru:8020/user/team19/project/hive/warehouse'), Database(name='team1_projectdb', description='', locationUri='hdfs://hadoop-02.uni.innopolis.ru:8020/user/team1/project/hive/warehouse'), Database(name='team20_projectdb', description='', locationUri='hdfs://hadoop-02.uni.innopolis.ru:8020/user/team20/project/hive/warehouse'), Database(name='team21_projectdb', description='', locationUri='hdfs://hadoop-02.uni.innopolis.ru:8020/user/team21/project/hive/warehouse'), Database(name='team22_projectdb', description='', locationUri='hdfs://hadoop-02.uni.innopolis.ru:8020/user/team22/project/hive/warehouse'), Database(name='team23_projectdb', description='', locationUri='hdfs://hadoop-02.uni.innopolis.ru:8020/user/team23/project/hive/warehouse'), Database(name='team24_projectdb', description='', locationUri='hdfs://hadoop-02.uni.innopolis.ru:8020/user/team24/project/hive/warehouse'), Database(name='team25_projectdb', description='', locationUri='hdfs://hadoop-02.uni.innopolis.ru:8020/user/team25/project/hive/warehouse'), Database(name='team26_projectdb', description='', locationUri='hdfs://hadoop-02.uni.innopolis.ru:8020/user/team26/project/hive/warehouse'), Database(name='team27_projectdb', description='', locationUri='hdfs://hadoop-02.uni.innopolis.ru:8020/user/team27/project/hive/warehouse'), Database(name='team28_projectdb', description='', locationUri='hdfs://hadoop-02.uni.innopolis.ru:8020/user/team28/project/hive/warehouse'), Database(name='team29_projectdb', description='', locationUri='hdfs://hadoop-02.uni.innopolis.ru:8020/user/team29/project/hive/warehouse'), Database(name='team2_projectdb', description='', locationUri='hdfs://hadoop-02.uni.innopolis.ru:8020/user/team2/project/hive/warehouse'), Database(name='team30_projectdb', description='', locationUri='hdfs://hadoop-02.uni.innopolis.ru:8020/user/team30/project/hive/warehouse'), Database(name='team31_projectdb', description='', locationUri='hdfs://hadoop-02.uni.innopolis.ru:8020/user/team31/project/hive/warehouse'), Database(name='team3_projectdb', description='', locationUri='hdfs://hadoop-02.uni.innopolis.ru:8020/user/team3/project/hive/warehouse'), Database(name='team4_projectdb', description='', locationUri='hdfs://hadoop-02.uni.innopolis.ru:8020/user/team4/project/hive/warehouse'), Database(name='team5_projectdb', description='', locationUri='hdfs://hadoop-02.uni.innopolis.ru:8020/user/team5/project/hive/warehouse'), Database(name='team6_projectdb', description='', locationUri='hdfs://hadoop-02.uni.innopolis.ru:8020/user/team6/project/hive/warehouse'), Database(name='team7_projectdb', description='', locationUri='hdfs://hadoop-02.uni.innopolis.ru:8020/user/team7/project/hive/warehouse'), Database(name='team8_projectdb', description='', locationUri='hdfs://hadoop-02.uni.innopolis.ru:8020/user/team8/project/hive/warehouse'), Database(name='team9_projectdb', description='', locationUri='hdfs://hadoop-02.uni.innopolis.ru:8020/user/team9/project/hive/warehouse'), Database(name='testdb', description='', locationUri='hdfs://hadoop-02.uni.innopolis.ru:8020/apps/hive/warehouse/testdb.db')]\n",
      "+--------------------+\n",
      "|           namespace|\n",
      "+--------------------+\n",
      "|             default|\n",
      "|             root_db|\n",
      "|     team0_projectdb|\n",
      "|team12_hive_proje...|\n",
      "|    team13_projectdb|\n",
      "|    team14_projectdb|\n",
      "|    team15_projectdb|\n",
      "|    team16_projectdb|\n",
      "|    team17_projectdb|\n",
      "|    team18_projectdb|\n",
      "|    team19_projectdb|\n",
      "|     team1_projectdb|\n",
      "|    team20_projectdb|\n",
      "|    team21_projectdb|\n",
      "|    team22_projectdb|\n",
      "|    team23_projectdb|\n",
      "|    team24_projectdb|\n",
      "|    team25_projectdb|\n",
      "|    team26_projectdb|\n",
      "|    team27_projectdb|\n",
      "+--------------------+\n",
      "only showing top 20 rows\n",
      "\n"
     ]
    }
   ],
   "source": [
    "print(spark.catalog.listDatabases())\n",
    "spark.sql(\"SHOW DATABASES;\").show()"
   ]
  },
  {
   "cell_type": "code",
   "execution_count": 5,
   "id": "db024f5a-4aac-429e-88da-906174ebf3d5",
   "metadata": {},
   "outputs": [
    {
     "name": "stdout",
     "output_type": "stream",
     "text": [
      "[Table(name='ctr_part', database='team9_projectdb', description=None, tableType='EXTERNAL', isTemporary=False)]\n"
     ]
    }
   ],
   "source": [
    "print(spark.catalog.listTables(\"team9_projectdb\"))"
   ]
  },
  {
   "cell_type": "code",
   "execution_count": 6,
   "id": "6b6f0630-f7b4-4dd5-8974-2a6208ba8edc",
   "metadata": {},
   "outputs": [
    {
     "data": {
      "text/plain": [
       "DataFrame[session_id: int, datetime: timestamp, user_id: int, campaign_id: int, webpage_id: int, product_category_1: int, product_category_2: float, user_group_id: float, gender: string, age_level: float, user_depth: float, city_development_index: float, var_1: int, is_click: int, product: string]"
      ]
     },
     "execution_count": 6,
     "metadata": {},
     "output_type": "execute_result"
    }
   ],
   "source": [
    "ctr = spark.read.format(\"avro\").table('team9_projectdb.ctr_part')\n",
    "ctr"
   ]
  },
  {
   "cell_type": "code",
   "execution_count": 7,
   "id": "bd82e7da-9843-41ad-b023-8eed09dde9db",
   "metadata": {},
   "outputs": [
    {
     "name": "stdout",
     "output_type": "stream",
     "text": [
      "root\n",
      " |-- session_id: integer (nullable = true)\n",
      " |-- datetime: timestamp (nullable = true)\n",
      " |-- user_id: integer (nullable = true)\n",
      " |-- campaign_id: integer (nullable = true)\n",
      " |-- webpage_id: integer (nullable = true)\n",
      " |-- product_category_1: integer (nullable = true)\n",
      " |-- product_category_2: float (nullable = true)\n",
      " |-- user_group_id: float (nullable = true)\n",
      " |-- gender: string (nullable = true)\n",
      " |-- age_level: float (nullable = true)\n",
      " |-- user_depth: float (nullable = true)\n",
      " |-- city_development_index: float (nullable = true)\n",
      " |-- var_1: integer (nullable = true)\n",
      " |-- is_click: integer (nullable = true)\n",
      " |-- product: string (nullable = true)\n",
      "\n",
      "+----------+-------------------+-------+-----------+----------+------------------+------------------+-------------+------+---------+----------+----------------------+-----+--------+-------+\n",
      "|session_id|           datetime|user_id|campaign_id|webpage_id|product_category_1|product_category_2|user_group_id|gender|age_level|user_depth|city_development_index|var_1|is_click|product|\n",
      "+----------+-------------------+-------+-----------+----------+------------------+------------------+-------------+------+---------+----------+----------------------+-----+--------+-------+\n",
      "|    432543|2017-07-06 23:08:00| 287005|     404347|     53587|                 1|               NaN|          2.0|  Male|      2.0|       3.0|                   2.0|    1|       0|      H|\n",
      "|    362321|2017-07-05 20:41:00| 287005|      82320|      1734|                 1|          255689.0|          2.0|  Male|      2.0|       3.0|                   2.0|    1|       1|      H|\n",
      "+----------+-------------------+-------+-----------+----------+------------------+------------------+-------------+------+---------+----------+----------------------+-----+--------+-------+\n",
      "\n",
      "+-----------------------+\n",
      "|avg(product_category_1)|\n",
      "+-----------------------+\n",
      "|      3.057962292622899|\n",
      "+-----------------------+\n",
      "\n"
     ]
    }
   ],
   "source": [
    "ctr.printSchema()\n",
    "\n",
    "spark.sql(\"SELECT * FROM ctr_part WHERE user_id=287005\").show()\n",
    "\n",
    "spark.sql(\"SELECT AVG(product_category_1) FROM ctr_part;\").show()\n",
    "\n",
    "# spark.sql(\"SELECT * from ctr_part where product_category_2 is NULL;\").show()"
   ]
  },
  {
   "cell_type": "markdown",
   "id": "c69a1fe4-d2d3-4fb0-9533-59f61a917d05",
   "metadata": {},
   "source": [
    "# Specify the input and output features"
   ]
  },
  {
   "cell_type": "code",
   "execution_count": 8,
   "id": "018f48d1-6fde-4ff5-b7ce-4eed719a7774",
   "metadata": {},
   "outputs": [],
   "source": [
    "# We will use the following features\n",
    "# Excluded 'product_category_2', 'city_development_index' because they have a lot of nulls\n",
    "# Excuded hiredate because it is given as practice to implement the cos_sin_transformation for the student\n",
    "features = ['session_id', 'DateTime', 'user_id', 'product', 'campaign_id',\n",
    "       'webpage_id', 'product_category_1',\n",
    "       'user_group_id', 'gender', 'age_level', 'user_depth', 'var_1']\n",
    "\n",
    "# The output/target of our model\n",
    "label = 'is_click'"
   ]
  },
  {
   "cell_type": "markdown",
   "id": "2f5bf565-af4e-49d4-bf45-ca1e1baf971f",
   "metadata": {
    "tags": []
   },
   "source": [
    "# Read hive tables"
   ]
  },
  {
   "cell_type": "code",
   "execution_count": 9,
   "id": "3376ccfd-3045-4c2d-9800-19ea2da702b3",
   "metadata": {},
   "outputs": [],
   "source": [
    "# main = spark.read.format(\"avro\").table('team7_projectdb.main')\n",
    "\n",
    "# depts = spark.read.format(\"avro\").table('team7_projectdb.departments')"
   ]
  },
  {
   "cell_type": "code",
   "execution_count": 10,
   "id": "662a1c70-3549-484c-99b9-00631ccfbc08",
   "metadata": {},
   "outputs": [],
   "source": [
    "# emps.show()"
   ]
  },
  {
   "cell_type": "code",
   "execution_count": 11,
   "id": "6c331c42-ec0f-41a7-9c43-b3621f278dfc",
   "metadata": {},
   "outputs": [],
   "source": [
    "# depts.show()"
   ]
  },
  {
   "cell_type": "markdown",
   "id": "60e05e6d-b953-4dd6-84ae-dbeac729dc76",
   "metadata": {},
   "source": [
    "# Feature selection"
   ]
  },
  {
   "cell_type": "code",
   "execution_count": 12,
   "id": "00984a8d-8516-47b6-891a-85711cb5f210",
   "metadata": {},
   "outputs": [],
   "source": [
    "#тут Фирас своей херней со своими данными страдает\n",
    "# import pyspark.sql.functions as F\n",
    "\n",
    "# # Remove the quotes before and after each string in job and ename columns.\n",
    "# emps = emps.withColumn(\"job\", F.translate(\"job\",\"'\",\"\"))\n",
    "# emps.show()\n",
    "# emps = emps.withColumn(\"ename\", F.translate(\"ename\",\"'\",\"\"))\n",
    "# emps.show()"
   ]
  },
  {
   "cell_type": "code",
   "execution_count": 13,
   "id": "27c00177-7c66-4341-9d9f-6ac1089889e6",
   "metadata": {},
   "outputs": [],
   "source": [
    "#тут тоже\n",
    "# emps = emps.select(features + [label]).na.drop()\n",
    "# emps = emps.withColumn(\"ename_job\", F.concat(F.col('ename'), F.lit(\"_\"), F.col('job')))\n",
    "# emps = emps.withColumnRenamed(\"sal\",\"label\")\n",
    "\n",
    "# emps.show()"
   ]
  },
  {
   "cell_type": "code",
   "execution_count": 14,
   "id": "078657b6-8c1e-4898-a569-20f9e361e319",
   "metadata": {},
   "outputs": [],
   "source": [
    "# from pyspark.ml import Pipeline\n",
    "# from pyspark.ml.feature import StringIndexer, OneHotEncoder, VectorAssembler, Word2Vec, Tokenizer, RegexTokenizer\n",
    "# from pyspark.sql.functions import col\n",
    "\n",
    "# categoricalCols = ['deptno']\n",
    "# textCols = ['ename_job']\n",
    "# others = ['empno', 'mgr']"
   ]
  },
  {
   "cell_type": "code",
   "execution_count": 15,
   "id": "cb7ee491-87c6-490c-863a-2a2a50f0286a",
   "metadata": {},
   "outputs": [],
   "source": [
    "# ctr_template = ctr "
   ]
  },
  {
   "cell_type": "markdown",
   "id": "5a71bafe-c88b-47d2-accc-a9ca27f3a95d",
   "metadata": {
    "tags": []
   },
   "source": [
    "# Feature extraction"
   ]
  },
  {
   "cell_type": "code",
   "execution_count": 16,
   "id": "967abaa7-94fa-46f3-bcdd-3c5693ad1aa9",
   "metadata": {},
   "outputs": [],
   "source": [
    "import math\n",
    "from pyspark.sql import SparkSession\n",
    "from pyspark.ml import Pipeline\n",
    "from pyspark.ml.feature import StringIndexer, VectorAssembler\n",
    "from pyspark.sql.window import Window\n",
    "from pyspark.sql.functions import when, avg, coalesce, date_format\n",
    "from pyspark.sql.functions import sin, cos"
   ]
  },
  {
   "cell_type": "code",
   "execution_count": 17,
   "id": "896447a6-2a38-4f68-a45b-9d8d2cc37edb",
   "metadata": {},
   "outputs": [],
   "source": [
    "ctr1_temp = ctr\n",
    "from pyspark.sql.functions import col\n",
    "ctr1_temp = ctr1_temp.orderBy(col(\"DateTime\"))"
   ]
  },
  {
   "cell_type": "code",
   "execution_count": 18,
   "id": "5403889c-2c5b-44dd-8e0b-91524ca15ff7",
   "metadata": {},
   "outputs": [
    {
     "name": "stdout",
     "output_type": "stream",
     "text": [
      "+----------+-------------------+-------+-----------+----------+------------------+------------------+-------------+------+---------+----------+----------------------+-----+--------+-------+\n",
      "|session_id|           datetime|user_id|campaign_id|webpage_id|product_category_1|product_category_2|user_group_id|gender|age_level|user_depth|city_development_index|var_1|is_click|product|\n",
      "+----------+-------------------+-------+-----------+----------+------------------+------------------+-------------+------+---------+----------+----------------------+-----+--------+-------+\n",
      "|    333291|2017-07-02 00:00:00| 243253|     105960|     11085|                 5|               NaN|          8.0|Female|      2.0|       2.0|                   NaN|    0|       0|      C|\n",
      "|    151475|2017-07-02 00:01:00| 509591|     359520|     13787|                 2|               NaN|          1.0|  Male|      1.0|       3.0|                   NaN|    0|       0|      I|\n",
      "|    175422|2017-07-02 00:03:00|  43157|     359520|     13787|                 4|               NaN|          1.0|  Male|      1.0|       3.0|                   3.0|    0|       0|      C|\n",
      "|    453157|2017-07-02 00:03:00| 901661|     360936|     13787|                 3|               NaN|          9.0|Female|      3.0|       3.0|                   3.0|    0|       0|      C|\n",
      "|    490038|2017-07-02 00:03:00| 802278|     359520|     13787|                 3|               NaN|         11.0|Female|      5.0|       3.0|                   2.0|    0|       0|      H|\n",
      "|    178356|2017-07-02 00:04:00|  72512|     359520|     13787|                 4|               NaN|          3.0|  Male|      3.0|       3.0|                   NaN|    0|       0|      C|\n",
      "|    307267|2017-07-02 00:04:00| 901661|     360936|     13787|                 5|               NaN|          9.0|Female|      3.0|       3.0|                   3.0|    0|       0|      C|\n",
      "|    190712|2017-07-02 00:04:00| 901661|     359520|     13787|                 4|               NaN|          9.0|Female|      3.0|       3.0|                   3.0|    0|       0|      C|\n",
      "|    465086|2017-07-02 00:04:00| 144675|     359520|     13787|                 3|               NaN|          2.0|  Male|      2.0|       3.0|                   2.0|    0|       0|      I|\n",
      "|    489923|2017-07-02 00:05:00| 929999|     359520|     13787|                 3|               NaN|          2.0|  Male|      2.0|       2.0|                   NaN|    0|       1|      H|\n",
      "|    193949|2017-07-02 00:06:00| 263153|     359520|     13787|                 4|               NaN|          3.0|  Male|      3.0|       3.0|                   NaN|    0|       0|      C|\n",
      "|    191640|2017-07-02 00:06:00| 584496|     359520|     13787|                 4|               NaN|          2.0|  Male|      2.0|       3.0|                   NaN|    1|       0|      C|\n",
      "|    390567|2017-07-02 00:06:00|  99306|     105960|     11085|                 5|          270915.0|          4.0|  Male|      4.0|       3.0|                   2.0|    0|       0|      H|\n",
      "|     96692|2017-07-02 00:07:00| 236496|     405490|     60305|                 3|               NaN|          2.0|  Male|      2.0|       3.0|                   4.0|    1|       0|      C|\n",
      "|    284077|2017-07-02 00:07:00| 236496|     405490|     60305|                 2|               NaN|          2.0|  Male|      2.0|       3.0|                   4.0|    1|       0|      C|\n",
      "|    419802|2017-07-02 00:07:00| 740951|      98970|      6970|                 4|               NaN|          9.0|Female|      3.0|       3.0|                   4.0|    1|       1|      G|\n",
      "|    375886|2017-07-02 00:07:00| 109078|     359520|     13787|                 4|               NaN|          3.0|  Male|      3.0|       3.0|                   3.0|    0|       0|      D|\n",
      "|    145098|2017-07-02 00:08:00|1005580|     359520|     13787|                 4|               NaN|          3.0|  Male|      3.0|       3.0|                   NaN|    0|       1|      C|\n",
      "|      6186|2017-07-02 00:08:00| 683742|     404347|     53587|                 1|          146115.0|          3.0|  Male|      3.0|       3.0|                   4.0|    1|       0|      I|\n",
      "|    390842|2017-07-02 00:10:00| 165113|     105960|     11085|                 5|          270915.0|          2.0|  Male|      2.0|       3.0|                   2.0|    1|       0|      H|\n",
      "+----------+-------------------+-------+-----------+----------+------------------+------------------+-------------+------+---------+----------+----------------------+-----+--------+-------+\n",
      "only showing top 20 rows\n",
      "\n"
     ]
    }
   ],
   "source": [
    "ctr1_temp.show()"
   ]
  },
  {
   "cell_type": "markdown",
   "id": "b0ccb9ed-a3e5-4980-b8e6-7279aa961ece",
   "metadata": {},
   "source": [
    "играюсь с разделение даты на месяц, год, день"
   ]
  },
  {
   "cell_type": "code",
   "execution_count": 19,
   "id": "35bed67c-bd7b-4eba-ba73-15c4559f5f3c",
   "metadata": {},
   "outputs": [],
   "source": [
    "from pyspark.sql.functions import year, month, dayofmonth\n",
    "from pyspark.sql.functions import col\n",
    "# # Convert the datetime column to date type\n",
    "# ctr_template = ctr_template.withColumn(\"datetime\", ctr_template[\"datetime\"].cast(\"Date\"))\n",
    "# # # Split dates to year, month, day# \n",
    "# ctr_template=ctr_template.withColumn(\"year\", year(ctr_template[\"datetime\"]).cast('int'))\n",
    "# ctr_template=ctr_template.withColumn(\"month\", month(ctr_template[\"datetime\"]).cast('int'))\n",
    "# ctr_template=ctr_template.withColumn(\"day\", dayofmonth(ctr_template[\"datetime\"]).cast('int'))\n",
    "# ctr_template.drop(\"datetime\")\n",
    "\n",
    "# ctr1_temp = ctr\n",
    "\n",
    "# ctr1_temp = ctr1_temp.orderBy(col(\"datetime\"))\n",
    "ctr1_temp = ctr1_temp.withColumn(\"year\", date_format(\"datetime\", \"yyyy\").cast('int'))    \n",
    "ctr1_temp = ctr1_temp.withColumn(\"month\", date_format(\"datetime\", \"MM\").cast('int')) \n",
    "ctr1_temp = ctr1_temp.withColumn(\"day\", date_format(\"datetime\", \"dd\").cast('int'))\n",
    "ctr1_temp = ctr1_temp.withColumn(\"hour\", date_format(\"datetime\", \"HH\").cast('int'))\n",
    "ctr1_temp = ctr1_temp.withColumn(\"minute\", date_format(\"datetime\", \"mm\").cast('int'))\n",
    "ctr1_temp = ctr1_temp.drop(\"datetime\")"
   ]
  },
  {
   "cell_type": "code",
   "execution_count": 20,
   "id": "fdb9cccb-ae1e-4d01-924b-81817f259914",
   "metadata": {},
   "outputs": [
    {
     "data": {
      "text/plain": [
       "1"
      ]
     },
     "execution_count": 20,
     "metadata": {},
     "output_type": "execute_result"
    }
   ],
   "source": [
    "ctr1_temp.select('year').distinct().count()"
   ]
  },
  {
   "cell_type": "code",
   "execution_count": 21,
   "id": "32e68541-9e51-463e-b893-f57dc571c668",
   "metadata": {},
   "outputs": [
    {
     "data": {
      "text/plain": [
       "1"
      ]
     },
     "execution_count": 21,
     "metadata": {},
     "output_type": "execute_result"
    }
   ],
   "source": [
    "ctr1_temp.select('month').distinct().count()"
   ]
  },
  {
   "cell_type": "code",
   "execution_count": 22,
   "id": "8d83b004-3258-4aa4-a5b8-f41b06caeacb",
   "metadata": {},
   "outputs": [
    {
     "name": "stdout",
     "output_type": "stream",
     "text": [
      "+----------+-------+-----------+----------+------------------+------------------+-------------+------+---------+----------+----------------------+-----+--------+-------+----+-----+---+----+------+\n",
      "|session_id|user_id|campaign_id|webpage_id|product_category_1|product_category_2|user_group_id|gender|age_level|user_depth|city_development_index|var_1|is_click|product|year|month|day|hour|minute|\n",
      "+----------+-------+-----------+----------+------------------+------------------+-------------+------+---------+----------+----------------------+-----+--------+-------+----+-----+---+----+------+\n",
      "|    333291| 243253|     105960|     11085|                 5|               NaN|          8.0|Female|      2.0|       2.0|                   NaN|    0|       0|      C|2017|    7|  2|   0|     0|\n",
      "|    151475| 509591|     359520|     13787|                 2|               NaN|          1.0|  Male|      1.0|       3.0|                   NaN|    0|       0|      I|2017|    7|  2|   0|     1|\n",
      "|    490038| 802278|     359520|     13787|                 3|               NaN|         11.0|Female|      5.0|       3.0|                   2.0|    0|       0|      H|2017|    7|  2|   0|     3|\n",
      "|    175422|  43157|     359520|     13787|                 4|               NaN|          1.0|  Male|      1.0|       3.0|                   3.0|    0|       0|      C|2017|    7|  2|   0|     3|\n",
      "|    453157| 901661|     360936|     13787|                 3|               NaN|          9.0|Female|      3.0|       3.0|                   3.0|    0|       0|      C|2017|    7|  2|   0|     3|\n",
      "|    178356|  72512|     359520|     13787|                 4|               NaN|          3.0|  Male|      3.0|       3.0|                   NaN|    0|       0|      C|2017|    7|  2|   0|     4|\n",
      "|    190712| 901661|     359520|     13787|                 4|               NaN|          9.0|Female|      3.0|       3.0|                   3.0|    0|       0|      C|2017|    7|  2|   0|     4|\n",
      "|    307267| 901661|     360936|     13787|                 5|               NaN|          9.0|Female|      3.0|       3.0|                   3.0|    0|       0|      C|2017|    7|  2|   0|     4|\n",
      "|    465086| 144675|     359520|     13787|                 3|               NaN|          2.0|  Male|      2.0|       3.0|                   2.0|    0|       0|      I|2017|    7|  2|   0|     4|\n",
      "|    489923| 929999|     359520|     13787|                 3|               NaN|          2.0|  Male|      2.0|       2.0|                   NaN|    0|       1|      H|2017|    7|  2|   0|     5|\n",
      "|    390567|  99306|     105960|     11085|                 5|          270915.0|          4.0|  Male|      4.0|       3.0|                   2.0|    0|       0|      H|2017|    7|  2|   0|     6|\n",
      "|    191640| 584496|     359520|     13787|                 4|               NaN|          2.0|  Male|      2.0|       3.0|                   NaN|    1|       0|      C|2017|    7|  2|   0|     6|\n",
      "|    193949| 263153|     359520|     13787|                 4|               NaN|          3.0|  Male|      3.0|       3.0|                   NaN|    0|       0|      C|2017|    7|  2|   0|     6|\n",
      "|    284077| 236496|     405490|     60305|                 2|               NaN|          2.0|  Male|      2.0|       3.0|                   4.0|    1|       0|      C|2017|    7|  2|   0|     7|\n",
      "|    375886| 109078|     359520|     13787|                 4|               NaN|          3.0|  Male|      3.0|       3.0|                   3.0|    0|       0|      D|2017|    7|  2|   0|     7|\n",
      "|     96692| 236496|     405490|     60305|                 3|               NaN|          2.0|  Male|      2.0|       3.0|                   4.0|    1|       0|      C|2017|    7|  2|   0|     7|\n",
      "|    419802| 740951|      98970|      6970|                 4|               NaN|          9.0|Female|      3.0|       3.0|                   4.0|    1|       1|      G|2017|    7|  2|   0|     7|\n",
      "|      6186| 683742|     404347|     53587|                 1|          146115.0|          3.0|  Male|      3.0|       3.0|                   4.0|    1|       0|      I|2017|    7|  2|   0|     8|\n",
      "|    145098|1005580|     359520|     13787|                 4|               NaN|          3.0|  Male|      3.0|       3.0|                   NaN|    0|       1|      C|2017|    7|  2|   0|     8|\n",
      "|    390842| 165113|     105960|     11085|                 5|          270915.0|          2.0|  Male|      2.0|       3.0|                   2.0|    1|       0|      H|2017|    7|  2|   0|    10|\n",
      "+----------+-------+-----------+----------+------------------+------------------+-------------+------+---------+----------+----------------------+-----+--------+-------+----+-----+---+----+------+\n",
      "only showing top 20 rows\n",
      "\n"
     ]
    }
   ],
   "source": [
    "ctr1_temp.show()"
   ]
  },
  {
   "cell_type": "code",
   "execution_count": 23,
   "id": "d5e6250f-d5c9-4e2f-8592-3895f7dcfd36",
   "metadata": {},
   "outputs": [],
   "source": [
    "# Encode cyclical month and days\n",
    "#the columns 'year' and 'month' have only one distinct value. We can remove them from the database\n",
    "\n",
    "# ctr1_temp = ctr1_temp.withColumn(\"month_sin\", sin(2 * math.pi * ctr1_temp.month / 12))\n",
    "# ctr1_temp = ctr1_temp.withColumn(\"month_cos\", cos(2 * math.pi * ctr1_temp.month / 12))\n",
    "ctr1_temp = ctr1_temp.withColumn(\"day_sin\", sin(2 * math.pi * ctr1_temp.day / 31))\n",
    "ctr1_temp = ctr1_temp.withColumn(\"day_cos\", cos(2 * math.pi * ctr1_temp.day / 31))\n",
    "ctr1_temp = ctr1_temp.drop(*[\"month\", \"day\", \"year\"])\n",
    "\n",
    "# Encode cyclical hours and minutes\n",
    "\n",
    "ctr1_temp = ctr1_temp.withColumn(\"hour_sin\", sin(2 * math.pi * ctr1_temp.hour / 24))\n",
    "ctr1_temp = ctr1_temp.withColumn(\"hour_cos\", cos(2 * math.pi * ctr1_temp.hour / 24))\n",
    "ctr1_temp = ctr1_temp.withColumn(\"minute_sin\", sin(2 * math.pi * ctr1_temp.minute / 60))\n",
    "ctr1_temp = ctr1_temp.withColumn(\"minute_cos\", cos(2 * math.pi * ctr1_temp.minute / 60))\n",
    "ctr1_temp = ctr1_temp.drop(*[\"hour\", \"minute\"])"
   ]
  },
  {
   "cell_type": "code",
   "execution_count": 24,
   "id": "9cec0345-b940-429e-92fa-fe05e039db97",
   "metadata": {},
   "outputs": [
    {
     "name": "stdout",
     "output_type": "stream",
     "text": [
      "+----------+-------+-----------+----------+------------------+------------------+-------------+------+---------+----------+----------------------+-----+--------+-------+-------------------+------------------+--------+--------+-------------------+------------------+\n",
      "|session_id|user_id|campaign_id|webpage_id|product_category_1|product_category_2|user_group_id|gender|age_level|user_depth|city_development_index|var_1|is_click|product|            day_sin|           day_cos|hour_sin|hour_cos|         minute_sin|        minute_cos|\n",
      "+----------+-------+-----------+----------+------------------+------------------+-------------+------+---------+----------+----------------------+-----+--------+-------+-------------------+------------------+--------+--------+-------------------+------------------+\n",
      "|    333291| 243253|     105960|     11085|                 5|               NaN|          8.0|Female|      2.0|       2.0|                   NaN|    0|       0|      C|0.39435585511331855|0.9189578116202306|     0.0|     1.0|                0.0|               1.0|\n",
      "|    151475| 509591|     359520|     13787|                 2|               NaN|          1.0|  Male|      1.0|       3.0|                   NaN|    0|       0|      I|0.39435585511331855|0.9189578116202306|     0.0|     1.0|0.10452846326765346|0.9945218953682733|\n",
      "|    453157| 901661|     360936|     13787|                 3|               NaN|          9.0|Female|      3.0|       3.0|                   3.0|    0|       0|      C|0.39435585511331855|0.9189578116202306|     0.0|     1.0| 0.3090169943749474|0.9510565162951535|\n",
      "|    490038| 802278|     359520|     13787|                 3|               NaN|         11.0|Female|      5.0|       3.0|                   2.0|    0|       0|      H|0.39435585511331855|0.9189578116202306|     0.0|     1.0| 0.3090169943749474|0.9510565162951535|\n",
      "|    175422|  43157|     359520|     13787|                 4|               NaN|          1.0|  Male|      1.0|       3.0|                   3.0|    0|       0|      C|0.39435585511331855|0.9189578116202306|     0.0|     1.0| 0.3090169943749474|0.9510565162951535|\n",
      "|    307267| 901661|     360936|     13787|                 5|               NaN|          9.0|Female|      3.0|       3.0|                   3.0|    0|       0|      C|0.39435585511331855|0.9189578116202306|     0.0|     1.0|0.40673664307580015|0.9135454576426009|\n",
      "|    178356|  72512|     359520|     13787|                 4|               NaN|          3.0|  Male|      3.0|       3.0|                   NaN|    0|       0|      C|0.39435585511331855|0.9189578116202306|     0.0|     1.0|0.40673664307580015|0.9135454576426009|\n",
      "|    465086| 144675|     359520|     13787|                 3|               NaN|          2.0|  Male|      2.0|       3.0|                   2.0|    0|       0|      I|0.39435585511331855|0.9189578116202306|     0.0|     1.0|0.40673664307580015|0.9135454576426009|\n",
      "|    190712| 901661|     359520|     13787|                 4|               NaN|          9.0|Female|      3.0|       3.0|                   3.0|    0|       0|      C|0.39435585511331855|0.9189578116202306|     0.0|     1.0|0.40673664307580015|0.9135454576426009|\n",
      "|    489923| 929999|     359520|     13787|                 3|               NaN|          2.0|  Male|      2.0|       2.0|                   NaN|    0|       1|      H|0.39435585511331855|0.9189578116202306|     0.0|     1.0|0.49999999999999994|0.8660254037844387|\n",
      "|    193949| 263153|     359520|     13787|                 4|               NaN|          3.0|  Male|      3.0|       3.0|                   NaN|    0|       0|      C|0.39435585511331855|0.9189578116202306|     0.0|     1.0| 0.5877852522924731|0.8090169943749475|\n",
      "|    390567|  99306|     105960|     11085|                 5|          270915.0|          4.0|  Male|      4.0|       3.0|                   2.0|    0|       0|      H|0.39435585511331855|0.9189578116202306|     0.0|     1.0| 0.5877852522924731|0.8090169943749475|\n",
      "|    191640| 584496|     359520|     13787|                 4|               NaN|          2.0|  Male|      2.0|       3.0|                   NaN|    1|       0|      C|0.39435585511331855|0.9189578116202306|     0.0|     1.0| 0.5877852522924731|0.8090169943749475|\n",
      "|    419802| 740951|      98970|      6970|                 4|               NaN|          9.0|Female|      3.0|       3.0|                   4.0|    1|       1|      G|0.39435585511331855|0.9189578116202306|     0.0|     1.0| 0.6691306063588582|0.7431448254773942|\n",
      "|    375886| 109078|     359520|     13787|                 4|               NaN|          3.0|  Male|      3.0|       3.0|                   3.0|    0|       0|      D|0.39435585511331855|0.9189578116202306|     0.0|     1.0| 0.6691306063588582|0.7431448254773942|\n",
      "|    284077| 236496|     405490|     60305|                 2|               NaN|          2.0|  Male|      2.0|       3.0|                   4.0|    1|       0|      C|0.39435585511331855|0.9189578116202306|     0.0|     1.0| 0.6691306063588582|0.7431448254773942|\n",
      "|     96692| 236496|     405490|     60305|                 3|               NaN|          2.0|  Male|      2.0|       3.0|                   4.0|    1|       0|      C|0.39435585511331855|0.9189578116202306|     0.0|     1.0| 0.6691306063588582|0.7431448254773942|\n",
      "|      6186| 683742|     404347|     53587|                 1|          146115.0|          3.0|  Male|      3.0|       3.0|                   4.0|    1|       0|      I|0.39435585511331855|0.9189578116202306|     0.0|     1.0| 0.7431448254773942|0.6691306063588582|\n",
      "|    145098|1005580|     359520|     13787|                 4|               NaN|          3.0|  Male|      3.0|       3.0|                   NaN|    0|       1|      C|0.39435585511331855|0.9189578116202306|     0.0|     1.0| 0.7431448254773942|0.6691306063588582|\n",
      "|    390842| 165113|     105960|     11085|                 5|          270915.0|          2.0|  Male|      2.0|       3.0|                   2.0|    1|       0|      H|0.39435585511331855|0.9189578116202306|     0.0|     1.0| 0.8660254037844386|0.5000000000000001|\n",
      "+----------+-------+-----------+----------+------------------+------------------+-------------+------+---------+----------+----------------------+-----+--------+-------+-------------------+------------------+--------+--------+-------------------+------------------+\n",
      "only showing top 20 rows\n",
      "\n"
     ]
    }
   ],
   "source": [
    "ctr1_temp.show()"
   ]
  },
  {
   "cell_type": "code",
   "execution_count": 25,
   "id": "9a5dc258-ca9a-4822-8390-290356d750ce",
   "metadata": {},
   "outputs": [
    {
     "name": "stdout",
     "output_type": "stream",
     "text": [
      "root\n",
      " |-- session_id: integer (nullable = true)\n",
      " |-- user_id: integer (nullable = true)\n",
      " |-- campaign_id: integer (nullable = true)\n",
      " |-- webpage_id: integer (nullable = true)\n",
      " |-- product_category_1: integer (nullable = true)\n",
      " |-- product_category_2: float (nullable = true)\n",
      " |-- user_group_id: float (nullable = true)\n",
      " |-- gender: string (nullable = true)\n",
      " |-- age_level: float (nullable = true)\n",
      " |-- user_depth: float (nullable = true)\n",
      " |-- city_development_index: float (nullable = true)\n",
      " |-- var_1: integer (nullable = true)\n",
      " |-- is_click: integer (nullable = true)\n",
      " |-- product: string (nullable = true)\n",
      " |-- day_sin: double (nullable = true)\n",
      " |-- day_cos: double (nullable = true)\n",
      " |-- hour_sin: double (nullable = true)\n",
      " |-- hour_cos: double (nullable = true)\n",
      " |-- minute_sin: double (nullable = true)\n",
      " |-- minute_cos: double (nullable = true)\n",
      "\n"
     ]
    }
   ],
   "source": [
    "ctr1_temp.printSchema()"
   ]
  },
  {
   "cell_type": "code",
   "execution_count": 26,
   "id": "d2de4ba8-d7cf-404d-b786-b6a0e36a7dc8",
   "metadata": {},
   "outputs": [
    {
     "name": "stdout",
     "output_type": "stream",
     "text": [
      "+----------+-------+-----------+----------+------------------+------------------+-------------+------+---------+----------+----------------------+-----+--------+-------+-------------------+------------------+--------+--------+-------------------+------------------+\n",
      "|session_id|user_id|campaign_id|webpage_id|product_category_1|product_category_2|user_group_id|gender|age_level|user_depth|city_development_index|var_1|is_click|product|            day_sin|           day_cos|hour_sin|hour_cos|         minute_sin|        minute_cos|\n",
      "+----------+-------+-----------+----------+------------------+------------------+-------------+------+---------+----------+----------------------+-----+--------+-------+-------------------+------------------+--------+--------+-------------------+------------------+\n",
      "|    333291| 243253|     105960|     11085|                 5|               NaN|          8.0|Female|      2.0|       2.0|                   NaN|    0|       0|      C|0.39435585511331855|0.9189578116202306|     0.0|     1.0|                0.0|               1.0|\n",
      "|    151475| 509591|     359520|     13787|                 2|               NaN|          1.0|  Male|      1.0|       3.0|                   NaN|    0|       0|      I|0.39435585511331855|0.9189578116202306|     0.0|     1.0|0.10452846326765346|0.9945218953682733|\n",
      "|    490038| 802278|     359520|     13787|                 3|               NaN|         11.0|Female|      5.0|       3.0|                   2.0|    0|       0|      H|0.39435585511331855|0.9189578116202306|     0.0|     1.0| 0.3090169943749474|0.9510565162951535|\n",
      "|    453157| 901661|     360936|     13787|                 3|               NaN|          9.0|Female|      3.0|       3.0|                   3.0|    0|       0|      C|0.39435585511331855|0.9189578116202306|     0.0|     1.0| 0.3090169943749474|0.9510565162951535|\n",
      "|    175422|  43157|     359520|     13787|                 4|               NaN|          1.0|  Male|      1.0|       3.0|                   3.0|    0|       0|      C|0.39435585511331855|0.9189578116202306|     0.0|     1.0| 0.3090169943749474|0.9510565162951535|\n",
      "|    190712| 901661|     359520|     13787|                 4|               NaN|          9.0|Female|      3.0|       3.0|                   3.0|    0|       0|      C|0.39435585511331855|0.9189578116202306|     0.0|     1.0|0.40673664307580015|0.9135454576426009|\n",
      "|    178356|  72512|     359520|     13787|                 4|               NaN|          3.0|  Male|      3.0|       3.0|                   NaN|    0|       0|      C|0.39435585511331855|0.9189578116202306|     0.0|     1.0|0.40673664307580015|0.9135454576426009|\n",
      "|    465086| 144675|     359520|     13787|                 3|               NaN|          2.0|  Male|      2.0|       3.0|                   2.0|    0|       0|      I|0.39435585511331855|0.9189578116202306|     0.0|     1.0|0.40673664307580015|0.9135454576426009|\n",
      "|    307267| 901661|     360936|     13787|                 5|               NaN|          9.0|Female|      3.0|       3.0|                   3.0|    0|       0|      C|0.39435585511331855|0.9189578116202306|     0.0|     1.0|0.40673664307580015|0.9135454576426009|\n",
      "|    489923| 929999|     359520|     13787|                 3|               NaN|          2.0|  Male|      2.0|       2.0|                   NaN|    0|       1|      H|0.39435585511331855|0.9189578116202306|     0.0|     1.0|0.49999999999999994|0.8660254037844387|\n",
      "|    191640| 584496|     359520|     13787|                 4|               NaN|          2.0|  Male|      2.0|       3.0|                   NaN|    1|       0|      C|0.39435585511331855|0.9189578116202306|     0.0|     1.0| 0.5877852522924731|0.8090169943749475|\n",
      "|    193949| 263153|     359520|     13787|                 4|               NaN|          3.0|  Male|      3.0|       3.0|                   NaN|    0|       0|      C|0.39435585511331855|0.9189578116202306|     0.0|     1.0| 0.5877852522924731|0.8090169943749475|\n",
      "|    390567|  99306|     105960|     11085|                 5|          270915.0|          4.0|  Male|      4.0|       3.0|                   2.0|    0|       0|      H|0.39435585511331855|0.9189578116202306|     0.0|     1.0| 0.5877852522924731|0.8090169943749475|\n",
      "|    375886| 109078|     359520|     13787|                 4|               NaN|          3.0|  Male|      3.0|       3.0|                   3.0|    0|       0|      D|0.39435585511331855|0.9189578116202306|     0.0|     1.0| 0.6691306063588582|0.7431448254773942|\n",
      "|    419802| 740951|      98970|      6970|                 4|               NaN|          9.0|Female|      3.0|       3.0|                   4.0|    1|       1|      G|0.39435585511331855|0.9189578116202306|     0.0|     1.0| 0.6691306063588582|0.7431448254773942|\n",
      "|     96692| 236496|     405490|     60305|                 3|               NaN|          2.0|  Male|      2.0|       3.0|                   4.0|    1|       0|      C|0.39435585511331855|0.9189578116202306|     0.0|     1.0| 0.6691306063588582|0.7431448254773942|\n",
      "|    284077| 236496|     405490|     60305|                 2|               NaN|          2.0|  Male|      2.0|       3.0|                   4.0|    1|       0|      C|0.39435585511331855|0.9189578116202306|     0.0|     1.0| 0.6691306063588582|0.7431448254773942|\n",
      "|      6186| 683742|     404347|     53587|                 1|          146115.0|          3.0|  Male|      3.0|       3.0|                   4.0|    1|       0|      I|0.39435585511331855|0.9189578116202306|     0.0|     1.0| 0.7431448254773942|0.6691306063588582|\n",
      "|    145098|1005580|     359520|     13787|                 4|               NaN|          3.0|  Male|      3.0|       3.0|                   NaN|    0|       1|      C|0.39435585511331855|0.9189578116202306|     0.0|     1.0| 0.7431448254773942|0.6691306063588582|\n",
      "|    390842| 165113|     105960|     11085|                 5|          270915.0|          2.0|  Male|      2.0|       3.0|                   2.0|    1|       0|      H|0.39435585511331855|0.9189578116202306|     0.0|     1.0| 0.8660254037844386|0.5000000000000001|\n",
      "+----------+-------+-----------+----------+------------------+------------------+-------------+------+---------+----------+----------------------+-----+--------+-------+-------------------+------------------+--------+--------+-------------------+------------------+\n",
      "only showing top 20 rows\n",
      "\n"
     ]
    }
   ],
   "source": [
    "ctr1_temp.show()"
   ]
  },
  {
   "cell_type": "markdown",
   "id": "23f298e8-1ab8-4123-bf13-c92d5a630d91",
   "metadata": {},
   "source": [
    "# Feature extraction"
   ]
  },
  {
   "cell_type": "code",
   "execution_count": 27,
   "id": "1e618ace-e849-4890-944e-05631230a8d7",
   "metadata": {},
   "outputs": [],
   "source": [
    "# ctr1_temp = ctr1_temp.withColumn(\"year\", date_format(\"datetime\", \"yyyy\").cast('int'))    \n",
    "# ctr1_temp = ctr1_temp.withColumn(\"month\", date_format(\"datetime\", \"MM\").cast('int')) \n",
    "# ctr1_temp = ctr1_temp.withColumn(\"day\", date_format(\"datetime\", \"DD\").cast('int')) \n",
    "# ctr1_temp=ctr1_temp.drop(\"datetime\")\n",
    "# ctr1_temp.show()"
   ]
  },
  {
   "cell_type": "code",
   "execution_count": 28,
   "id": "87063fc5-b78d-4a72-a75c-2d25f7394483",
   "metadata": {},
   "outputs": [],
   "source": [
    "from pyspark.ml import Pipeline\n",
    "from pyspark.ml.feature import StringIndexer, OneHotEncoder, VectorAssembler, Word2Vec, Tokenizer, RegexTokenizer\n",
    "from pyspark.sql.functions import col\n",
    "from pyspark.ml.feature import Imputer\n",
    "from pyspark.sql.functions import when\n"
   ]
  },
  {
   "cell_type": "code",
   "execution_count": 29,
   "id": "10ec38f4-2fed-403e-b9f1-1398192fac30",
   "metadata": {},
   "outputs": [],
   "source": [
    "categoricalCols = ['product', 'gender']\n",
    "# textCols = ['ename_job']\n",
    "#fill missing values\n",
    "nanCols = ['user_group_id', 'user_depth', 'age_level']"
   ]
  },
  {
   "cell_type": "code",
   "execution_count": 30,
   "id": "0c5a7fe8-9f82-43f8-9fa2-dd88384545b2",
   "metadata": {},
   "outputs": [],
   "source": [
    "# Table\n",
    "# Fill missing values with median\n",
    "imputer_median = Imputer(\n",
    "    inputCols=nanCols, outputCols=[\"{}_imputed\".format(c) for c in nanCols]\n",
    "    ).setStrategy(\"median\")\n",
    "\n",
    "# Add imputation cols to df\n",
    "ctr1_temp = imputer_median.fit(ctr1_temp).transform(ctr1_temp)\n",
    "ctr1_temp = ctr1_temp.drop(*[\"user_group_id\", \"user_depth\",\"age_level\"])\n",
    "\n",
    "# Fill missing values with mode\n",
    "# imputer_mode = Imputer(\n",
    "#     inputCols=[\"gender\"], outputCols=[\"gender_imputed\"]).setStrategy(\"mode\")\n",
    "# # ctr1_temp.fillna(\"Male\", subset=['gender'])\n",
    "\n",
    "# # Add imputation cols to df\n",
    "# ctr1_temp = imputer_mode.fit(ctr1_temp).transform(ctr1_temp)\n",
    "# ctr1_temp = ctr1_temp.drop(\"gender\")\n",
    "\n",
    "# # Функция для расчета моды\n",
    "# def fill_with_mode(df, column):\n",
    "#     mode = df.groupBy(column).count().orderBy(col(\"count\").desc()).collect()[0][0]\n",
    "#     df = df.withColumn(column, when(col(column).isNull(), mode).otherwise(col(column)))\n",
    "#     return df\n",
    "\n",
    "# def fill_with_mode(df, column):\n",
    "#     mode_value = df.groupBy(column).count().orderBy(col(\"count\").desc()).first()[0]\n",
    "#     return df.fillna({column: mode_value})\n",
    "\n",
    "# Заполните пропущенные значения модой\n",
    "# ctr1_temp = fill_with_mode(ctr1_temp, \"gender\")\n",
    "# mode_value = ctr1_temp.groupBy(\"gender\").count().orderBy(col(\"count\").desc()).first()[0]\n",
    "# ctr1_temp = ctr1_temp.fillna(mode_value, \"gender\")\n",
    "\n",
    "\n",
    "# Замена пустых значений (например, пустых строк) на указанное значение\n",
    "ctr1_temp = ctr1_temp.withColumn(\"gender\", when(ctr1_temp[\"gender\"] == \"NaN\", 'Male').otherwise(ctr1_temp[\"gender\"]))\n",
    "#drop these columns\n",
    "ctr1_temp = ctr1_temp.drop(*[\"product_category_2\", \"city_development_index\"])"
   ]
  },
  {
   "cell_type": "code",
   "execution_count": 31,
   "id": "9c9bb19c-764e-46f7-b9f6-bd23c83a0983",
   "metadata": {},
   "outputs": [],
   "source": [
    "# ctr1_temp = ctr1_temp.drop(*[\"product_category_2\", \"city_development_index\"])"
   ]
  },
  {
   "cell_type": "code",
   "execution_count": 32,
   "id": "b213550f-107d-4caa-aff1-4e219ad990eb",
   "metadata": {},
   "outputs": [
    {
     "name": "stdout",
     "output_type": "stream",
     "text": [
      "+----------+-------+-----------+----------+------------------+------+-----+--------+-------+-------------------+------------------+--------+--------+-------------------+------------------+---------------------+------------------+-----------------+\n",
      "|session_id|user_id|campaign_id|webpage_id|product_category_1|gender|var_1|is_click|product|            day_sin|           day_cos|hour_sin|hour_cos|         minute_sin|        minute_cos|user_group_id_imputed|user_depth_imputed|age_level_imputed|\n",
      "+----------+-------+-----------+----------+------------------+------+-----+--------+-------+-------------------+------------------+--------+--------+-------------------+------------------+---------------------+------------------+-----------------+\n",
      "|    333291| 243253|     105960|     11085|                 5|Female|    0|       0|      C|0.39435585511331855|0.9189578116202306|     0.0|     1.0|                0.0|               1.0|                  8.0|               2.0|              2.0|\n",
      "|    151475| 509591|     359520|     13787|                 2|  Male|    0|       0|      I|0.39435585511331855|0.9189578116202306|     0.0|     1.0|0.10452846326765346|0.9945218953682733|                  1.0|               3.0|              1.0|\n",
      "|    175422|  43157|     359520|     13787|                 4|  Male|    0|       0|      C|0.39435585511331855|0.9189578116202306|     0.0|     1.0| 0.3090169943749474|0.9510565162951535|                  1.0|               3.0|              1.0|\n",
      "|    453157| 901661|     360936|     13787|                 3|Female|    0|       0|      C|0.39435585511331855|0.9189578116202306|     0.0|     1.0| 0.3090169943749474|0.9510565162951535|                  9.0|               3.0|              3.0|\n",
      "|    490038| 802278|     359520|     13787|                 3|Female|    0|       0|      H|0.39435585511331855|0.9189578116202306|     0.0|     1.0| 0.3090169943749474|0.9510565162951535|                 11.0|               3.0|              5.0|\n",
      "|    307267| 901661|     360936|     13787|                 5|Female|    0|       0|      C|0.39435585511331855|0.9189578116202306|     0.0|     1.0|0.40673664307580015|0.9135454576426009|                  9.0|               3.0|              3.0|\n",
      "|    190712| 901661|     359520|     13787|                 4|Female|    0|       0|      C|0.39435585511331855|0.9189578116202306|     0.0|     1.0|0.40673664307580015|0.9135454576426009|                  9.0|               3.0|              3.0|\n",
      "|    465086| 144675|     359520|     13787|                 3|  Male|    0|       0|      I|0.39435585511331855|0.9189578116202306|     0.0|     1.0|0.40673664307580015|0.9135454576426009|                  2.0|               3.0|              2.0|\n",
      "|    178356|  72512|     359520|     13787|                 4|  Male|    0|       0|      C|0.39435585511331855|0.9189578116202306|     0.0|     1.0|0.40673664307580015|0.9135454576426009|                  3.0|               3.0|              3.0|\n",
      "|    489923| 929999|     359520|     13787|                 3|  Male|    0|       1|      H|0.39435585511331855|0.9189578116202306|     0.0|     1.0|0.49999999999999994|0.8660254037844387|                  2.0|               2.0|              2.0|\n",
      "|    390567|  99306|     105960|     11085|                 5|  Male|    0|       0|      H|0.39435585511331855|0.9189578116202306|     0.0|     1.0| 0.5877852522924731|0.8090169943749475|                  4.0|               3.0|              4.0|\n",
      "|    191640| 584496|     359520|     13787|                 4|  Male|    1|       0|      C|0.39435585511331855|0.9189578116202306|     0.0|     1.0| 0.5877852522924731|0.8090169943749475|                  2.0|               3.0|              2.0|\n",
      "|    193949| 263153|     359520|     13787|                 4|  Male|    0|       0|      C|0.39435585511331855|0.9189578116202306|     0.0|     1.0| 0.5877852522924731|0.8090169943749475|                  3.0|               3.0|              3.0|\n",
      "|    284077| 236496|     405490|     60305|                 2|  Male|    1|       0|      C|0.39435585511331855|0.9189578116202306|     0.0|     1.0| 0.6691306063588582|0.7431448254773942|                  2.0|               3.0|              2.0|\n",
      "|    375886| 109078|     359520|     13787|                 4|  Male|    0|       0|      D|0.39435585511331855|0.9189578116202306|     0.0|     1.0| 0.6691306063588582|0.7431448254773942|                  3.0|               3.0|              3.0|\n",
      "|    419802| 740951|      98970|      6970|                 4|Female|    1|       1|      G|0.39435585511331855|0.9189578116202306|     0.0|     1.0| 0.6691306063588582|0.7431448254773942|                  9.0|               3.0|              3.0|\n",
      "|     96692| 236496|     405490|     60305|                 3|  Male|    1|       0|      C|0.39435585511331855|0.9189578116202306|     0.0|     1.0| 0.6691306063588582|0.7431448254773942|                  2.0|               3.0|              2.0|\n",
      "|    145098|1005580|     359520|     13787|                 4|  Male|    0|       1|      C|0.39435585511331855|0.9189578116202306|     0.0|     1.0| 0.7431448254773942|0.6691306063588582|                  3.0|               3.0|              3.0|\n",
      "|      6186| 683742|     404347|     53587|                 1|  Male|    1|       0|      I|0.39435585511331855|0.9189578116202306|     0.0|     1.0| 0.7431448254773942|0.6691306063588582|                  3.0|               3.0|              3.0|\n",
      "|    390842| 165113|     105960|     11085|                 5|  Male|    1|       0|      H|0.39435585511331855|0.9189578116202306|     0.0|     1.0| 0.8660254037844386|0.5000000000000001|                  2.0|               3.0|              2.0|\n",
      "+----------+-------+-----------+----------+------------------+------+-----+--------+-------+-------------------+------------------+--------+--------+-------------------+------------------+---------------------+------------------+-----------------+\n",
      "only showing top 20 rows\n",
      "\n"
     ]
    }
   ],
   "source": [
    "ctr1_temp.show()"
   ]
  },
  {
   "cell_type": "code",
   "execution_count": 33,
   "id": "d96178e9-dd03-48ff-911b-f5079c219c86",
   "metadata": {},
   "outputs": [
    {
     "name": "stdout",
     "output_type": "stream",
     "text": [
      "+----------+-------+-----------+----------+------------------+------+-----+--------+-------+-------+-------+--------+--------+----------+----------+---------------------+------------------+-----------------+\n",
      "|session_id|user_id|campaign_id|webpage_id|product_category_1|gender|var_1|is_click|product|day_sin|day_cos|hour_sin|hour_cos|minute_sin|minute_cos|user_group_id_imputed|user_depth_imputed|age_level_imputed|\n",
      "+----------+-------+-----------+----------+------------------+------+-----+--------+-------+-------+-------+--------+--------+----------+----------+---------------------+------------------+-----------------+\n",
      "|         0|      0|          0|         0|                 0|     0|    0|       0|      0|      0|      0|       0|       0|         0|         0|                    0|                 0|                0|\n",
      "+----------+-------+-----------+----------+------------------+------+-----+--------+-------+-------+-------+--------+--------+----------+----------+---------------------+------------------+-----------------+\n",
      "\n"
     ]
    }
   ],
   "source": [
    "from pyspark.sql.functions import isnan, when, count, col\n",
    "\n",
    "# Проверка на наличие значений NaN в DataFrame\n",
    "ctr1_temp.select([count(when(isnan(c), c)).alias(c) for c in ctr1_temp.columns]).show()"
   ]
  },
  {
   "cell_type": "code",
   "execution_count": 34,
   "id": "280c31f8-a43f-4a77-84fb-89b8a120fa4d",
   "metadata": {},
   "outputs": [],
   "source": [
    "# indexers_main = [StringIndexer(inputCol=c, outputCol=\"{0}_indexed\".format(c)).setHandleInvalid(\"skip\") for c in encode_main]\n",
    "# pipeline = Pipeline(stages=indexers_main)\n",
    "# main = pipeline.fit(main).transform(main).drop(*encode_main + [\"id\"])\n",
    "\n",
    "#Encode categorical columns\n",
    "indexers_temp = [StringIndexer(inputCol=c, outputCol=\"{0}_indexed\".format(c)).setHandleInvalid(\"skip\") for c in categoricalCols]\n",
    "pipeline = Pipeline(stages=indexers_temp)\n",
    "ctr1_temp = pipeline.fit(ctr1_temp).transform(ctr1_temp).drop(*categoricalCols + [\"session_id\"])"
   ]
  },
  {
   "cell_type": "code",
   "execution_count": 35,
   "id": "b95c5a18-4125-461a-b845-e857151e9fe7",
   "metadata": {},
   "outputs": [
    {
     "name": "stdout",
     "output_type": "stream",
     "text": [
      "+-------+-----------+----------+------------------+-----+--------+-------------------+------------------+--------+--------+-------------------+------------------+---------------------+------------------+-----------------+---------------+--------------+\n",
      "|user_id|campaign_id|webpage_id|product_category_1|var_1|is_click|            day_sin|           day_cos|hour_sin|hour_cos|         minute_sin|        minute_cos|user_group_id_imputed|user_depth_imputed|age_level_imputed|product_indexed|gender_indexed|\n",
      "+-------+-----------+----------+------------------+-----+--------+-------------------+------------------+--------+--------+-------------------+------------------+---------------------+------------------+-----------------+---------------+--------------+\n",
      "| 243253|     105960|     11085|                 5|    0|       0|0.39435585511331855|0.9189578116202306|     0.0|     1.0|                0.0|               1.0|                  8.0|               2.0|              2.0|            0.0|           1.0|\n",
      "| 509591|     359520|     13787|                 2|    0|       0|0.39435585511331855|0.9189578116202306|     0.0|     1.0|0.10452846326765346|0.9945218953682733|                  1.0|               3.0|              1.0|            2.0|           0.0|\n",
      "| 802278|     359520|     13787|                 3|    0|       0|0.39435585511331855|0.9189578116202306|     0.0|     1.0| 0.3090169943749474|0.9510565162951535|                 11.0|               3.0|              5.0|            1.0|           1.0|\n",
      "|  43157|     359520|     13787|                 4|    0|       0|0.39435585511331855|0.9189578116202306|     0.0|     1.0| 0.3090169943749474|0.9510565162951535|                  1.0|               3.0|              1.0|            0.0|           0.0|\n",
      "| 901661|     360936|     13787|                 3|    0|       0|0.39435585511331855|0.9189578116202306|     0.0|     1.0| 0.3090169943749474|0.9510565162951535|                  9.0|               3.0|              3.0|            0.0|           1.0|\n",
      "| 901661|     359520|     13787|                 4|    0|       0|0.39435585511331855|0.9189578116202306|     0.0|     1.0|0.40673664307580015|0.9135454576426009|                  9.0|               3.0|              3.0|            0.0|           1.0|\n",
      "| 901661|     360936|     13787|                 5|    0|       0|0.39435585511331855|0.9189578116202306|     0.0|     1.0|0.40673664307580015|0.9135454576426009|                  9.0|               3.0|              3.0|            0.0|           1.0|\n",
      "|  72512|     359520|     13787|                 4|    0|       0|0.39435585511331855|0.9189578116202306|     0.0|     1.0|0.40673664307580015|0.9135454576426009|                  3.0|               3.0|              3.0|            0.0|           0.0|\n",
      "| 144675|     359520|     13787|                 3|    0|       0|0.39435585511331855|0.9189578116202306|     0.0|     1.0|0.40673664307580015|0.9135454576426009|                  2.0|               3.0|              2.0|            2.0|           0.0|\n",
      "| 929999|     359520|     13787|                 3|    0|       1|0.39435585511331855|0.9189578116202306|     0.0|     1.0|0.49999999999999994|0.8660254037844387|                  2.0|               2.0|              2.0|            1.0|           0.0|\n",
      "|  99306|     105960|     11085|                 5|    0|       0|0.39435585511331855|0.9189578116202306|     0.0|     1.0| 0.5877852522924731|0.8090169943749475|                  4.0|               3.0|              4.0|            1.0|           0.0|\n",
      "| 263153|     359520|     13787|                 4|    0|       0|0.39435585511331855|0.9189578116202306|     0.0|     1.0| 0.5877852522924731|0.8090169943749475|                  3.0|               3.0|              3.0|            0.0|           0.0|\n",
      "| 584496|     359520|     13787|                 4|    1|       0|0.39435585511331855|0.9189578116202306|     0.0|     1.0| 0.5877852522924731|0.8090169943749475|                  2.0|               3.0|              2.0|            0.0|           0.0|\n",
      "| 109078|     359520|     13787|                 4|    0|       0|0.39435585511331855|0.9189578116202306|     0.0|     1.0| 0.6691306063588582|0.7431448254773942|                  3.0|               3.0|              3.0|            3.0|           0.0|\n",
      "| 236496|     405490|     60305|                 2|    1|       0|0.39435585511331855|0.9189578116202306|     0.0|     1.0| 0.6691306063588582|0.7431448254773942|                  2.0|               3.0|              2.0|            0.0|           0.0|\n",
      "| 740951|      98970|      6970|                 4|    1|       1|0.39435585511331855|0.9189578116202306|     0.0|     1.0| 0.6691306063588582|0.7431448254773942|                  9.0|               3.0|              3.0|            8.0|           1.0|\n",
      "| 236496|     405490|     60305|                 3|    1|       0|0.39435585511331855|0.9189578116202306|     0.0|     1.0| 0.6691306063588582|0.7431448254773942|                  2.0|               3.0|              2.0|            0.0|           0.0|\n",
      "| 683742|     404347|     53587|                 1|    1|       0|0.39435585511331855|0.9189578116202306|     0.0|     1.0| 0.7431448254773942|0.6691306063588582|                  3.0|               3.0|              3.0|            2.0|           0.0|\n",
      "|1005580|     359520|     13787|                 4|    0|       1|0.39435585511331855|0.9189578116202306|     0.0|     1.0| 0.7431448254773942|0.6691306063588582|                  3.0|               3.0|              3.0|            0.0|           0.0|\n",
      "| 165113|     105960|     11085|                 5|    1|       0|0.39435585511331855|0.9189578116202306|     0.0|     1.0| 0.8660254037844386|0.5000000000000001|                  2.0|               3.0|              2.0|            1.0|           0.0|\n",
      "+-------+-----------+----------+------------------+-----+--------+-------------------+------------------+--------+--------+-------------------+------------------+---------------------+------------------+-----------------+---------------+--------------+\n",
      "only showing top 20 rows\n",
      "\n"
     ]
    }
   ],
   "source": [
    "ctr1_temp.show()"
   ]
  },
  {
   "cell_type": "code",
   "execution_count": 36,
   "id": "277d7710-5f37-4204-9275-4614f5505079",
   "metadata": {},
   "outputs": [],
   "source": [
    "# ctr1_temp.printSchema()"
   ]
  },
  {
   "cell_type": "code",
   "execution_count": 37,
   "id": "02aaca91-568a-47dd-b78c-764032cff675",
   "metadata": {},
   "outputs": [
    {
     "data": {
      "text/html": [
       "<div>\n",
       "<style scoped>\n",
       "    .dataframe tbody tr th:only-of-type {\n",
       "        vertical-align: middle;\n",
       "    }\n",
       "\n",
       "    .dataframe tbody tr th {\n",
       "        vertical-align: top;\n",
       "    }\n",
       "\n",
       "    .dataframe thead th {\n",
       "        text-align: right;\n",
       "    }\n",
       "</style>\n",
       "<table border=\"1\" class=\"dataframe\">\n",
       "  <thead>\n",
       "    <tr style=\"text-align: right;\">\n",
       "      <th></th>\n",
       "      <th>0</th>\n",
       "      <th>1</th>\n",
       "      <th>2</th>\n",
       "      <th>3</th>\n",
       "      <th>4</th>\n",
       "    </tr>\n",
       "  </thead>\n",
       "  <tbody>\n",
       "    <tr>\n",
       "      <th>summary</th>\n",
       "      <td>count</td>\n",
       "      <td>mean</td>\n",
       "      <td>stddev</td>\n",
       "      <td>min</td>\n",
       "      <td>max</td>\n",
       "    </tr>\n",
       "    <tr>\n",
       "      <th>user_id</th>\n",
       "      <td>111331</td>\n",
       "      <td>544086.1720455219</td>\n",
       "      <td>329180.2633261691</td>\n",
       "      <td>6</td>\n",
       "      <td>1141723</td>\n",
       "    </tr>\n",
       "    <tr>\n",
       "      <th>campaign_id</th>\n",
       "      <td>111331</td>\n",
       "      <td>309497.61599195196</td>\n",
       "      <td>126791.32239255596</td>\n",
       "      <td>82320</td>\n",
       "      <td>414149</td>\n",
       "    </tr>\n",
       "    <tr>\n",
       "      <th>webpage_id</th>\n",
       "      <td>111331</td>\n",
       "      <td>30433.83671214666</td>\n",
       "      <td>21820.098982957745</td>\n",
       "      <td>1734</td>\n",
       "      <td>60305</td>\n",
       "    </tr>\n",
       "    <tr>\n",
       "      <th>product_category_1</th>\n",
       "      <td>111331</td>\n",
       "      <td>3.057962292622899</td>\n",
       "      <td>1.2970576231340751</td>\n",
       "      <td>1</td>\n",
       "      <td>5</td>\n",
       "    </tr>\n",
       "    <tr>\n",
       "      <th>var_1</th>\n",
       "      <td>111331</td>\n",
       "      <td>0.4276436931312932</td>\n",
       "      <td>0.4947390861921692</td>\n",
       "      <td>0</td>\n",
       "      <td>1</td>\n",
       "    </tr>\n",
       "    <tr>\n",
       "      <th>day_sin</th>\n",
       "      <td>111331</td>\n",
       "      <td>0.736099984013218</td>\n",
       "      <td>0.208895201558359</td>\n",
       "      <td>0.39435585511331855</td>\n",
       "      <td>0.9884683243281114</td>\n",
       "    </tr>\n",
       "    <tr>\n",
       "      <th>day_cos</th>\n",
       "      <td>111331</td>\n",
       "      <td>0.5875422197750334</td>\n",
       "      <td>0.2632769698332408</td>\n",
       "      <td>0.1514277775045767</td>\n",
       "      <td>0.9189578116202306</td>\n",
       "    </tr>\n",
       "    <tr>\n",
       "      <th>hour_sin</th>\n",
       "      <td>111331</td>\n",
       "      <td>-0.10973734648798579</td>\n",
       "      <td>0.7476187037675234</td>\n",
       "      <td>-1.0</td>\n",
       "      <td>1.0</td>\n",
       "    </tr>\n",
       "    <tr>\n",
       "      <th>minute_sin</th>\n",
       "      <td>111331</td>\n",
       "      <td>0.011187022386531452</td>\n",
       "      <td>0.7085430704397715</td>\n",
       "      <td>-1.0</td>\n",
       "      <td>1.0</td>\n",
       "    </tr>\n",
       "    <tr>\n",
       "      <th>user_group_id_imputed</th>\n",
       "      <td>111331</td>\n",
       "      <td>3.4391858512004743</td>\n",
       "      <td>2.3626958916570993</td>\n",
       "      <td>0.0</td>\n",
       "      <td>12.0</td>\n",
       "    </tr>\n",
       "    <tr>\n",
       "      <th>user_depth_imputed</th>\n",
       "      <td>111331</td>\n",
       "      <td>2.883931699167348</td>\n",
       "      <td>0.3925810395329124</td>\n",
       "      <td>1.0</td>\n",
       "      <td>3.0</td>\n",
       "    </tr>\n",
       "    <tr>\n",
       "      <th>age_level_imputed</th>\n",
       "      <td>111331</td>\n",
       "      <td>2.7809325345141964</td>\n",
       "      <td>1.0533772131855135</td>\n",
       "      <td>0.0</td>\n",
       "      <td>6.0</td>\n",
       "    </tr>\n",
       "    <tr>\n",
       "      <th>product_indexed</th>\n",
       "      <td>111331</td>\n",
       "      <td>1.8293197761629734</td>\n",
       "      <td>2.181095817912417</td>\n",
       "      <td>0.0</td>\n",
       "      <td>9.0</td>\n",
       "    </tr>\n",
       "    <tr>\n",
       "      <th>gender_indexed</th>\n",
       "      <td>111331</td>\n",
       "      <td>0.1097717616836281</td>\n",
       "      <td>0.3126064615272616</td>\n",
       "      <td>0.0</td>\n",
       "      <td>1.0</td>\n",
       "    </tr>\n",
       "  </tbody>\n",
       "</table>\n",
       "</div>"
      ],
      "text/plain": [
       "                            0                     1                   2  \\\n",
       "summary                 count                  mean              stddev   \n",
       "user_id                111331     544086.1720455219   329180.2633261691   \n",
       "campaign_id            111331    309497.61599195196  126791.32239255596   \n",
       "webpage_id             111331     30433.83671214666  21820.098982957745   \n",
       "product_category_1     111331     3.057962292622899  1.2970576231340751   \n",
       "var_1                  111331    0.4276436931312932  0.4947390861921692   \n",
       "day_sin                111331     0.736099984013218   0.208895201558359   \n",
       "day_cos                111331    0.5875422197750334  0.2632769698332408   \n",
       "hour_sin               111331  -0.10973734648798579  0.7476187037675234   \n",
       "minute_sin             111331  0.011187022386531452  0.7085430704397715   \n",
       "user_group_id_imputed  111331    3.4391858512004743  2.3626958916570993   \n",
       "user_depth_imputed     111331     2.883931699167348  0.3925810395329124   \n",
       "age_level_imputed      111331    2.7809325345141964  1.0533772131855135   \n",
       "product_indexed        111331    1.8293197761629734   2.181095817912417   \n",
       "gender_indexed         111331    0.1097717616836281  0.3126064615272616   \n",
       "\n",
       "                                         3                   4  \n",
       "summary                                min                 max  \n",
       "user_id                                  6             1141723  \n",
       "campaign_id                          82320              414149  \n",
       "webpage_id                            1734               60305  \n",
       "product_category_1                       1                   5  \n",
       "var_1                                    0                   1  \n",
       "day_sin                0.39435585511331855  0.9884683243281114  \n",
       "day_cos                 0.1514277775045767  0.9189578116202306  \n",
       "hour_sin                              -1.0                 1.0  \n",
       "minute_sin                            -1.0                 1.0  \n",
       "user_group_id_imputed                  0.0                12.0  \n",
       "user_depth_imputed                     1.0                 3.0  \n",
       "age_level_imputed                      0.0                 6.0  \n",
       "product_indexed                        0.0                 9.0  \n",
       "gender_indexed                         0.0                 1.0  "
      ]
     },
     "execution_count": 37,
     "metadata": {},
     "output_type": "execute_result"
    }
   ],
   "source": [
    "import pandas as pd\n",
    "#and t[0] != 'month_cos' and t[0] != 'day_cos'\n",
    "numeric_features = [t[0] for t in ctr1_temp.dtypes if (t[0] != 'is_click' and t[0] != 'hour_cos' and t[0] != 'minute_cos') and (t[1] == 'int' or t[1] == 'float'or t[1] == 'double')]\n",
    "ctr1_temp.select(numeric_features).describe().toPandas().transpose()"
   ]
  },
  {
   "cell_type": "code",
   "execution_count": 38,
   "id": "972ba52e-e7ea-4956-a165-11e3e67bb587",
   "metadata": {},
   "outputs": [],
   "source": [
    "numeric_data = ctr1_temp.select(numeric_features).toPandas()\n",
    "axs = pd.plotting.scatter_matrix(numeric_data, figsize=(12, 12));\n",
    "n = len(numeric_data.columns)\n",
    "\n",
    "for i in range(n):\n",
    "    v = axs[i, 0]\n",
    "    v.yaxis.label.set_rotation(0)\n",
    "    v.yaxis.label.set_ha('right')\n",
    "    v.set_yticks(())\n",
    "    h = axs[n-1, i]\n",
    "    h.xaxis.label.set_rotation(90)\n",
    "    h.set_xticks(())"
   ]
  },
  {
   "cell_type": "code",
   "execution_count": 39,
   "id": "d7cebfcf-d13d-4c55-9da1-d3898eeb5b4c",
   "metadata": {},
   "outputs": [],
   "source": [
    "# ctr1_temp.schema.names"
   ]
  },
  {
   "cell_type": "code",
   "execution_count": 40,
   "id": "7d546fea-4273-439f-b073-e77b124db751",
   "metadata": {},
   "outputs": [],
   "source": [
    "# # Encode cyclical month and days\n",
    "# ctr1_temp[\"month_sin\"] = sin(2 * math.pi * ctr1_temp.month / 12)\n",
    "# ctr1_temp[\"month_cos\"] = cos(2 * math.pi * ctr1_temp.month / 12)\n",
    "# ctr1_temp[\"day_sin\"] = sin(2 * math.pi * ctr1_temp.day / 31)\n",
    "# ctr1_temp[\"day_cos\"] = cos(2 * math.pi * ctr1_temp.day / 31)\n",
    "\n",
    "# # Encode cyclical month and days\n",
    "# ctr1_temp = ctr1_temp.withColumn(\"month_sin\", sin(2 * math.pi * ctr1_temp.month / 12))\n",
    "# ctr1_temp = ctr1_temp.withColumn(\"month_cos\", cos(2 * math.pi * ctr1_temp.month / 12))\n",
    "# ctr1_temp = ctr1_temp.withColumn(\"day_sin\", sin(2 * math.pi * ctr1_temp.day / 31))\n",
    "# ctr1_temp = ctr1_temp.withColumn(\"day_cos\", cos(2 * math.pi * ctr1_temp.day / 31))\n",
    "# ctr1_temp = ctr1_temp.drop(*[\"month\", \"day\"])\n",
    "\n",
    "\n",
    "# Assemble all features into single column\n",
    "assembler = VectorAssembler(inputCols=[i for i in ctr1_temp.schema.names if i != \"is_click\"], outputCol=\"features\")\n",
    "pipeline = Pipeline(stages=[assembler])\n",
    "# ctr1_temp = pipeline.fit(ctr1_temp).transform(ctr1_temp)\n",
    "# ctr1_temp = ctr1_temp.select([\"label\", \"features\"])\n",
    "# # .withColumnRenamed(\"sales\", \"label\")\n",
    "\n",
    "# # Display final table\n",
    "# ctr1_temp.show()"
   ]
  },
  {
   "cell_type": "code",
   "execution_count": 41,
   "id": "02360b53-6842-4781-893d-42ba51d62d37",
   "metadata": {},
   "outputs": [
    {
     "name": "stdout",
     "output_type": "stream",
     "text": [
      "+-------+-----------+----------+------------------+-----+--------+-------------------+------------------+--------+--------+-------------------+------------------+---------------------+------------------+-----------------+---------------+--------------+\n",
      "|user_id|campaign_id|webpage_id|product_category_1|var_1|is_click|            day_sin|           day_cos|hour_sin|hour_cos|         minute_sin|        minute_cos|user_group_id_imputed|user_depth_imputed|age_level_imputed|product_indexed|gender_indexed|\n",
      "+-------+-----------+----------+------------------+-----+--------+-------------------+------------------+--------+--------+-------------------+------------------+---------------------+------------------+-----------------+---------------+--------------+\n",
      "| 243253|     105960|     11085|                 5|    0|       0|0.39435585511331855|0.9189578116202306|     0.0|     1.0|                0.0|               1.0|                  8.0|               2.0|              2.0|            0.0|           1.0|\n",
      "| 509591|     359520|     13787|                 2|    0|       0|0.39435585511331855|0.9189578116202306|     0.0|     1.0|0.10452846326765346|0.9945218953682733|                  1.0|               3.0|              1.0|            2.0|           0.0|\n",
      "|  43157|     359520|     13787|                 4|    0|       0|0.39435585511331855|0.9189578116202306|     0.0|     1.0| 0.3090169943749474|0.9510565162951535|                  1.0|               3.0|              1.0|            0.0|           0.0|\n",
      "| 901661|     360936|     13787|                 3|    0|       0|0.39435585511331855|0.9189578116202306|     0.0|     1.0| 0.3090169943749474|0.9510565162951535|                  9.0|               3.0|              3.0|            0.0|           1.0|\n",
      "| 802278|     359520|     13787|                 3|    0|       0|0.39435585511331855|0.9189578116202306|     0.0|     1.0| 0.3090169943749474|0.9510565162951535|                 11.0|               3.0|              5.0|            1.0|           1.0|\n",
      "| 144675|     359520|     13787|                 3|    0|       0|0.39435585511331855|0.9189578116202306|     0.0|     1.0|0.40673664307580015|0.9135454576426009|                  2.0|               3.0|              2.0|            2.0|           0.0|\n",
      "| 901661|     359520|     13787|                 4|    0|       0|0.39435585511331855|0.9189578116202306|     0.0|     1.0|0.40673664307580015|0.9135454576426009|                  9.0|               3.0|              3.0|            0.0|           1.0|\n",
      "| 901661|     360936|     13787|                 5|    0|       0|0.39435585511331855|0.9189578116202306|     0.0|     1.0|0.40673664307580015|0.9135454576426009|                  9.0|               3.0|              3.0|            0.0|           1.0|\n",
      "|  72512|     359520|     13787|                 4|    0|       0|0.39435585511331855|0.9189578116202306|     0.0|     1.0|0.40673664307580015|0.9135454576426009|                  3.0|               3.0|              3.0|            0.0|           0.0|\n",
      "| 929999|     359520|     13787|                 3|    0|       1|0.39435585511331855|0.9189578116202306|     0.0|     1.0|0.49999999999999994|0.8660254037844387|                  2.0|               2.0|              2.0|            1.0|           0.0|\n",
      "| 263153|     359520|     13787|                 4|    0|       0|0.39435585511331855|0.9189578116202306|     0.0|     1.0| 0.5877852522924731|0.8090169943749475|                  3.0|               3.0|              3.0|            0.0|           0.0|\n",
      "| 584496|     359520|     13787|                 4|    1|       0|0.39435585511331855|0.9189578116202306|     0.0|     1.0| 0.5877852522924731|0.8090169943749475|                  2.0|               3.0|              2.0|            0.0|           0.0|\n",
      "|  99306|     105960|     11085|                 5|    0|       0|0.39435585511331855|0.9189578116202306|     0.0|     1.0| 0.5877852522924731|0.8090169943749475|                  4.0|               3.0|              4.0|            1.0|           0.0|\n",
      "| 236496|     405490|     60305|                 3|    1|       0|0.39435585511331855|0.9189578116202306|     0.0|     1.0| 0.6691306063588582|0.7431448254773942|                  2.0|               3.0|              2.0|            0.0|           0.0|\n",
      "| 236496|     405490|     60305|                 2|    1|       0|0.39435585511331855|0.9189578116202306|     0.0|     1.0| 0.6691306063588582|0.7431448254773942|                  2.0|               3.0|              2.0|            0.0|           0.0|\n",
      "| 109078|     359520|     13787|                 4|    0|       0|0.39435585511331855|0.9189578116202306|     0.0|     1.0| 0.6691306063588582|0.7431448254773942|                  3.0|               3.0|              3.0|            3.0|           0.0|\n",
      "| 740951|      98970|      6970|                 4|    1|       1|0.39435585511331855|0.9189578116202306|     0.0|     1.0| 0.6691306063588582|0.7431448254773942|                  9.0|               3.0|              3.0|            8.0|           1.0|\n",
      "|1005580|     359520|     13787|                 4|    0|       1|0.39435585511331855|0.9189578116202306|     0.0|     1.0| 0.7431448254773942|0.6691306063588582|                  3.0|               3.0|              3.0|            0.0|           0.0|\n",
      "| 683742|     404347|     53587|                 1|    1|       0|0.39435585511331855|0.9189578116202306|     0.0|     1.0| 0.7431448254773942|0.6691306063588582|                  3.0|               3.0|              3.0|            2.0|           0.0|\n",
      "| 165113|     105960|     11085|                 5|    1|       0|0.39435585511331855|0.9189578116202306|     0.0|     1.0| 0.8660254037844386|0.5000000000000001|                  2.0|               3.0|              2.0|            1.0|           0.0|\n",
      "+-------+-----------+----------+------------------+-----+--------+-------------------+------------------+--------+--------+-------------------+------------------+---------------------+------------------+-----------------+---------------+--------------+\n",
      "only showing top 20 rows\n",
      "\n"
     ]
    }
   ],
   "source": [
    "ctr1_temp.show()"
   ]
  },
  {
   "cell_type": "code",
   "execution_count": 42,
   "id": "4e3c3716-c47e-4cc5-8490-2610cb85b069",
   "metadata": {},
   "outputs": [],
   "source": [
    "ctr1_temp = pipeline.fit(ctr1_temp).transform(ctr1_temp)\n",
    "# ctr1_temp = ctr1_temp.select([\"label\", \"features\"])\n",
    "# # .withColumnRenamed(\"sales\", \"label\")\n",
    "\n",
    "# # Display final table\n",
    "# ctr1_temp.show()"
   ]
  },
  {
   "cell_type": "code",
   "execution_count": 43,
   "id": "c2da894b-e3c4-40a4-90d5-459398bb4ebe",
   "metadata": {},
   "outputs": [
    {
     "name": "stdout",
     "output_type": "stream",
     "text": [
      "+-----+--------------------+\n",
      "|label|            features|\n",
      "+-----+--------------------+\n",
      "|    0|[243253.0,105960....|\n",
      "|    0|[509591.0,359520....|\n",
      "|    0|[802278.0,359520....|\n",
      "|    0|[43157.0,359520.0...|\n",
      "|    0|[901661.0,360936....|\n",
      "|    0|[901661.0,359520....|\n",
      "|    0|[901661.0,360936....|\n",
      "|    0|[72512.0,359520.0...|\n",
      "|    0|[144675.0,359520....|\n",
      "|    1|[929999.0,359520....|\n",
      "|    0|[99306.0,105960.0...|\n",
      "|    0|[263153.0,359520....|\n",
      "|    0|[584496.0,359520....|\n",
      "|    1|[740951.0,98970.0...|\n",
      "|    0|[236496.0,405490....|\n",
      "|    0|[109078.0,359520....|\n",
      "|    0|[236496.0,405490....|\n",
      "|    0|[683742.0,404347....|\n",
      "|    1|[1005580.0,359520...|\n",
      "|    0|[165113.0,105960....|\n",
      "+-----+--------------------+\n",
      "only showing top 20 rows\n",
      "\n"
     ]
    }
   ],
   "source": [
    "ctr1_temp = ctr1_temp.select([\"is_click\", \"features\"]).withColumnRenamed(\"is_click\", \"label\")\n",
    "\n",
    "# Display final table\n",
    "ctr1_temp.show()"
   ]
  },
  {
   "cell_type": "code",
   "execution_count": 44,
   "id": "1389febd-20de-4346-9d16-57dba4cf56bc",
   "metadata": {},
   "outputs": [],
   "source": [
    "# # from pyspark.ml import Pipeline\n",
    "# # from pyspark.ml.feature import StringIndexer, OneHotEncoder, VectorAssembler, Word2Vec, Tokenizer, RegexTokenizer\n",
    "# # from pyspark.sql.functions import col\n",
    "# # from pyspark.ml.feature import Imputer\n",
    "\n",
    "# categoricalCols = ['product', 'gender']\n",
    "# # textCols = ['ename_job']\n",
    "# #fill missing values\n",
    "# nanCols = ['user_group_id', 'user_depth', 'age_level']\n",
    "\n",
    "# # Since the tokenizer only return tokens separated by white spaces, I used RegexTokenizer to tokenize by '_'\n",
    "# # Then created word2Vec model\n",
    "\n",
    "# # tokenizer = Tokenizer(inputCol=\"ename\", outputCol=\"ename_tokens\")\n",
    "# # emps_tok = tokenizer.transform(emps)\n",
    "# # tokenizer = RegexTokenizer(inputCol=textCols[0], outputCol=\"ename_job_tokens\", pattern=\"_\")\n",
    "# # emps_tok = tokenizer.transform(emps)\n",
    "# # emps_tok.show()\n",
    "\n",
    "# # word2Vec = Word2Vec(vectorSize=5, seed=42, minCount=1, inputCol=\"ename_job_tokens\", outputCol=\"ename_enc\")\n",
    "# # word2VecModel = word2Vec.fit(emps_tok)\n",
    "# # print(word2VecModel)\n",
    "\n",
    "# # emps_tok = word2VecModel.transform(emps_tok)\n",
    "# # emps_tok.show()\n",
    "\n",
    "# # Adding the encoded ename_job to the list of other columns\n",
    "# # others += [ename_enc]\n",
    "\n",
    "\n",
    "# # Create String indexer to assign index for the string fields where each unique string will get a unique index\n",
    "# # String Indexer is required as an input for One-Hot Encoder \n",
    "# # We set the case as `skip` for any string out of the input strings\n",
    "# # indexers = [ StringIndexer(inputCol=c, outputCol=\"{0}_indexed\".format(c)).setHandleInvalid(\"skip\") for c in categoricalCols ]\n",
    "\n",
    "# # Encode the strings using One Hot encoding\n",
    "# # default setting: dropLast=True ==> For example with 5 categories, an input value of 2.0 would map to an output vector of [0.0, 0.0, 1.0, 0.0]. The last category is not included by default (configurable via dropLast), because it makes the vector entries sum up to one, and hence linearly dependent. So an input value of 4.0 maps to [0.0, 0.0, 0.0, 0.0].\n",
    "# # encoders = [ OneHotEncoder(inputCol=indexer.getOutputCol(), outputCol=\"{0}_encoded\".format(indexer.getOutputCol())) for indexer in indexers ]\n",
    "\n",
    "# # This will concatenate the input cols into a single column.\n",
    "# # assembler = VectorAssembler(inputCols=[encoder.getOutputCol() for encoder in encoders] + others, outputCol= \"features\")\n",
    "\n",
    "# # You can create a pipeline to use only a single fit and transform on the data.\n",
    "# # pipeline = Pipeline(stages=[tokenizer, word2Vec] + indexers + encoders + [assembler])\n",
    "\n",
    "\n",
    "# # Fit the pipeline ==> This will call the fit functions for all transformers if exist\n",
    "# # model=pipeline.fit(emps)\n",
    "# # Fit the pipeline ==> This will call the transform functions for all transformers\n",
    "# # data = model.transform(emps)\n",
    "\n",
    "# # data.show()\n",
    "\n",
    "\n",
    "# #Сашин код\n",
    "# ###################################################\n",
    "# # # Table main\n",
    "# # # Encode categorical features in table \n",
    "# # mainindexers_main = [StringIndexer(inputCol=c, outputCol=\"{0}_indexed\".format(c)).setHandleInvalid(\"skip\") for c in encode_main]\n",
    "# # pipeline = Pipeline(stages=indexers_main)main = pipeline.fit(main).transform(main).drop(*encode_main + [\"id\"])\n",
    "# # # Table oil\n",
    "# # # Fill missing values in oil table with average of \n",
    "# # neighborswindow = Window.rowsBetween(-1, 1)\n",
    "# # oil = oil.withColumn(\"avg_dcoilwtico\", avg(oil[\"dcoilwtico\"]).over(window))oil = oil.withColumn(\"dcoilwtico\", coalesce(oil[\"dcoilwtico\"], oil[\"avg_dcoilwtico\"]))\n",
    "# # oil = oil.drop(\"avg_dcoilwtico\")\n",
    "# # # Table holidays_events# Convert boolean \"transferred\" column to integer column\n",
    "# # hol_events = hol_events.withColumn('transferred', when(hol_events.transferred==True, 1).otherwise(0))\n",
    "# # # Encode categorical features in table \n",
    "# # holidays_eventsindexers_hol_events = [StringIndexer(inputCol=c, outputCol=\"{0}_indexed\".format(c)).setHandleInvalid(\"skip\") for c in encode_hol_events]\n",
    "# # pipeline = Pipeline(stages=indexers_hol_events)hol_events = pipeline.fit(hol_events).transform(hol_events).drop(*(encode_hol_events + [\"description\", \"id\"]))\n",
    "# # # Table stores\n",
    "# # # Encode categorical features in table \n",
    "# # storesindexers_stores = [StringIndexer(inputCol=c, outputCol=\"{0}_indexed\".format(c)).setHandleInvalid(\"skip\") for c in encode_stores]\n",
    "# # pipeline = Pipeline(stages=indexers_stores)stores = pipeline.fit(stores).transform(stores).drop(*encode_stores)\n",
    "\n",
    "# # # We delete all features and keep only the features and label columns\n",
    "# # data = data.select([\"features\", \"label\"])\n",
    "\n",
    "\n",
    "\n",
    "\n",
    "\n",
    "\n",
    "# ctr1_temp = ctr\n",
    "\n",
    "# # Table main\n",
    "# # Encode categorical features in table main\n",
    "# #Это безобразие у меня сработало!!!!\n",
    "# indexers_temp = [StringIndexer(inputCol=c, outputCol=\"{0}_indexed\".format(c)).setHandleInvalid(\"skip\") for c in categoricalCols]\n",
    "# pipeline = Pipeline(stages=categoricalCols)\n",
    "# ctr1_temp = pipeline.fit(ctr1_temp).transform(ctr1_temp).drop(*categoricalCols + [\"session_id\"])\n",
    "# #!!!!!!!!!!!!!!!!!!!!!!!!!!!!!!!!!!!!!!!!!!!!!!!!!!!!!!!!!!!!!!!!!!!!!\n",
    "\n",
    "\n",
    "\n",
    "\n",
    "# # Table\n",
    "# # Fill missing values in oil table with median\n",
    "\n",
    "# imputer = Imputer(\n",
    "#     inputCols=nanCols, outputCols=[\"{}_imputed\".format(c) for c in nanCols]\n",
    "#     ).setStrategy(\"median\")\n",
    "\n",
    "# # Add imputation cols to df\n",
    "# ctr1_temp = imputer.fit(ctr1_temp).transform(ctr1_temp)\n",
    "\n",
    "# # Замена пустых значений (например, пустых строк) на указанное значение\n",
    "# ctr1_temp = ctr1_temp.withColumn(\"gender\", when(ctr1_temp[\"gender\"] == \"NaN\", 'Male').otherwise(ctr1_temp[\"gender\"]))\n",
    "# #drop these columns\n",
    "# ctr1_temp = ctr1_temp.drop(*[\"product_category_2\", \"city_development_index\"])\n",
    "\n",
    "# # window = Window.rowsBetween(-1, 1)\n",
    "# # oil = oil.withColumn(\"avg_dcoilwtico\", avg(oil[\"dcoilwtico\"]).over(window))\n",
    "# # oil = oil.withColumn(\"dcoilwtico\", coalesce(oil[\"dcoilwtico\"], oil[\"avg_dcoilwtico\"]))\n",
    "# # oil = oil.drop(*[\"avg_dcoilwtico\", \"id\"])\n",
    "\n",
    "# # Table holidays_events\n",
    "# # Convert boolean \"transferred\" column to integer column\n",
    "# # hol_events = hol_events.withColumn('transferred', when(hol_events.transferred, 1).otherwise(0)).drop(\"id\")\n",
    "\n",
    "# # Encode categorical features in table holidays_events\n",
    "# # indexers_hol_events = [StringIndexer(inputCol=c, outputCol=\"{0}_indexed\".format(c)).setHandleInvalid(\"skip\") for c in encode_hol_events]\n",
    "# # pipeline = Pipeline(stages=indexers_hol_events)\n",
    "# # hol_events = pipeline.fit(hol_events).transform(hol_events).drop(*(encode_hol_events + [\"description\", \"id\"]))\n",
    "\n",
    "# # Table stores\n",
    "# # Encode categorical features in table stores\n",
    "# # stores = stores.withColumnRenamed(\"type\", \"type_store\")\n",
    "# # indexers_stores = [StringIndexer(inputCol=c, outputCol=\"{0}_indexed\".format(c)).setHandleInvalid(\"skip\") for c in encode_stores]\n",
    "# # pipeline = Pipeline(stages=indexers_stores)\n",
    "# # stores = pipeline.fit(stores).transform(stores).drop(*encode_stores)\n",
    "\n",
    "# # Table transactions\n",
    "# # transactions = transactions.drop(\"id\")\n",
    "\n",
    "# # Join tables\n",
    "# # total_data = main. \\\n",
    "# #     join(oil, on=\"dates\"). \\\n",
    "# #     join(hol_events, on=\"dates\"). \\\n",
    "# #     join(transactions, on=[\"dates\", \"store_nbr\"]). \\\n",
    "# #     join(stores, on=\"store_nbr\")\n",
    "\n",
    "# # Split dates to year, month, day\n",
    "# # total_data = total_data. \\\n",
    "# #     withColumn(\"year\", date_format(\"dates\", \"yyyy\").cast('int')). \\\n",
    "# #     withColumn(\"month\", date_format(\"dates\", \"MM\").cast('int')). \\\n",
    "# #     withColumn(\"day\", date_format(\"dates\", \"DD\").cast('int')). \\\n",
    "# #     drop(\"dates\")\n",
    "\n",
    "# # Encode cyclical month and days\n",
    "# ctr1_temp[\"month_sin\"] = sin(2 * math.pi * ctr1_temp.month / 12)\n",
    "# ctr1_temp[\"month_cos\"] = cos(2 * math.pi * ctr1_temp.month / 12)\n",
    "# ctr1_temp[\"day_sin\"] = sin(2 * math.pi * ctr1_temp.day / 31)\n",
    "# ctr1_temp[\"day_cos\"] = cos(2 * math.pi * ctr1_temp.day / 31)\n",
    "\n",
    "# # Assemble all features into single column\n",
    "# assembler = VectorAssembler(inputCols=[i for i in ctr1_temp.schema.names if i != \"label\"], outputCol=\"features\")\n",
    "# pipeline = Pipeline(stages=[assembler])\n",
    "# ctr1_temp = pipeline.fit(ctr1_temp).transform(ctr1_temp)\n",
    "# ctr1_temp = ctr1_temp.select([\"is_click\", \"features\"]).withColumnRenamed(\"is_click\", \"label\")\n",
    "\n",
    "# # Display final table\n",
    "# ctr1_temp.show()\n",
    "\n",
    "# ###########################################################################\n",
    "\n",
    "\n",
    "\n",
    "# # from pyspark.ml.feature import VectorIndexer\n",
    "\n",
    "# # Automatically identify categorical features, and index them.\n",
    "# # We specify maxCategories so features with > 4\n",
    "# # distinct values are treated as continuous.\n",
    "# # featureIndexer = VectorIndexer(inputCol=\"features\", outputCol=\"indexedFeatures\", maxCategories=4).fit(data)\n",
    "# # transformed = featureIndexer.transform(data)\n",
    "\n",
    "# # Display the output Spark DataFrame\n",
    "# # transformed.show()"
   ]
  },
  {
   "cell_type": "markdown",
   "id": "c4fd3df2-8f31-42ed-8f0f-7dfcb795a5e8",
   "metadata": {},
   "source": [
    "# Split the dataset"
   ]
  },
  {
   "cell_type": "code",
   "execution_count": 45,
   "id": "71ca00fb-a991-47d0-8d09-75e5604ed694",
   "metadata": {},
   "outputs": [
    {
     "data": {
      "text/plain": [
       "''"
      ]
     },
     "execution_count": 45,
     "metadata": {},
     "output_type": "execute_result"
    }
   ],
   "source": [
    "#  split the data into 60% training and 40% test (it is not stratified)\n",
    "(train_data, test_data) = ctr1_temp.randomSplit([0.6, 0.4], seed = 10)\n",
    "\n",
    "def run(command):\n",
    "    import os\n",
    "    # return os.popen(command).read()\n",
    "    #поменять потом, когда соберу весь пайплайн\n",
    "    return os.popen(\"cd ..\\n\" + command).read()\n",
    "\n",
    "\n",
    "train_data.select(\"features\", \"label\")\\\n",
    "    .coalesce(1)\\\n",
    "    .write\\\n",
    "    .mode(\"overwrite\")\\\n",
    "    .format(\"json\")\\\n",
    "    .save(\"project/data/train\")\n",
    "\n",
    "# Run it from root directory of the repository\n",
    "run(\"hdfs dfs -cat project/data/train/*.json > data/train.json\")\n",
    "\n",
    "test_data.select(\"features\", \"label\")\\\n",
    "    .coalesce(1)\\\n",
    "    .write\\\n",
    "    .mode(\"overwrite\")\\\n",
    "    .format(\"json\")\\\n",
    "    .save(\"project/data/test\")\n",
    "\n",
    "# Run it from root directory of the repository\n",
    "run(\"hdfs dfs -cat project/data/test/*.json > data/test.json\")"
   ]
  },
  {
   "cell_type": "markdown",
   "id": "12fecd52-189d-45af-841c-47819b311918",
   "metadata": {},
   "source": [
    "# First model"
   ]
  },
  {
   "cell_type": "markdown",
   "id": "6daffa79-5f41-4e78-aa1a-c914f8b3f1f5",
   "metadata": {},
   "source": [
    "## Build a model"
   ]
  },
  {
   "cell_type": "code",
   "execution_count": 46,
   "id": "9892ef1c-f7c4-4acd-8d7d-5630f0823c0c",
   "metadata": {},
   "outputs": [],
   "source": [
    "from pyspark.ml.classification import LogisticRegression\n",
    "# Create Linear Classification Model\n",
    "lr = LogisticRegression()\n",
    "\n",
    "# Fit the data to the pipeline stages\n",
    "model_lr = lr.fit(train_data)"
   ]
  },
  {
   "cell_type": "markdown",
   "id": "258b1396-77d4-4dd8-8777-d0e6fcbd629f",
   "metadata": {},
   "source": [
    "## Predict for test data"
   ]
  },
  {
   "cell_type": "code",
   "execution_count": 47,
   "id": "b9a0f1ff-a175-4e00-ac1b-a5476dd7dd19",
   "metadata": {},
   "outputs": [
    {
     "name": "stdout",
     "output_type": "stream",
     "text": [
      "+-----+--------------------+--------------------+--------------------+----------+\n",
      "|label|            features|       rawPrediction|         probability|prediction|\n",
      "+-----+--------------------+--------------------+--------------------+----------+\n",
      "|    0|[37.0,404347.0,53...|[0.46277478730315...|[0.61367222603532...|       0.0|\n",
      "|    0|[37.0,405490.0,60...|[0.60608899677783...|[0.64704813401533...|       0.0|\n",
      "|    0|[101.0,414149.0,4...|[1.01524437333942...|[0.73404522650545...|       0.0|\n",
      "|    0|[109.0,359520.0,1...|[1.12036472073845...|[0.75405636213384...|       0.0|\n",
      "|    0|[142.0,405490.0,6...|[0.87521605889529...|[0.70582989101672...|       0.0|\n",
      "|    0|[221.0,360936.0,1...|[1.10086494539901...|[0.75042213522709...|       0.0|\n",
      "|    0|[306.0,359520.0,1...|[0.95207768772755...|[0.72153282578744...|       0.0|\n",
      "|    0|[306.0,359520.0,1...|[1.05889495275728...|[0.74247931271108...|       0.0|\n",
      "|    0|[306.0,359520.0,1...|[1.08039398259569...|[0.74656853364536...|       0.0|\n",
      "|    0|[375.0,359520.0,1...|[1.09273882128103...|[0.74889710858632...|       0.0|\n",
      "|    0|[397.0,82320.0,17...|[1.15120326571057...|[0.75973062971112...|       0.0|\n",
      "|    0|[413.0,405490.0,6...|[0.61000761719470...|[0.64794253966378...|       0.0|\n",
      "|    0|[577.0,359520.0,1...|[1.20167626073378...|[0.76882284673134...|       0.0|\n",
      "|    0|[601.0,405490.0,6...|[0.70434414892457...|[0.66915022119790...|       0.0|\n",
      "|    0|[613.0,359520.0,1...|[1.20511612858198...|[0.76943366372260...|       0.0|\n",
      "|    0|[625.0,414149.0,4...|[0.87397427137541...|[0.70557198775116...|       0.0|\n",
      "|    0|[691.0,105960.0,1...|[0.94548426410316...|[0.72020612090897...|       0.0|\n",
      "|    0|[714.0,405490.0,6...|[0.83180111068237...|[0.69673563046619...|       0.0|\n",
      "|    0|[731.0,359520.0,1...|[1.24210974758812...|[0.77593103286343...|       0.0|\n",
      "|    0|[731.0,360936.0,1...|[1.23882612564611...|[0.77535961835306...|       0.0|\n",
      "+-----+--------------------+--------------------+--------------------+----------+\n",
      "only showing top 20 rows\n",
      "\n"
     ]
    }
   ],
   "source": [
    "predictions = model_lr.transform(test_data)\n",
    "predictions.show()"
   ]
  },
  {
   "cell_type": "markdown",
   "id": "32e97403-59a0-4ec4-b044-678ba6aa2b66",
   "metadata": {},
   "source": [
    "## Evaluate the model"
   ]
  },
  {
   "cell_type": "code",
   "execution_count": 48,
   "id": "4492ad2e-15bc-4ed6-97e1-b60a32649297",
   "metadata": {},
   "outputs": [],
   "source": [
    "# !pip install matplotlib"
   ]
  },
  {
   "cell_type": "code",
   "execution_count": 49,
   "id": "6670c975-566b-4bef-8a3e-c82bf5a171a8",
   "metadata": {},
   "outputs": [
    {
     "data": {
      "image/png": "[encoded data removed]",
      "text/plain": [
       "<Figure size 432x288 with 1 Axes>"
      ]
     },
     "metadata": {
      "needs_background": "light"
     },
     "output_type": "display_data"
    }
   ],
   "source": [
    "#надо дропнуть никто не шарит \n",
    "import matplotlib.pyplot as plt\n",
    "import numpy as np\n",
    "\n",
    "beta = np.sort(model_lr.coefficients)\n",
    "plt.plot(beta)\n",
    "plt.ylabel('Beta Coefficients')\n",
    "plt.show()"
   ]
  },
  {
   "cell_type": "markdown",
   "id": "67409f2c-2c26-4cf0-82d2-816d440417b5",
   "metadata": {},
   "source": [
    "Summarize the model over the training set, we can also obtain the ROC Receiver-Operating Characteristic) and the Area under ROC (areaUnderROC)."
   ]
  },
  {
   "cell_type": "code",
   "execution_count": 50,
   "id": "d3dc0cfd-f997-4e9e-8599-94db5967ccb0",
   "metadata": {},
   "outputs": [
    {
     "name": "stderr",
     "output_type": "stream",
     "text": [
      "/usr/local/lib/python3.6/site-packages/pyspark/sql/context.py:127: FutureWarning: Deprecated in 3.0.0. Use SparkSession.builder.getOrCreate() instead.\n",
      "  FutureWarning\n"
     ]
    },
    {
     "data": {
      "image/png": "[encoded data removed]",
      "text/plain": [
       "<Figure size 432x288 with 1 Axes>"
      ]
     },
     "metadata": {
      "needs_background": "light"
     },
     "output_type": "display_data"
    },
    {
     "name": "stdout",
     "output_type": "stream",
     "text": [
      "Training set areaUnderROC: 0.5624118088211697\n"
     ]
    }
   ],
   "source": [
    "trainingSummary = model_lr.summary\n",
    "lrROC = trainingSummary.roc.toPandas()\n",
    "\n",
    "plt.plot(lrROC['FPR'],lrROC['TPR'])\n",
    "plt.ylabel('False Positive Rate')\n",
    "plt.xlabel('True Positive Rate')\n",
    "plt.title('ROC Curve')\n",
    "plt.show()\n",
    "\n",
    "print('Training set areaUnderROC: ' + str(trainingSummary.areaUnderROC))"
   ]
  },
  {
   "cell_type": "markdown",
   "id": "0fab293a-77df-4957-bdfe-6aeac6bd4f03",
   "metadata": {},
   "source": [
    "Precision and recall"
   ]
  },
  {
   "cell_type": "code",
   "execution_count": 51,
   "id": "07f9d681-3546-4cf2-90a2-d1c4a0f17f52",
   "metadata": {},
   "outputs": [
    {
     "name": "stderr",
     "output_type": "stream",
     "text": [
      "/usr/local/lib/python3.6/site-packages/pyspark/sql/context.py:127: FutureWarning: Deprecated in 3.0.0. Use SparkSession.builder.getOrCreate() instead.\n",
      "  FutureWarning\n"
     ]
    },
    {
     "data": {
      "image/png": "[encoded data removed]",
      "text/plain": [
       "<Figure size 432x288 with 1 Axes>"
      ]
     },
     "metadata": {
      "needs_background": "light"
     },
     "output_type": "display_data"
    }
   ],
   "source": [
    "pr = trainingSummary.pr.toPandas()\n",
    "plt.plot(pr['recall'],pr['precision'])\n",
    "plt.ylabel('Precision')\n",
    "plt.xlabel('Recall')\n",
    "plt.show()"
   ]
  },
  {
   "cell_type": "code",
   "execution_count": 52,
   "id": "c6b166ca-8b62-4995-adca-129021dd6d40",
   "metadata": {},
   "outputs": [
    {
     "name": "stdout",
     "output_type": "stream",
     "text": [
      "AUROC: 0.5619864029594703\n",
      "AUPR: 0.3347657812467057\n",
      "Accuracy: 0.7186316049050597\n",
      "Precision: 0.5163709924296376\n",
      "Recall: 0.7186505267877158\n",
      "F1 Score: 0.601030705494108\n"
     ]
    }
   ],
   "source": [
    "# from pyspark.ml.evaluation import BinaryClassificationEvaluator \n",
    "\n",
    "# lrEval = BinaryClassificationEvaluator()\n",
    "# evaluator1_area_ROC = lrEval.evaluate(predictions)\n",
    "# print('Area Under ROC on test data = {}'.format(evaluator1_area_ROC))\n",
    "\n",
    "from pyspark.ml.evaluation import BinaryClassificationEvaluator, MulticlassClassificationEvaluator \n",
    "\n",
    "# Evaluate the performance of the model\n",
    "lrEval = BinaryClassificationEvaluator(labelCol='label')\n",
    "# evaluator2_area_ROC = lrEval.evaluate(predictions)\n",
    "auroc = lrEval.evaluate(predictions,{lrEval.metricName:'areaUnderROC'})\n",
    "aupr = lrEval.evaluate(predictions,{lrEval.metricName:'areaUnderPR'})\n",
    "\n",
    "print(f\"AUROC: {auroc}\")\n",
    "print(f\"AUPR: {aupr}\")\n",
    "\n",
    "# Initialize the MulticlassClassificationEvaluator\n",
    "evaluator1 = MulticlassClassificationEvaluator(labelCol=\"label\", predictionCol=\"prediction\")\n",
    "\n",
    "# Compute accuracy, precision, recall, and F1 score\n",
    "accuracy1 = evaluator1.evaluate(predictions, {evaluator1.metricName: \"accuracy\"})\n",
    "precision1 = evaluator1.evaluate(predictions, {evaluator1.metricName: \"weightedPrecision\"})\n",
    "recall1 = evaluator1.evaluate(predictions, {evaluator1.metricName: \"weightedRecall\"})\n",
    "f11 = evaluator1.evaluate(predictions, {evaluator1.metricName: \"f1\"})\n",
    "\n",
    "# Print the metrics\n",
    "\n",
    "print(f\"Accuracy: {accuracy1}\")\n",
    "print(f\"Precision: {precision1}\")\n",
    "print(f\"Recall: {recall1}\")\n",
    "print(f\"F1 Score: {f11}\")"
   ]
  },
  {
   "cell_type": "markdown",
   "id": "b6b0e075-c37c-492a-b894-2f64d4dea72b",
   "metadata": {},
   "source": [
    "## Hyperparameter optimization"
   ]
  },
  {
   "cell_type": "code",
   "execution_count": 53,
   "id": "7e04437d-2bf9-4803-83cc-b7ed17d311e4",
   "metadata": {},
   "outputs": [
    {
     "data": {
      "text/plain": [
       "[Param(parent='LogisticRegression_5ec06869222b', name='aggregationDepth', doc='suggested depth for treeAggregate (>= 2).'),\n",
       " Param(parent='LogisticRegression_5ec06869222b', name='elasticNetParam', doc='the ElasticNet mixing parameter, in range [0, 1]. For alpha = 0, the penalty is an L2 penalty. For alpha = 1, it is an L1 penalty.'),\n",
       " Param(parent='LogisticRegression_5ec06869222b', name='family', doc='The name of family which is a description of the label distribution to be used in the model. Supported options: auto, binomial, multinomial'),\n",
       " Param(parent='LogisticRegression_5ec06869222b', name='featuresCol', doc='features column name.'),\n",
       " Param(parent='LogisticRegression_5ec06869222b', name='fitIntercept', doc='whether to fit an intercept term.'),\n",
       " Param(parent='LogisticRegression_5ec06869222b', name='labelCol', doc='label column name.'),\n",
       " Param(parent='LogisticRegression_5ec06869222b', name='lowerBoundsOnCoefficients', doc='The lower bounds on coefficients if fitting under bound constrained optimization. The bound matrix must be compatible with the shape (1, number of features) for binomial regression, or (number of classes, number of features) for multinomial regression.'),\n",
       " Param(parent='LogisticRegression_5ec06869222b', name='lowerBoundsOnIntercepts', doc='The lower bounds on intercepts if fitting under bound constrained optimization. The bounds vector size must beequal with 1 for binomial regression, or the number oflasses for multinomial regression.'),\n",
       " Param(parent='LogisticRegression_5ec06869222b', name='maxBlockSizeInMB', doc='maximum memory in MB for stacking input data into blocks. Data is stacked within partitions. If more than remaining data size in a partition then it is adjusted to the data size. Default 0.0 represents choosing optimal value, depends on specific algorithm. Must be >= 0.'),\n",
       " Param(parent='LogisticRegression_5ec06869222b', name='maxIter', doc='max number of iterations (>= 0).'),\n",
       " Param(parent='LogisticRegression_5ec06869222b', name='predictionCol', doc='prediction column name.'),\n",
       " Param(parent='LogisticRegression_5ec06869222b', name='probabilityCol', doc='Column name for predicted class conditional probabilities. Note: Not all models output well-calibrated probability estimates! These probabilities should be treated as confidences, not precise probabilities.'),\n",
       " Param(parent='LogisticRegression_5ec06869222b', name='rawPredictionCol', doc='raw prediction (a.k.a. confidence) column name.'),\n",
       " Param(parent='LogisticRegression_5ec06869222b', name='regParam', doc='regularization parameter (>= 0).'),\n",
       " Param(parent='LogisticRegression_5ec06869222b', name='standardization', doc='whether to standardize the training features before fitting the model.'),\n",
       " Param(parent='LogisticRegression_5ec06869222b', name='threshold', doc='Threshold in binary classification prediction, in range [0, 1]. If threshold and thresholds are both set, they must match.e.g. if threshold is p, then thresholds must be equal to [1-p, p].'),\n",
       " Param(parent='LogisticRegression_5ec06869222b', name='thresholds', doc=\"Thresholds in multi-class classification to adjust the probability of predicting each class. Array must have length equal to the number of classes, with values > 0, excepting that at most one value may be 0. The class with largest value p/t is predicted, where p is the original probability of that class and t is the class's threshold.\"),\n",
       " Param(parent='LogisticRegression_5ec06869222b', name='tol', doc='the convergence tolerance for iterative algorithms (>= 0).'),\n",
       " Param(parent='LogisticRegression_5ec06869222b', name='upperBoundsOnCoefficients', doc='The upper bounds on coefficients if fitting under bound constrained optimization. The bound matrix must be compatible with the shape (1, number of features) for binomial regression, or (number of classes, number of features) for multinomial regression.'),\n",
       " Param(parent='LogisticRegression_5ec06869222b', name='upperBoundsOnIntercepts', doc='The upper bounds on intercepts if fitting under bound constrained optimization. The bound vector size must be equal with 1 for binomial regression, or the number of classes for multinomial regression.'),\n",
       " Param(parent='LogisticRegression_5ec06869222b', name='weightCol', doc='weight column name. If this is not set or empty, we treat all instance weights as 1.0.')]"
      ]
     },
     "execution_count": 53,
     "metadata": {},
     "output_type": "execute_result"
    }
   ],
   "source": [
    "model_lr.params"
   ]
  },
  {
   "cell_type": "code",
   "execution_count": 54,
   "id": "9f4388f9-db94-423c-879d-392c90041d95",
   "metadata": {},
   "outputs": [
    {
     "data": {
      "text/plain": [
       "LogisticRegressionModel: uid=LogisticRegression_5ec06869222b, numClasses=2, numFeatures=16"
      ]
     },
     "execution_count": 54,
     "metadata": {},
     "output_type": "execute_result"
    }
   ],
   "source": [
    "from pyspark.ml.tuning import ParamGridBuilder, CrossValidator \n",
    "\n",
    "import numpy as np\n",
    "\n",
    "\n",
    "# grid = ParamGridBuilder()\n",
    "# grid = grid.addGrid(\n",
    "#                     model_lr.aggregationDepth, [2, 3, 4])\\\n",
    "#                     .addGrid(model_lr.regParam, np.logspace(1e-3,1e-1)\n",
    "#                     )\\\n",
    "#                     .build()\n",
    "\n",
    "\n",
    "\n",
    "\n",
    "# Создайте сетку параметров\n",
    "paramGrid = ParamGridBuilder() \\\n",
    "    .addGrid(model_lr.regParam, [0.1, 0.01]) \\\n",
    "    .addGrid(model_lr.fitIntercept, [False, True]) \\\n",
    "    .addGrid(model_lr.elasticNetParam, [0.0, 0.5, 1.0]) \\\n",
    "    .build()\n",
    "\n",
    "# Создайте экземпляр CrossValidator\n",
    "cv = CrossValidator(estimator = lr, \n",
    "                    estimatorParamMaps = paramGrid, \n",
    "                    evaluator = lrEval,\n",
    "                    parallelism = 5,\n",
    "                    numFolds=3)\n",
    "\n",
    "# Обучите модель на тренировочных данных\n",
    "cvModel = cv.fit(train_data)\n",
    "bestModel = cvModel.bestModel\n",
    "bestModel\n",
    "\n",
    "# Предскажите на тестовых данных\n",
    "# predictions = cvModel.transform(testData)"
   ]
  },
  {
   "cell_type": "markdown",
   "id": "8a27e31c-959e-438c-bec0-1f109d7e2c15",
   "metadata": {},
   "source": [
    "## Best model 1\n"
   ]
  },
  {
   "cell_type": "code",
   "execution_count": 55,
   "id": "8d86fc18-eb29-4f03-bfef-ed3aa1daa4fa",
   "metadata": {},
   "outputs": [
    {
     "name": "stdout",
     "output_type": "stream",
     "text": [
      "{Param(parent='LogisticRegression_5ec06869222b', name='maxIter', doc='max number of iterations (>= 0).'): 100,\n",
      " Param(parent='LogisticRegression_5ec06869222b', name='predictionCol', doc='prediction column name.'): 'prediction',\n",
      " Param(parent='LogisticRegression_5ec06869222b', name='probabilityCol', doc='Column name for predicted class conditional probabilities. Note: Not all models output well-calibrated probability estimates! These probabilities should be treated as confidences, not precise probabilities.'): 'probability',\n",
      " Param(parent='LogisticRegression_5ec06869222b', name='fitIntercept', doc='whether to fit an intercept term.'): True,\n",
      " Param(parent='LogisticRegression_5ec06869222b', name='labelCol', doc='label column name.'): 'label',\n",
      " Param(parent='LogisticRegression_5ec06869222b', name='featuresCol', doc='features column name.'): 'features',\n",
      " Param(parent='LogisticRegression_5ec06869222b', name='elasticNetParam', doc='the ElasticNet mixing parameter, in range [0, 1]. For alpha = 0, the penalty is an L2 penalty. For alpha = 1, it is an L1 penalty.'): 0.0,\n",
      " Param(parent='LogisticRegression_5ec06869222b', name='aggregationDepth', doc='suggested depth for treeAggregate (>= 2).'): 2,\n",
      " Param(parent='LogisticRegression_5ec06869222b', name='maxBlockSizeInMB', doc='maximum memory in MB for stacking input data into blocks. Data is stacked within partitions. If more than remaining data size in a partition then it is adjusted to the data size. Default 0.0 represents choosing optimal value, depends on specific algorithm. Must be >= 0.'): 0.0,\n",
      " Param(parent='LogisticRegression_5ec06869222b', name='family', doc='The name of family which is a description of the label distribution to be used in the model. Supported options: auto, binomial, multinomial'): 'auto',\n",
      " Param(parent='LogisticRegression_5ec06869222b', name='rawPredictionCol', doc='raw prediction (a.k.a. confidence) column name.'): 'rawPrediction',\n",
      " Param(parent='LogisticRegression_5ec06869222b', name='tol', doc='the convergence tolerance for iterative algorithms (>= 0).'): 1e-06,\n",
      " Param(parent='LogisticRegression_5ec06869222b', name='threshold', doc='Threshold in binary classification prediction, in range [0, 1]. If threshold and thresholds are both set, they must match.e.g. if threshold is p, then thresholds must be equal to [1-p, p].'): 0.5,\n",
      " Param(parent='LogisticRegression_5ec06869222b', name='regParam', doc='regularization parameter (>= 0).'): 0.01,\n",
      " Param(parent='LogisticRegression_5ec06869222b', name='standardization', doc='whether to standardize the training features before fitting the model.'): True}\n"
     ]
    }
   ],
   "source": [
    "from pprint import pprint\n",
    "model1 = bestModel\n",
    "pprint(model1.extractParamMap())"
   ]
  },
  {
   "cell_type": "markdown",
   "id": "632f666a-f792-4b50-b38f-b39f9208ab25",
   "metadata": {},
   "source": [
    "## Save the model to HDFS"
   ]
  },
  {
   "cell_type": "code",
   "execution_count": 56,
   "id": "e562da25-53d1-46dc-ac5d-68a6e9041927",
   "metadata": {},
   "outputs": [
    {
     "data": {
      "text/plain": [
       "''"
      ]
     },
     "execution_count": 56,
     "metadata": {},
     "output_type": "execute_result"
    }
   ],
   "source": [
    "model1.write().overwrite().save(\"project/models/model1\")\n",
    "\n",
    "# Run it from root directory of the repository\n",
    "run(\"hdfs dfs -get project/models/model1 models/model1\")"
   ]
  },
  {
   "cell_type": "markdown",
   "id": "f0e9b220-54e1-49ce-802c-fc005d8f63c3",
   "metadata": {},
   "source": [
    "## Predict for test data using best model1"
   ]
  },
  {
   "cell_type": "code",
   "execution_count": 57,
   "id": "cf8a05de-dcae-4bb0-8cf1-de760a62e0fb",
   "metadata": {},
   "outputs": [
    {
     "name": "stdout",
     "output_type": "stream",
     "text": [
      "+-----+--------------------+--------------------+--------------------+----------+\n",
      "|label|            features|       rawPrediction|         probability|prediction|\n",
      "+-----+--------------------+--------------------+--------------------+----------+\n",
      "|    0|[37.0,404347.0,53...|[0.51770134398803...|[0.62661010675338...|       0.0|\n",
      "|    0|[97.0,404347.0,53...|[0.82312281021669...|[0.69489882366434...|       0.0|\n",
      "|    0|[167.0,405490.0,6...|[0.59692313167349...|[0.64495205217612...|       0.0|\n",
      "|    0|[303.0,359520.0,1...|[1.01965075380937...|[0.73490456495987...|       0.0|\n",
      "|    0|[306.0,359520.0,1...|[0.94075545656655...|[0.71925223086123...|       0.0|\n",
      "|    0|[306.0,359520.0,1...|[0.97350102469944...|[0.72581677600386...|       0.0|\n",
      "|    0|[348.0,359520.0,1...|[1.05294018879355...|[0.74133909631765...|       0.0|\n",
      "|    0|[413.0,405490.0,6...|[0.69791598514771...|[0.66772555740560...|       0.0|\n",
      "|    0|[471.0,359520.0,1...|[0.97955490370998...|[0.72701989058129...|       0.0|\n",
      "|    0|[625.0,414149.0,4...|[0.82808699258234...|[0.69595028259125...|       0.0|\n",
      "|    0|[830.0,414149.0,4...|[0.74489142390273...|[0.67806454860607...|       0.0|\n",
      "|    0|[868.0,82320.0,17...|[0.85124137809677...|[0.70082748500627...|       0.0|\n",
      "|    0|[1096.0,359520.0,...|[0.92047669433356...|[0.71513922549967...|       0.0|\n",
      "|    0|[1223.0,359520.0,...|[0.97714609157885...|[0.72654157164552...|       0.0|\n",
      "|    0|[1229.0,359520.0,...|[0.93196425301665...|[0.71747361987170...|       0.0|\n",
      "|    0|[1229.0,359520.0,...|[0.88908688903067...|[0.70870170258042...|       0.0|\n",
      "|    0|[1229.0,359520.0,...|[0.96466165259023...|[0.72405417417572...|       0.0|\n",
      "|    0|[1229.0,360936.0,...|[0.91976167929672...|[0.71499354372648...|       0.0|\n",
      "|    0|[1229.0,360936.0,...|[0.92274184382310...|[0.71560044572516...|       0.0|\n",
      "|    0|[1229.0,405490.0,...|[0.49774879436052...|[0.62193014385617...|       0.0|\n",
      "+-----+--------------------+--------------------+--------------------+----------+\n",
      "only showing top 20 rows\n",
      "\n"
     ]
    }
   ],
   "source": [
    "predictions = model1.transform(test_data)\n",
    "predictions.show()"
   ]
  },
  {
   "cell_type": "code",
   "execution_count": 58,
   "id": "096936c5-a575-48b7-92d2-be22893e892c",
   "metadata": {},
   "outputs": [
    {
     "data": {
      "text/plain": [
       "''"
      ]
     },
     "execution_count": 58,
     "metadata": {},
     "output_type": "execute_result"
    }
   ],
   "source": [
    "predictions.select(\"label\", \"prediction\")\\\n",
    "    .coalesce(1)\\\n",
    "    .write\\\n",
    "    .mode(\"overwrite\")\\\n",
    "    .format(\"csv\")\\\n",
    "    .option(\"sep\", \",\")\\\n",
    "    .option(\"header\",\"true\")\\\n",
    "    .save(\"project/output/model1_predictions.csv\")\n",
    "\n",
    "# Run it from root directory of the repository\n",
    "run(\"hdfs dfs -cat project/output/model1_predictions.csv/*.csv > output/model1_predictions.csv\")"
   ]
  },
  {
   "cell_type": "markdown",
   "id": "89f9a43d-80ce-4ec1-930f-671a240673d9",
   "metadata": {},
   "source": [
    "## Evaluate the best model1"
   ]
  },
  {
   "cell_type": "code",
   "execution_count": 59,
   "id": "1d0cc0e6-7d0d-4030-a372-375e5e9b84f7",
   "metadata": {},
   "outputs": [
    {
     "name": "stdout",
     "output_type": "stream",
     "text": [
      "AUROC: 0.5616692640126489\n",
      "AUPR: 0.3366785351503631\n",
      "Accuracy: 0.7154670132664037\n",
      "Precision: 0.510953934510016\n",
      "Recall: 0.7140522875816994\n",
      "F1 Score: 0.5956348854372476\n"
     ]
    }
   ],
   "source": [
    "# from pyspark.ml.evaluation import RegressionEvaluator \n",
    "\n",
    "# # Evaluate the performance of the model\n",
    "# evaluator1_rmse = RegressionEvaluator(labelCol=\"label\", predictionCol=\"prediction\", metricName=\"rmse\")\n",
    "# evaluator1_r2 = RegressionEvaluator(labelCol=\"label\", predictionCol=\"prediction\", metricName=\"r2\")\n",
    "\n",
    "# rmse1 = evaluator1_rmse.evaluate(predictions)\n",
    "# r21 = evaluator1_r2.evaluate(predictions)\n",
    "\n",
    "# print(\"Root Mean Squared Error (RMSE) on test data = {}\".format(rmse1))\n",
    "# print(\"R^2 on test data = {}\".format(r21))\n",
    "\n",
    "\n",
    "\n",
    "from pyspark.ml.evaluation import BinaryClassificationEvaluator, MulticlassClassificationEvaluator\n",
    "\n",
    "# Evaluate the performance of the model\n",
    "lrEval1 = BinaryClassificationEvaluator(labelCol='label')\n",
    "# evaluator2_area_ROC = lrEval.evaluate(predictions)\n",
    "auroc1 = lrEval1.evaluate(predictions,{lrEval1.metricName:'areaUnderROC'})\n",
    "aupr1 = lrEval1.evaluate(predictions,{lrEval1.metricName:'areaUnderPR'})\n",
    "\n",
    "print(f\"AUROC: {auroc1}\")\n",
    "print(f\"AUPR: {aupr1}\")\n",
    "# lrEval = BinaryClassificationEvaluator()\n",
    "# evaluator1_area_ROC = lrEval.evaluate(predictions)\n",
    "# print('Area Under ROC on test data = {}'.format(evaluator1_area_ROC))\n",
    "\n",
    "# Initialize the MulticlassClassificationEvaluator\n",
    "evaluator1 = MulticlassClassificationEvaluator(labelCol=\"label\", predictionCol=\"prediction\")\n",
    "\n",
    "# Compute accuracy, precision, recall, and F1 score\n",
    "accuracy1 = evaluator1.evaluate(predictions, {evaluator1.metricName: \"accuracy\"})\n",
    "precision1 = evaluator1.evaluate(predictions, {evaluator1.metricName: \"weightedPrecision\"})\n",
    "recall1 = evaluator1.evaluate(predictions, {evaluator1.metricName: \"weightedRecall\"})\n",
    "f11 = evaluator1.evaluate(predictions, {evaluator1.metricName: \"f1\"})\n",
    "\n",
    "# Print the metrics\n",
    "\n",
    "print(f\"Accuracy: {accuracy1}\")\n",
    "print(f\"Precision: {precision1}\")\n",
    "print(f\"Recall: {recall1}\")\n",
    "print(f\"F1 Score: {f11}\")"
   ]
  },
  {
   "cell_type": "markdown",
   "id": "5308587c-3e52-41c6-ba7d-494d53cc45b1",
   "metadata": {},
   "source": [
    "# Second model"
   ]
  },
  {
   "cell_type": "markdown",
   "id": "d929b5a0-a159-4c94-ae56-086d3cf52df0",
   "metadata": {},
   "source": [
    "## Build a model"
   ]
  },
  {
   "cell_type": "code",
   "execution_count": 60,
   "id": "55d8981a-e274-4ab7-9d03-fefdc068b51b",
   "metadata": {},
   "outputs": [],
   "source": [
    "from pyspark.ml.classification import GBTClassifier\n",
    "\n",
    "# Create Linear Regression Model\n",
    "gbt = GBTClassifier()\n",
    "\n",
    "# Fit the data to the pipeline stages\n",
    "model_gbt = gbt.fit(train_data)\n",
    "\n",
    "\n",
    "# from pyspark.ml.classification import GBTClassifier\n",
    "\n",
    "# gbt = GBTClassifier()\n",
    "# gbtModel = gbt.fit(train)\n",
    "# gbtPreds = gbtModel.transform(test)"
   ]
  },
  {
   "cell_type": "markdown",
   "id": "7b1c9a67-fe61-49fe-898f-017df0c4006b",
   "metadata": {},
   "source": [
    "## Predict for test data"
   ]
  },
  {
   "cell_type": "code",
   "execution_count": 61,
   "id": "6cb95001-9d15-4da4-98df-2b87c0c39200",
   "metadata": {},
   "outputs": [
    {
     "name": "stdout",
     "output_type": "stream",
     "text": [
      "+-----+--------------------+--------------------+--------------------+----------+\n",
      "|label|            features|       rawPrediction|         probability|prediction|\n",
      "+-----+--------------------+--------------------+--------------------+----------+\n",
      "|    0|[37.0,404347.0,53...|[0.33345787942643...|[0.66081220238407...|       0.0|\n",
      "|    0|[97.0,404347.0,53...|[0.37383831210757...|[0.67867223661098...|       0.0|\n",
      "|    0|[167.0,405490.0,6...|[0.32833362748135...|[0.65851133662425...|       0.0|\n",
      "|    0|[303.0,359520.0,1...|[0.64916979631029...|[0.78555540657611...|       0.0|\n",
      "|    0|[306.0,359520.0,1...|[0.50065969407939...|[0.73131790699118...|       0.0|\n",
      "|    0|[306.0,359520.0,1...|[0.56320581633122...|[0.75517607081943...|       0.0|\n",
      "|    0|[348.0,359520.0,1...|[0.55965406930598...|[0.75386036071536...|       0.0|\n",
      "|    0|[413.0,405490.0,6...|[0.36068761271520...|[0.67290977916791...|       0.0|\n",
      "|    0|[471.0,359520.0,1...|[0.41823861380264...|[0.69772276110199...|       0.0|\n",
      "|    0|[625.0,414149.0,4...|[0.46466486140709...|[0.71693928099964...|       0.0|\n",
      "|    0|[830.0,414149.0,4...|[0.37049330423310...|[0.67721156266030...|       0.0|\n",
      "|    0|[868.0,82320.0,17...|[0.50455673273364...|[0.73284661716647...|       0.0|\n",
      "|    0|[1096.0,359520.0,...|[0.45716789964388...|[0.71388658137646...|       0.0|\n",
      "|    0|[1117.0,405490.0,...|[0.46443599721988...|[0.71684638159385...|       0.0|\n",
      "|    0|[1223.0,359520.0,...|[0.41554451653730...|[0.69658515088827...|       0.0|\n",
      "|    0|[1229.0,359520.0,...|[0.51798736763700...|[0.73807258214745...|       0.0|\n",
      "|    0|[1229.0,359520.0,...|[0.49044849064918...|[0.72728616077569...|       0.0|\n",
      "|    0|[1229.0,360936.0,...|[0.63706797079077...|[0.78144993076384...|       0.0|\n",
      "|    0|[1229.0,360936.0,...|[0.58510506083306...|[0.76318299410566...|       0.0|\n",
      "|    0|[1229.0,360936.0,...|[0.56038296085622...|[0.75413075942271...|       0.0|\n",
      "+-----+--------------------+--------------------+--------------------+----------+\n",
      "only showing top 20 rows\n",
      "\n"
     ]
    }
   ],
   "source": [
    "predictions = model_gbt.transform(test_data)\n",
    "predictions.show()"
   ]
  },
  {
   "cell_type": "markdown",
   "id": "6c94da6f-f913-45ec-a377-d9c42dacb075",
   "metadata": {},
   "source": [
    "## Evaluate the model"
   ]
  },
  {
   "cell_type": "code",
   "execution_count": 62,
   "id": "f3508997-af5a-4882-8fd6-8d0a5be07ccb",
   "metadata": {},
   "outputs": [
    {
     "name": "stdout",
     "output_type": "stream",
     "text": [
      "AUROC: 0.6042188717346797\n",
      "AUPR: 0.37463442539067476\n",
      "Accuracy: 0.7157446808510638\n",
      "Precision: 0.7220698909262421\n",
      "Recall: 0.7153157187639946\n",
      "F1 Score: 0.5981149361326188\n"
     ]
    }
   ],
   "source": [
    "# from pyspark.ml.evaluation import RegressionEvaluator \n",
    "\n",
    "# # Evaluate the performance of the model\n",
    "# evaluator2_rmse = RegressionEvaluator(labelCol=\"label\", predictionCol=\"prediction\", metricName=\"rmse\")\n",
    "# evaluator2_r2 = RegressionEvaluator(labelCol=\"label\", predictionCol=\"prediction\", metricName=\"r2\")\n",
    "\n",
    "# rmse2 = evaluator2_rmse.evaluate(predictions)\n",
    "# r22 = evaluator2_r2.evaluate(predictions)\n",
    "\n",
    "# print(\"Root Mean Squared Error (RMSE) on test data = {}\".format(rmse2))\n",
    "# print(\"R^2 on test data = {}\".format(r22))\n",
    "\n",
    "from pyspark.ml.evaluation import BinaryClassificationEvaluator \n",
    "\n",
    "# Evaluate the performance of the model\n",
    "lrEval2 = BinaryClassificationEvaluator(labelCol='label')\n",
    "# evaluator2_area_ROC = lrEval.evaluate(predictions)\n",
    "auroc2 = lrEval2.evaluate(predictions,{lrEval2.metricName:'areaUnderROC'})\n",
    "aupr2 = lrEval2.evaluate(predictions,{lrEval2.metricName:'areaUnderPR'})\n",
    "\n",
    "print(f\"AUROC: {auroc2}\")\n",
    "print(f\"AUPR: {aupr2}\")\n",
    "# print('Area Under ROC on test data = {}'.format(evaluator2_area_ROC))\n",
    "\n",
    "\n",
    "# Evaluate the model using a BinaryClassificationEvaluator\n",
    "# evaluator = BinaryClassificationEvaluator(labelCol='label')\n",
    "# auroc = evaluator.evaluate(prediction,{evaluator.metricName:'areaUnderROC'})\n",
    "# aupr = evaluator.evaluate(prediction,{evaluator.metricName:'areaUnderPR'})\n",
    "\n",
    "# Initialize the MulticlassClassificationEvaluator\n",
    "evaluator2 = MulticlassClassificationEvaluator(labelCol=\"label\", predictionCol=\"prediction\")\n",
    "\n",
    "# Compute accuracy, precision, recall, and F1 score\n",
    "accuracy2 = evaluator2.evaluate(predictions, {evaluator2.metricName: \"accuracy\"})\n",
    "precision2 = evaluator2.evaluate(predictions, {evaluator2.metricName: \"weightedPrecision\"})\n",
    "recall2 = evaluator2.evaluate(predictions, {evaluator2.metricName: \"weightedRecall\"})\n",
    "f12 = evaluator2.evaluate(predictions, {evaluator2.metricName: \"f1\"})\n",
    "\n",
    "# Print the metrics\n",
    "\n",
    "print(f\"Accuracy: {accuracy2}\")\n",
    "print(f\"Precision: {precision2}\")\n",
    "print(f\"Recall: {recall2}\")\n",
    "print(f\"F1 Score: {f12}\")"
   ]
  },
  {
   "cell_type": "markdown",
   "id": "943a2d06-39bd-4c71-b0cc-18a63d995949",
   "metadata": {},
   "source": [
    "## Hyperparameter optimization"
   ]
  },
  {
   "cell_type": "code",
   "execution_count": 63,
   "id": "b99e50b9-5090-45ed-bfa7-7ddca0706176",
   "metadata": {},
   "outputs": [
    {
     "data": {
      "text/plain": [
       "[Param(parent='GBTClassifier_d9204f445ad7', name='cacheNodeIds', doc='If false, the algorithm will pass trees to executors to match instances with nodes. If true, the algorithm will cache node IDs for each instance. Caching can speed up training of deeper trees. Users can set how often should the cache be checkpointed or disable it by setting checkpointInterval.'),\n",
       " Param(parent='GBTClassifier_d9204f445ad7', name='checkpointInterval', doc='set checkpoint interval (>= 1) or disable checkpoint (-1). E.g. 10 means that the cache will get checkpointed every 10 iterations. Note: this setting will be ignored if the checkpoint directory is not set in the SparkContext.'),\n",
       " Param(parent='GBTClassifier_d9204f445ad7', name='featureSubsetStrategy', doc=\"The number of features to consider for splits at each tree node. Supported options: 'auto' (choose automatically for task: If numTrees == 1, set to 'all'. If numTrees > 1 (forest), set to 'sqrt' for classification and to 'onethird' for regression), 'all' (use all features), 'onethird' (use 1/3 of the features), 'sqrt' (use sqrt(number of features)), 'log2' (use log2(number of features)), 'n' (when n is in the range (0, 1.0], use n * number of features. When n is in the range (1, number of features), use n features). default = 'auto'\"),\n",
       " Param(parent='GBTClassifier_d9204f445ad7', name='featuresCol', doc='features column name.'),\n",
       " Param(parent='GBTClassifier_d9204f445ad7', name='impurity', doc='Criterion used for information gain calculation (case-insensitive). Supported options: variance'),\n",
       " Param(parent='GBTClassifier_d9204f445ad7', name='labelCol', doc='label column name.'),\n",
       " Param(parent='GBTClassifier_d9204f445ad7', name='leafCol', doc='Leaf indices column name. Predicted leaf index of each instance in each tree by preorder.'),\n",
       " Param(parent='GBTClassifier_d9204f445ad7', name='lossType', doc='Loss function which GBT tries to minimize (case-insensitive). Supported options: logistic'),\n",
       " Param(parent='GBTClassifier_d9204f445ad7', name='maxBins', doc='Max number of bins for discretizing continuous features.  Must be >=2 and >= number of categories for any categorical feature.'),\n",
       " Param(parent='GBTClassifier_d9204f445ad7', name='maxDepth', doc='Maximum depth of the tree. (>= 0) E.g., depth 0 means 1 leaf node; depth 1 means 1 internal node + 2 leaf nodes. Must be in range [0, 30].'),\n",
       " Param(parent='GBTClassifier_d9204f445ad7', name='maxIter', doc='max number of iterations (>= 0).'),\n",
       " Param(parent='GBTClassifier_d9204f445ad7', name='maxMemoryInMB', doc='Maximum memory in MB allocated to histogram aggregation. If too small, then 1 node will be split per iteration, and its aggregates may exceed this size.'),\n",
       " Param(parent='GBTClassifier_d9204f445ad7', name='minInfoGain', doc='Minimum information gain for a split to be considered at a tree node.'),\n",
       " Param(parent='GBTClassifier_d9204f445ad7', name='minInstancesPerNode', doc='Minimum number of instances each child must have after split. If a split causes the left or right child to have fewer than minInstancesPerNode, the split will be discarded as invalid. Should be >= 1.'),\n",
       " Param(parent='GBTClassifier_d9204f445ad7', name='minWeightFractionPerNode', doc='Minimum fraction of the weighted sample count that each child must have after split. If a split causes the fraction of the total weight in the left or right child to be less than minWeightFractionPerNode, the split will be discarded as invalid. Should be in interval [0.0, 0.5).'),\n",
       " Param(parent='GBTClassifier_d9204f445ad7', name='predictionCol', doc='prediction column name.'),\n",
       " Param(parent='GBTClassifier_d9204f445ad7', name='probabilityCol', doc='Column name for predicted class conditional probabilities. Note: Not all models output well-calibrated probability estimates! These probabilities should be treated as confidences, not precise probabilities.'),\n",
       " Param(parent='GBTClassifier_d9204f445ad7', name='rawPredictionCol', doc='raw prediction (a.k.a. confidence) column name.'),\n",
       " Param(parent='GBTClassifier_d9204f445ad7', name='seed', doc='random seed.'),\n",
       " Param(parent='GBTClassifier_d9204f445ad7', name='stepSize', doc='Step size (a.k.a. learning rate) in interval (0, 1] for shrinking the contribution of each estimator.'),\n",
       " Param(parent='GBTClassifier_d9204f445ad7', name='subsamplingRate', doc='Fraction of the training data used for learning each decision tree, in range (0, 1].'),\n",
       " Param(parent='GBTClassifier_d9204f445ad7', name='thresholds', doc=\"Thresholds in multi-class classification to adjust the probability of predicting each class. Array must have length equal to the number of classes, with values > 0, excepting that at most one value may be 0. The class with largest value p/t is predicted, where p is the original probability of that class and t is the class's threshold.\"),\n",
       " Param(parent='GBTClassifier_d9204f445ad7', name='validationIndicatorCol', doc='name of the column that indicates whether each row is for training or for validation. False indicates training; true indicates validation.'),\n",
       " Param(parent='GBTClassifier_d9204f445ad7', name='validationTol', doc='Threshold for stopping early when fit with validation is used. If the error rate on the validation input changes by less than the validationTol, then learning will stop early (before `maxIter`). This parameter is ignored when fit without validation is used.'),\n",
       " Param(parent='GBTClassifier_d9204f445ad7', name='weightCol', doc='weight column name. If this is not set or empty, we treat all instance weights as 1.0.')]"
      ]
     },
     "execution_count": 63,
     "metadata": {},
     "output_type": "execute_result"
    }
   ],
   "source": [
    "model_gbt.params"
   ]
  },
  {
   "cell_type": "code",
   "execution_count": 64,
   "id": "5dea6a22-9f7a-483b-818e-0b4e62f723e3",
   "metadata": {},
   "outputs": [
    {
     "data": {
      "text/plain": [
       "GBTClassificationModel: uid = GBTClassifier_d9204f445ad7, numTrees=20, numClasses=2, numFeatures=16"
      ]
     },
     "execution_count": 64,
     "metadata": {},
     "output_type": "execute_result"
    }
   ],
   "source": [
    "from pyspark.ml.tuning import ParamGridBuilder, CrossValidator \n",
    "\n",
    "import numpy as np\n",
    "\n",
    "\n",
    "grid = ParamGridBuilder()\n",
    "grid = grid.addGrid(model_gbt.maxDepth, [2, 5, 10]).addGrid(model_gbt.maxBins, [20, 30]).build()\n",
    "\n",
    "cv = CrossValidator(estimator = gbt, \n",
    "                    estimatorParamMaps = grid, \n",
    "                    evaluator = lrEval2,\n",
    "                    parallelism = 5,\n",
    "                    numFolds=3)\n",
    "\n",
    "cvModel = cv.fit(train_data)\n",
    "bestModel = cvModel.bestModel\n",
    "bestModel"
   ]
  },
  {
   "cell_type": "markdown",
   "id": "1524320f-8764-4ed4-b8ff-9d0a43b2ee29",
   "metadata": {},
   "source": [
    "## Best model 2\n"
   ]
  },
  {
   "cell_type": "code",
   "execution_count": 65,
   "id": "ccafef7f-5a51-4370-8572-447f06b92248",
   "metadata": {},
   "outputs": [
    {
     "name": "stdout",
     "output_type": "stream",
     "text": [
      "{Param(parent='GBTClassifier_d9204f445ad7', name='stepSize', doc='Step size (a.k.a. learning rate) in interval (0, 1] for shrinking the contribution of each estimator.'): 0.1,\n",
      " Param(parent='GBTClassifier_d9204f445ad7', name='subsamplingRate', doc='Fraction of the training data used for learning each decision tree, in range (0, 1].'): 1.0,\n",
      " Param(parent='GBTClassifier_d9204f445ad7', name='validationTol', doc='Threshold for stopping early when fit with validation is used. If the error rate on the validation input changes by less than the validationTol, then learning will stop early (before `maxIter`). This parameter is ignored when fit without validation is used.'): 0.01,\n",
      " Param(parent='GBTClassifier_d9204f445ad7', name='lossType', doc='Loss function which GBT tries to minimize (case-insensitive). Supported options: logistic'): 'logistic',\n",
      " Param(parent='GBTClassifier_d9204f445ad7', name='featuresCol', doc='features column name.'): 'features',\n",
      " Param(parent='GBTClassifier_d9204f445ad7', name='leafCol', doc='Leaf indices column name. Predicted leaf index of each instance in each tree by preorder.'): '',\n",
      " Param(parent='GBTClassifier_d9204f445ad7', name='featureSubsetStrategy', doc=\"The number of features to consider for splits at each tree node. Supported options: 'auto' (choose automatically for task: If numTrees == 1, set to 'all'. If numTrees > 1 (forest), set to 'sqrt' for classification and to 'onethird' for regression), 'all' (use all features), 'onethird' (use 1/3 of the features), 'sqrt' (use sqrt(number of features)), 'log2' (use log2(number of features)), 'n' (when n is in the range (0, 1.0], use n * number of features. When n is in the range (1, number of features), use n features). default = 'auto'\"): 'all',\n",
      " Param(parent='GBTClassifier_d9204f445ad7', name='maxBins', doc='Max number of bins for discretizing continuous features.  Must be >=2 and >= number of categories for any categorical feature.'): 30,\n",
      " Param(parent='GBTClassifier_d9204f445ad7', name='labelCol', doc='label column name.'): 'label',\n",
      " Param(parent='GBTClassifier_d9204f445ad7', name='maxIter', doc='max number of iterations (>= 0).'): 20,\n",
      " Param(parent='GBTClassifier_d9204f445ad7', name='predictionCol', doc='prediction column name.'): 'prediction',\n",
      " Param(parent='GBTClassifier_d9204f445ad7', name='maxDepth', doc='Maximum depth of the tree. (>= 0) E.g., depth 0 means 1 leaf node; depth 1 means 1 internal node + 2 leaf nodes. Must be in range [0, 30].'): 10,\n",
      " Param(parent='GBTClassifier_d9204f445ad7', name='minInfoGain', doc='Minimum information gain for a split to be considered at a tree node.'): 0.0,\n",
      " Param(parent='GBTClassifier_d9204f445ad7', name='minWeightFractionPerNode', doc='Minimum fraction of the weighted sample count that each child must have after split. If a split causes the fraction of the total weight in the left or right child to be less than minWeightFractionPerNode, the split will be discarded as invalid. Should be in interval [0.0, 0.5).'): 0.0,\n",
      " Param(parent='GBTClassifier_d9204f445ad7', name='minInstancesPerNode', doc='Minimum number of instances each child must have after split. If a split causes the left or right child to have fewer than minInstancesPerNode, the split will be discarded as invalid. Should be >= 1.'): 1,\n",
      " Param(parent='GBTClassifier_d9204f445ad7', name='maxMemoryInMB', doc='Maximum memory in MB allocated to histogram aggregation. If too small, then 1 node will be split per iteration, and its aggregates may exceed this size.'): 256,\n",
      " Param(parent='GBTClassifier_d9204f445ad7', name='impurity', doc='Criterion used for information gain calculation (case-insensitive). Supported options: variance'): 'variance',\n",
      " Param(parent='GBTClassifier_d9204f445ad7', name='seed', doc='random seed.'): 1836656975875388363,\n",
      " Param(parent='GBTClassifier_d9204f445ad7', name='rawPredictionCol', doc='raw prediction (a.k.a. confidence) column name.'): 'rawPrediction',\n",
      " Param(parent='GBTClassifier_d9204f445ad7', name='probabilityCol', doc='Column name for predicted class conditional probabilities. Note: Not all models output well-calibrated probability estimates! These probabilities should be treated as confidences, not precise probabilities.'): 'probability',\n",
      " Param(parent='GBTClassifier_d9204f445ad7', name='checkpointInterval', doc='set checkpoint interval (>= 1) or disable checkpoint (-1). E.g. 10 means that the cache will get checkpointed every 10 iterations. Note: this setting will be ignored if the checkpoint directory is not set in the SparkContext.'): 10,\n",
      " Param(parent='GBTClassifier_d9204f445ad7', name='cacheNodeIds', doc='If false, the algorithm will pass trees to executors to match instances with nodes. If true, the algorithm will cache node IDs for each instance. Caching can speed up training of deeper trees. Users can set how often should the cache be checkpointed or disable it by setting checkpointInterval.'): False}\n"
     ]
    }
   ],
   "source": [
    "from pprint import pprint\n",
    "model2 = bestModel\n",
    "pprint(model2.extractParamMap())"
   ]
  },
  {
   "cell_type": "markdown",
   "id": "336a3f34-cd0b-4e7e-a0ff-8670bee1e2ef",
   "metadata": {},
   "source": [
    "## Save the model to HDFS"
   ]
  },
  {
   "cell_type": "code",
   "execution_count": 66,
   "id": "098bb094-67c3-4a8b-a52a-95a1f7c7bc74",
   "metadata": {},
   "outputs": [
    {
     "data": {
      "text/plain": [
       "''"
      ]
     },
     "execution_count": 66,
     "metadata": {},
     "output_type": "execute_result"
    }
   ],
   "source": [
    "model2.write().overwrite().save(\"project/models/model2\")\n",
    "\n",
    "# Run it from root directory of the repository\n",
    "run(\"hdfs dfs -get project/models/model2 models/model2\")"
   ]
  },
  {
   "cell_type": "markdown",
   "id": "2220eee3-99d3-44cc-82ab-b941fd5e5e7c",
   "metadata": {},
   "source": [
    "## Predict for test data using best model2"
   ]
  },
  {
   "cell_type": "code",
   "execution_count": 67,
   "id": "53789d15-33a1-43b2-8e8e-df7627df5de1",
   "metadata": {},
   "outputs": [
    {
     "name": "stdout",
     "output_type": "stream",
     "text": [
      "+-----+--------------------+--------------------+--------------------+----------+\n",
      "|label|            features|       rawPrediction|         probability|prediction|\n",
      "+-----+--------------------+--------------------+--------------------+----------+\n",
      "|    0|[37.0,404347.0,53...|[0.44727771828679...|[0.70982935941881...|       0.0|\n",
      "|    0|[97.0,404347.0,53...|[1.10380079115408...|[0.90093006160002...|       0.0|\n",
      "|    0|[167.0,405490.0,6...|[-0.9722317562793...|[0.12515831172152...|       1.0|\n",
      "|    0|[303.0,359520.0,1...|[0.34127913692909...|[0.66430943823514...|       0.0|\n",
      "|    0|[306.0,359520.0,1...|[0.12339034798927...|[0.56138396248941...|       0.0|\n",
      "|    0|[306.0,359520.0,1...|[0.12339034798927...|[0.56138396248941...|       0.0|\n",
      "|    0|[348.0,359520.0,1...|[0.64140142224086...|[0.78292650484321...|       0.0|\n",
      "|    0|[413.0,405490.0,6...|[-0.0112128380839...|[0.49439381590700...|       1.0|\n",
      "|    0|[471.0,359520.0,1...|[0.47384230716692...|[0.72064929695404...|       0.0|\n",
      "|    0|[625.0,414149.0,4...|[0.02326936018982...|[0.51163258063288...|       0.0|\n",
      "|    0|[830.0,414149.0,4...|[0.58797506247775...|[0.76421884427170...|       0.0|\n",
      "|    0|[868.0,82320.0,17...|[0.56896358258156...|[0.75729886078498...|       0.0|\n",
      "|    0|[1096.0,359520.0,...|[0.46951137380791...|[0.71890221472880...|       0.0|\n",
      "|    0|[1117.0,405490.0,...|[0.37162562998932...|[0.67770640775893...|       0.0|\n",
      "|    0|[1223.0,359520.0,...|[0.39021529743796...|[0.68577290957189...|       0.0|\n",
      "|    0|[1229.0,359520.0,...|[0.36035947845237...|[0.67276531662846...|       0.0|\n",
      "|    0|[1229.0,359520.0,...|[0.47274094718050...|[0.72020564338373...|       0.0|\n",
      "|    0|[1229.0,360936.0,...|[0.90846976010663...|[0.86019848833525...|       0.0|\n",
      "|    0|[1229.0,360936.0,...|[0.58353105333792...|[0.76261356722204...|       0.0|\n",
      "|    0|[1229.0,360936.0,...|[0.99144801791164...|[0.87898954279070...|       0.0|\n",
      "+-----+--------------------+--------------------+--------------------+----------+\n",
      "only showing top 20 rows\n",
      "\n"
     ]
    }
   ],
   "source": [
    "predictions = model2.transform(test_data)\n",
    "predictions.show()"
   ]
  },
  {
   "cell_type": "code",
   "execution_count": 68,
   "id": "52df5365-5d86-407f-b71a-878fff80b152",
   "metadata": {},
   "outputs": [
    {
     "data": {
      "text/plain": [
       "''"
      ]
     },
     "execution_count": 68,
     "metadata": {},
     "output_type": "execute_result"
    }
   ],
   "source": [
    "predictions.select(\"label\", \"prediction\")\\\n",
    "    .coalesce(1)\\\n",
    "    .write\\\n",
    "    .mode(\"overwrite\")\\\n",
    "    .format(\"csv\")\\\n",
    "    .option(\"sep\", \",\")\\\n",
    "    .option(\"header\",\"true\")\\\n",
    "    .save(\"project/output/model2_predictions.csv\")\n",
    "\n",
    "# Run it from root directory of the repository\n",
    "run(\"hdfs dfs -cat project/output/model2_predictions.csv/*.csv > output/model2_predictions.csv\")"
   ]
  },
  {
   "cell_type": "markdown",
   "id": "64f9e394-a65a-4cb3-b9c8-1036fd3a443a",
   "metadata": {},
   "source": [
    "## Evaluate the best model2"
   ]
  },
  {
   "cell_type": "code",
   "execution_count": 69,
   "id": "2e83b832-0088-4e95-95fc-768bc13d70ee",
   "metadata": {},
   "outputs": [
    {
     "name": "stdout",
     "output_type": "stream",
     "text": [
      "AUROC: 0.7136355105679135\n",
      "AUPR: 0.5027309800770258\n",
      "Accuracy: 0.7364096363962027\n",
      "Precision: 0.7268725045237213\n",
      "Recall: 0.7368362138443628\n",
      "F1 Score: 0.6711229603457609\n"
     ]
    }
   ],
   "source": [
    "# from pyspark.ml.evaluation import RegressionEvaluator \n",
    "\n",
    "# # Evaluate the performance of the model\n",
    "# evaluator2_rmse = RegressionEvaluator(labelCol=\"label\", predictionCol=\"prediction\", metricName=\"rmse\")\n",
    "# evaluator2_r2 = RegressionEvaluator(labelCol=\"label\", predictionCol=\"prediction\", metricName=\"r2\")\n",
    "\n",
    "# rmse2 = evaluator2_rmse.evaluate(predictions)\n",
    "# r22 = evaluator2_r2.evaluate(predictions)\n",
    "\n",
    "# print(\"Root Mean Squared Error (RMSE) on test data = {}\".format(rmse2))\n",
    "# print(\"R^2 on test data = {}\".format(r22))\n",
    "\n",
    "from pyspark.ml.evaluation import BinaryClassificationEvaluator \n",
    "\n",
    "# Evaluate the performance of the model\n",
    "lrEval2 = BinaryClassificationEvaluator(labelCol='label')\n",
    "# evaluator2_area_ROC = lrEval.evaluate(predictions)\n",
    "auroc2 = lrEval2.evaluate(predictions,{lrEval2.metricName:'areaUnderROC'})\n",
    "aupr2 = lrEval2.evaluate(predictions,{lrEval2.metricName:'areaUnderPR'})\n",
    "# print('Area Under ROC on test data = {}'.format(evaluator2_area_ROC))\n",
    "\n",
    "\n",
    "# Evaluate the model using a BinaryClassificationEvaluator\n",
    "# evaluator = BinaryClassificationEvaluator(labelCol='label')\n",
    "# auroc = evaluator.evaluate(prediction,{evaluator.metricName:'areaUnderROC'})\n",
    "# aupr = evaluator.evaluate(prediction,{evaluator.metricName:'areaUnderPR'})\n",
    "\n",
    "print(f\"AUROC: {auroc2}\")\n",
    "print(f\"AUPR: {aupr2}\")\n",
    "\n",
    "# Initialize the MulticlassClassificationEvaluator\n",
    "evaluator2 = MulticlassClassificationEvaluator(labelCol=\"label\", predictionCol=\"prediction\")\n",
    "\n",
    "# Compute accuracy, precision, recall, and F1 score\n",
    "accuracy2 = evaluator2.evaluate(predictions, {evaluator2.metricName: \"accuracy\"})\n",
    "precision2 = evaluator2.evaluate(predictions, {evaluator2.metricName: \"weightedPrecision\"})\n",
    "recall2 = evaluator2.evaluate(predictions, {evaluator2.metricName: \"weightedRecall\"})\n",
    "f12 = evaluator2.evaluate(predictions, {evaluator2.metricName: \"f1\"})\n",
    "\n",
    "# Print the metrics\n",
    "\n",
    "print(f\"Accuracy: {accuracy2}\")\n",
    "print(f\"Precision: {precision2}\")\n",
    "print(f\"Recall: {recall2}\")\n",
    "print(f\"F1 Score: {f12}\")"
   ]
  },
  {
   "cell_type": "markdown",
   "id": "dc21d9a9-3f73-42ce-af59-352c3b3fffb4",
   "metadata": {},
   "source": [
    "# Third Model"
   ]
  },
  {
   "cell_type": "markdown",
   "id": "f67c1816-6147-40b5-a771-b556b6686297",
   "metadata": {},
   "source": [
    "## Model training"
   ]
  },
  {
   "cell_type": "code",
   "execution_count": 70,
   "id": "69c3584a-90e1-4d09-853d-66e30363fa4d",
   "metadata": {},
   "outputs": [],
   "source": [
    "# from pyspark.ml.regression import LinearRegression\n",
    "# # Create Linear Regression Model\n",
    "# lr = LinearRegression()\n",
    "\n",
    "# # Fit the data to the lr model\n",
    "# model_lr = lr.fit(train_data)\n",
    "\n",
    "from pyspark.ml.classification import RandomForestClassifier\n",
    "# Create Random Forest Model\n",
    "rf = RandomForestClassifier(featuresCol = 'features', labelCol = 'label')\n",
    "\n",
    "# Fit the data to the rf model\n",
    "rfModel = rf.fit(train_data)"
   ]
  },
  {
   "cell_type": "markdown",
   "id": "d0e781d9-3908-48fd-8e65-ab3b2692a5da",
   "metadata": {},
   "source": [
    "## Prediction"
   ]
  },
  {
   "cell_type": "code",
   "execution_count": 71,
   "id": "3940e432-5338-464e-8671-88087fb74e70",
   "metadata": {},
   "outputs": [
    {
     "name": "stdout",
     "output_type": "stream",
     "text": [
      "+-----+--------------------+--------------------+--------------------+----------+\n",
      "|label|            features|       rawPrediction|         probability|prediction|\n",
      "+-----+--------------------+--------------------+--------------------+----------+\n",
      "|    0|[37.0,404347.0,53...|[13.9283537759930...|[0.69641768879965...|       0.0|\n",
      "|    0|[97.0,404347.0,53...|[13.8337368023069...|[0.69168684011534...|       0.0|\n",
      "|    0|[167.0,405490.0,6...|[13.4687274325752...|[0.67343637162876...|       0.0|\n",
      "|    0|[303.0,359520.0,1...|[14.7438211495448...|[0.73719105747724...|       0.0|\n",
      "|    0|[306.0,359520.0,1...|[14.5096966667687...|[0.72548483333843...|       0.0|\n",
      "|    0|[306.0,359520.0,1...|[14.7438211495448...|[0.73719105747724...|       0.0|\n",
      "|    0|[348.0,359520.0,1...|[14.8069061303024...|[0.74034530651512...|       0.0|\n",
      "|    0|[413.0,405490.0,6...|[13.5560268066387...|[0.67780134033193...|       0.0|\n",
      "|    0|[471.0,359520.0,1...|[14.7578410806907...|[0.73789205403453...|       0.0|\n",
      "|    0|[625.0,414149.0,4...|[14.5001394140392...|[0.72500697070196...|       0.0|\n",
      "|    0|[830.0,414149.0,4...|[14.0760587725671...|[0.70380293862835...|       0.0|\n",
      "|    0|[868.0,82320.0,17...|[14.5220031991096...|[0.72610015995548...|       0.0|\n",
      "|    0|[1096.0,359520.0,...|[14.5368691913458...|[0.72684345956729...|       0.0|\n",
      "|    0|[1117.0,405490.0,...|[13.8511352976128...|[0.69255676488064...|       0.0|\n",
      "|    0|[1223.0,359520.0,...|[14.7578410806907...|[0.73789205403453...|       0.0|\n",
      "|    0|[1229.0,359520.0,...|[14.4014626787358...|[0.72007313393679...|       0.0|\n",
      "|    0|[1229.0,359520.0,...|[14.5860363766296...|[0.72930181883148...|       0.0|\n",
      "|    0|[1229.0,360936.0,...|[14.3465155796370...|[0.71732577898185...|       0.0|\n",
      "|    0|[1229.0,360936.0,...|[14.6337038178235...|[0.73168519089117...|       0.0|\n",
      "|    0|[1229.0,360936.0,...|[14.7303937753318...|[0.73651968876659...|       0.0|\n",
      "+-----+--------------------+--------------------+--------------------+----------+\n",
      "only showing top 20 rows\n",
      "\n"
     ]
    }
   ],
   "source": [
    "# Transform the data (Prediction)\n",
    "# predictions = model_lr.transform(testData)\n",
    "predictions = rfModel.transform(test_data)\n",
    "# Display the predictions\n",
    "predictions.show()"
   ]
  },
  {
   "cell_type": "markdown",
   "id": "8e5dd03b-71f9-4795-90b1-78cee9090d49",
   "metadata": {},
   "source": [
    "## Evaluation"
   ]
  },
  {
   "cell_type": "code",
   "execution_count": 72,
   "id": "661e1c34-cdae-418c-afda-429aef3dbfab",
   "metadata": {},
   "outputs": [
    {
     "name": "stdout",
     "output_type": "stream",
     "text": [
      "AUROC: 0.572481848359309\n",
      "AUPR: 0.3506218728060597\n"
     ]
    }
   ],
   "source": [
    "# from pyspark.ml.evaluation import RegressionEvaluator \n",
    "\n",
    "# # Evaluate the performance of the model\n",
    "# evaluator = RegressionEvaluator(labelCol=\"label\", predictionCol=\"prediction\", metricName=\"rmse\")\n",
    "# rmse = evaluator.evaluate(predictions)\n",
    "# print(\"Root Mean Squared Error (RMSE) on test data = %g\" % rmse)\n",
    "\n",
    "from pyspark.ml.evaluation import BinaryClassificationEvaluator \n",
    "\n",
    "# Evaluate the performance of the model\n",
    "lrEval3 = BinaryClassificationEvaluator(labelCol='label')\n",
    "# evaluator2_area_ROC = lrEval.evaluate(predictions)\n",
    "auroc3 = lrEval3.evaluate(predictions,{lrEval3.metricName:'areaUnderROC'})\n",
    "aupr3 = lrEval3.evaluate(predictions,{lrEval3.metricName:'areaUnderPR'})\n",
    "\n",
    "print(f\"AUROC: {auroc3}\")\n",
    "print(f\"AUPR: {aupr3}\")\n",
    "# Initialize the MulticlassClassificationEvaluator\n",
    "evaluator3 = MulticlassClassificationEvaluator(labelCol=\"label\", predictionCol=\"prediction\")\n",
    "\n",
    "# Compute accuracy, precision, recall, and F1 score\n",
    "accuracy3 = evaluator3.evaluate(predictions, {evaluator3.metricName: \"accuracy\"})\n",
    "precision3 = evaluator3.evaluate(predictions, {evaluator3.metricName: \"weightedPrecision\"})\n",
    "recall3 = evaluator3.evaluate(predictions, {evaluator3.metricName: \"weightedRecall\"})\n",
    "f13 = evaluator3.evaluate(predictions, {evaluator3.metricName: \"f1\"})\n",
    "\n",
    "# Print the metrics\n",
    "\n",
    "print(f\"Accuracy: {accuracy3}\")\n",
    "print(f\"Precision: {precision3}\")\n",
    "print(f\"Recall: {recall3}\")\n",
    "print(f\"F1 Score: {f13}\")"
   ]
  },
  {
   "cell_type": "code",
   "execution_count": 73,
   "id": "a9d3f5b3-a9a2-43a6-9a56-42d178c2769b",
   "metadata": {},
   "outputs": [],
   "source": [
    "# !pip install sklearn"
   ]
  },
  {
   "cell_type": "code",
   "execution_count": 75,
   "id": "a3aa547a-c6b1-4dc9-9d4b-6a184f89b7f4",
   "metadata": {},
   "outputs": [
    {
     "name": "stdout",
     "output_type": "stream",
     "text": [
      "Accuracy: 0.7186316049050597\n",
      "Precision: 0.5163306748901161\n",
      "Recall: 0.7186316049050597\n",
      "F1 Score: 0.6000666638331869\n"
     ]
    }
   ],
   "source": [
    "# # Initialize the MulticlassClassificationEvaluator\n",
    "# evaluator3 = MulticlassClassificationEvaluator(labelCol=\"label\", predictionCol=\"prediction\")\n",
    "\n",
    "# # Compute accuracy, precision, recall, and F1 score\n",
    "# accuracy3 = evaluator3.evaluate(predictions, {evaluator3.metricName: \"accuracy\"})\n",
    "# precision3 = evaluator3.evaluate(predictions, {evaluator3.metricName: \"weightedPrecision\"})\n",
    "# recall3 = evaluator3.evaluate(predictions, {evaluator3.metricName: \"weightedRecall\"})\n",
    "# f13 = evaluator3.evaluate(predictions, {evaluator3.metricName: \"f1\"})\n",
    "\n",
    "# # Print the metrics\n",
    "\n",
    "# print(f\"Accuracy: {accuracy3}\")\n",
    "# print(f\"Precision: {precision3}\")\n",
    "# print(f\"Recall: {recall3}\")\n",
    "# print(f\"F1 Score: {f13}\")"
   ]
  },
  {
   "cell_type": "code",
   "execution_count": 97,
   "id": "1b808f60-4fe9-4d5c-9efd-ae4b3e79c36e",
   "metadata": {},
   "outputs": [
    {
     "name": "stdout",
     "output_type": "stream",
     "text": [
      "+-----+--------------------+--------------------+--------------------+----------+\n",
      "|label|            features|       rawPrediction|         probability|prediction|\n",
      "+-----+--------------------+--------------------+--------------------+----------+\n",
      "|    0|[37.0,404347.0,53...|[14.3849576497880...|[0.47949858832626...|       1.0|\n",
      "|    0|[37.0,405490.0,60...|[15.6937703469672...|[0.52312567823224...|       0.0|\n",
      "|    0|[101.0,414149.0,4...|[24.1894106488667...|[0.80631368829555...|       0.0|\n",
      "|    0|[109.0,359520.0,1...|[24.1223942357805...|[0.80407980785935...|       0.0|\n",
      "|    0|[142.0,405490.0,6...|[21.6344130185630...|[0.72114710061876...|       0.0|\n",
      "|    0|[221.0,360936.0,1...|[24.0263271832446...|[0.80087757277482...|       0.0|\n",
      "|    0|[306.0,359520.0,1...|[20.6827450586369...|[0.68942483528789...|       0.0|\n",
      "|    0|[306.0,359520.0,1...|[21.9223560638765...|[0.73074520212921...|       0.0|\n",
      "|    0|[306.0,359520.0,1...|[26.2855018943796...|[0.87618339647932...|       0.0|\n",
      "|    0|[375.0,359520.0,1...|[24.5076478596057...|[0.81692159532019...|       0.0|\n",
      "|    0|[397.0,82320.0,17...|[22.0565012715069...|[0.73521670905023...|       0.0|\n",
      "|    0|[413.0,405490.0,6...|[15.5086369939249...|[0.51695456646416...|       0.0|\n",
      "|    0|[577.0,359520.0,1...|[25.8031347584732...|[0.86010449194910...|       0.0|\n",
      "|    0|[601.0,405490.0,6...|[15.7325054269432...|[0.52441684756477...|       0.0|\n",
      "|    0|[613.0,359520.0,1...|[22.2242215886343...|[0.74080738628781...|       0.0|\n",
      "|    0|[625.0,414149.0,4...|[24.0457071401804...|[0.80152357133934...|       0.0|\n",
      "|    0|[691.0,105960.0,1...|[24.5155173398147...|[0.81718391132715...|       0.0|\n",
      "|    0|[714.0,405490.0,6...|[18.5349137788552...|[0.61783045929517...|       0.0|\n",
      "|    0|[731.0,359520.0,1...|[21.0365495679893...|[0.70121831893297...|       0.0|\n",
      "|    0|[731.0,360936.0,1...|[21.9813344131745...|[0.73271114710581...|       0.0|\n",
      "+-----+--------------------+--------------------+--------------------+----------+\n",
      "only showing top 20 rows\n",
      "\n"
     ]
    }
   ],
   "source": [
    "predictions.show()"
   ]
  },
  {
   "cell_type": "code",
   "execution_count": 101,
   "id": "a6edce82-7b33-429a-8482-c444befd3817",
   "metadata": {},
   "outputs": [
    {
     "name": "stdout",
     "output_type": "stream",
     "text": [
      "    label                                           features  \\\n",
      "0       0  [37.0, 404347.0, 53587.0, 1.0, 1.0, 0.39435585...   \n",
      "1       0  [37.0, 405490.0, 60305.0, 3.0, 1.0, 0.72479278...   \n",
      "2       0  [101.0, 414149.0, 45962.0, 2.0, 0.0, 0.5712682...   \n",
      "3       0  [109.0, 359520.0, 13787.0, 4.0, 1.0, 0.7247927...   \n",
      "4       0  [142.0, 405490.0, 60305.0, 3.0, 0.0, 0.5712682...   \n",
      "5       0  [221.0, 360936.0, 13787.0, 5.0, 1.0, 0.5712682...   \n",
      "6       0  [306.0, 359520.0, 13787.0, 3.0, 1.0, 0.3943558...   \n",
      "7       0  [306.0, 359520.0, 13787.0, 4.0, 1.0, 0.3943558...   \n",
      "8       0  [306.0, 359520.0, 13787.0, 4.0, 1.0, 0.5712682...   \n",
      "9       0  [375.0, 359520.0, 13787.0, 4.0, 0.0, 0.5712682...   \n",
      "10      0  [397.0, 82320.0, 1734.0, 1.0, 0.0, 0.571268215...   \n",
      "11      0  [413.0, 405490.0, 60305.0, 3.0, 0.0, 0.3943558...   \n",
      "12      0  [577.0, 359520.0, 13787.0, 2.0, 0.0, 0.7247927...   \n",
      "13      0  [601.0, 405490.0, 60305.0, 3.0, 0.0, 0.7247927...   \n",
      "14      0  [613.0, 359520.0, 13787.0, 3.0, 0.0, 0.7247927...   \n",
      "15      0  [625.0, 414149.0, 45962.0, 2.0, 1.0, 0.5712682...   \n",
      "16      0  [691.0, 105960.0, 11085.0, 5.0, 0.0, 0.5712682...   \n",
      "17      0  [714.0, 405490.0, 60305.0, 2.0, 1.0, 0.7247927...   \n",
      "18      0  [731.0, 359520.0, 13787.0, 4.0, 0.0, 0.7247927...   \n",
      "19      0  [731.0, 360936.0, 13787.0, 5.0, 0.0, 0.7247927...   \n",
      "\n",
      "                               rawPrediction  \\\n",
      "0   [14.384957649788028, 15.615042350211972]   \n",
      "1   [15.693770346967254, 14.306229653032746]   \n",
      "2    [24.189410648866748, 5.810589351133253]   \n",
      "3     [24.12239423578053, 5.877605764219478]   \n",
      "4     [21.63441301856307, 8.365586981436927]   \n",
      "5      [24.02632718324463, 5.97367281675537]   \n",
      "6     [20.68274505863693, 9.317254941363075]   \n",
      "7     [21.922356063876588, 8.07764393612341]   \n",
      "8    [26.285501894379628, 3.714498105620371]   \n",
      "9     [24.507647859605736, 5.49235214039427]   \n",
      "10    [22.05650127150696, 7.943498728493039]   \n",
      "11   [15.508636993924936, 14.49136300607506]   \n",
      "12   [25.803134758473274, 4.196865241526727]   \n",
      "13  [15.732505426943272, 14.267494573056728]   \n",
      "14    [22.22422158863435, 7.775778411365655]   \n",
      "15   [24.045707140180415, 5.954292859819586]   \n",
      "16    [24.515517339814775, 5.48448266018523]   \n",
      "17  [18.534913778855252, 11.465086221144748]   \n",
      "18    [21.03654956798932, 8.963450432010687]   \n",
      "19    [21.98133441317457, 8.018665586825426]   \n",
      "\n",
      "                                  probability  prediction  \n",
      "0   [0.47949858832626757, 0.5205014116737324]         1.0  \n",
      "1    [0.5231256782322418, 0.4768743217677582]         0.0  \n",
      "2   [0.8063136882955583, 0.19368631170444178]         0.0  \n",
      "3    [0.8040798078593507, 0.1959201921406492]         0.0  \n",
      "4    [0.7211471006187691, 0.2788528993812309]         0.0  \n",
      "5    [0.800877572774821, 0.19912242722517898]         0.0  \n",
      "6   [0.6894248352878976, 0.31057516471210245]         0.0  \n",
      "7    [0.7307452021292196, 0.2692547978707803]         0.0  \n",
      "8    [0.876183396479321, 0.12381660352067904]         0.0  \n",
      "9    [0.816921595320191, 0.18307840467980896]         0.0  \n",
      "10     [0.735216709050232, 0.264783290949768]         0.0  \n",
      "11   [0.5169545664641646, 0.4830454335358354]         0.0  \n",
      "12   [0.8601044919491091, 0.1398955080508909]         0.0  \n",
      "13  [0.5244168475647757, 0.47558315243522425]         0.0  \n",
      "14  [0.7408073862878115, 0.25919261371218844]         0.0  \n",
      "15  [0.8015235713393472, 0.19847642866065288]         0.0  \n",
      "16  [0.8171839113271591, 0.18281608867284097]         0.0  \n",
      "17  [0.6178304592951751, 0.38216954070482495]         0.0  \n",
      "18   [0.7012183189329771, 0.2987816810670228]         0.0  \n",
      "19   [0.7327111471058191, 0.2672888528941809]         0.0  \n"
     ]
    }
   ],
   "source": [
    "print(predictions.toPandas().head(20))"
   ]
  },
  {
   "cell_type": "code",
   "execution_count": 95,
   "id": "02cc9a23-6814-4ae7-ac67-34ef7b766483",
   "metadata": {},
   "outputs": [
    {
     "ename": "Py4JJavaError",
     "evalue": "An error occurred while calling o24289.confusionMatrix.\n: org.apache.spark.SparkException: Job aborted due to stage failure: Task 0 in stage 11831.0 failed 4 times, most recent failure: Lost task 0.3 in stage 11831.0 (TID 1440129) (hadoop-02.uni.innopolis.ru executor 64): org.apache.spark.api.python.PythonException: Traceback (most recent call last):\n  File \"/srv/hadoop-yarn/nm-local/usercache/team9/appcache/application_1715165960394_0237/container_e31_1715165960394_0237_01_000077/pyspark.zip/pyspark/worker.py\", line 619, in main\n    process()\n  File \"/srv/hadoop-yarn/nm-local/usercache/team9/appcache/application_1715165960394_0237/container_e31_1715165960394_0237_01_000077/pyspark.zip/pyspark/worker.py\", line 611, in process\n    serializer.dump_stream(out_iter, outfile)\n  File \"/srv/hadoop-yarn/nm-local/usercache/team9/appcache/application_1715165960394_0237/container_e31_1715165960394_0237_01_000077/pyspark.zip/pyspark/serializers.py\", line 259, in dump_stream\n    vs = list(itertools.islice(iterator, batch))\n  File \"/srv/hadoop-yarn/nm-local/usercache/team9/appcache/application_1715165960394_0237/container_e31_1715165960394_0237_01_000077/pyspark.zip/pyspark/util.py\", line 74, in wrapper\n    return f(*args, **kwargs)\n  File \"/usr/local/lib/python3.6/site-packages/pyspark/sql/session.py\", line 682, in prepare\n  File \"/usr/local/lib/python3.6/site-packages/pyspark/sql/types.py\", line 1411, in verify\n  File \"/usr/local/lib/python3.6/site-packages/pyspark/sql/types.py\", line 1392, in verify_struct\n  File \"/usr/local/lib/python3.6/site-packages/pyspark/sql/types.py\", line 1411, in verify\n  File \"/usr/local/lib/python3.6/site-packages/pyspark/sql/types.py\", line 1405, in verify_default\n  File \"/usr/local/lib/python3.6/site-packages/pyspark/sql/types.py\", line 1294, in verify_acceptable_types\nTypeError: field label: DoubleType can not accept object 0 in type <class 'int'>\n\n\tat org.apache.spark.api.python.BasePythonRunner$ReaderIterator.handlePythonException(PythonRunner.scala:556)\n\tat org.apache.spark.api.python.PythonRunner$$anon$3.read(PythonRunner.scala:762)\n\tat org.apache.spark.api.python.PythonRunner$$anon$3.read(PythonRunner.scala:744)\n\tat org.apache.spark.api.python.BasePythonRunner$ReaderIterator.hasNext(PythonRunner.scala:509)\n\tat org.apache.spark.InterruptibleIterator.hasNext(InterruptibleIterator.scala:37)\n\tat scala.collection.Iterator$$anon$11.hasNext(Iterator.scala:491)\n\tat scala.collection.Iterator$$anon$10.hasNext(Iterator.scala:460)\n\tat scala.collection.Iterator$$anon$10.hasNext(Iterator.scala:460)\n\tat org.apache.spark.sql.catalyst.expressions.GeneratedClass$GeneratedIteratorForCodegenStage1.processNext(Unknown Source)\n\tat org.apache.spark.sql.execution.BufferedRowIterator.hasNext(BufferedRowIterator.java:43)\n\tat org.apache.spark.sql.execution.WholeStageCodegenExec$$anon$1.hasNext(WholeStageCodegenExec.scala:759)\n\tat scala.collection.Iterator$$anon$10.hasNext(Iterator.scala:460)\n\tat scala.collection.Iterator$$anon$10.hasNext(Iterator.scala:460)\n\tat scala.collection.Iterator$$anon$10.hasNext(Iterator.scala:460)\n\tat scala.collection.Iterator$$anon$10.hasNext(Iterator.scala:460)\n\tat org.apache.spark.util.collection.ExternalSorter.insertAll(ExternalSorter.scala:197)\n\tat org.apache.spark.shuffle.sort.SortShuffleWriter.write(SortShuffleWriter.scala:63)\n\tat org.apache.spark.shuffle.ShuffleWriteProcessor.write(ShuffleWriteProcessor.scala:59)\n\tat org.apache.spark.scheduler.ShuffleMapTask.runTask(ShuffleMapTask.scala:99)\n\tat org.apache.spark.scheduler.ShuffleMapTask.runTask(ShuffleMapTask.scala:52)\n\tat org.apache.spark.scheduler.Task.run(Task.scala:131)\n\tat org.apache.spark.executor.Executor$TaskRunner.$anonfun$run$3(Executor.scala:506)\n\tat org.apache.spark.util.Utils$.tryWithSafeFinally(Utils.scala:1491)\n\tat org.apache.spark.executor.Executor$TaskRunner.run(Executor.scala:509)\n\tat java.util.concurrent.ThreadPoolExecutor.runWorker(ThreadPoolExecutor.java:1149)\n\tat java.util.concurrent.ThreadPoolExecutor$Worker.run(ThreadPoolExecutor.java:624)\n\tat java.lang.Thread.run(Thread.java:750)\n\nDriver stacktrace:\n\tat org.apache.spark.scheduler.DAGScheduler.failJobAndIndependentStages(DAGScheduler.scala:2450)\n\tat org.apache.spark.scheduler.DAGScheduler.$anonfun$abortStage$2(DAGScheduler.scala:2399)\n\tat org.apache.spark.scheduler.DAGScheduler.$anonfun$abortStage$2$adapted(DAGScheduler.scala:2398)\n\tat scala.collection.mutable.ResizableArray.foreach(ResizableArray.scala:62)\n\tat scala.collection.mutable.ResizableArray.foreach$(ResizableArray.scala:55)\n\tat scala.collection.mutable.ArrayBuffer.foreach(ArrayBuffer.scala:49)\n\tat org.apache.spark.scheduler.DAGScheduler.abortStage(DAGScheduler.scala:2398)\n\tat org.apache.spark.scheduler.DAGScheduler.$anonfun$handleTaskSetFailed$1(DAGScheduler.scala:1156)\n\tat org.apache.spark.scheduler.DAGScheduler.$anonfun$handleTaskSetFailed$1$adapted(DAGScheduler.scala:1156)\n\tat scala.Option.foreach(Option.scala:407)\n\tat org.apache.spark.scheduler.DAGScheduler.handleTaskSetFailed(DAGScheduler.scala:1156)\n\tat org.apache.spark.scheduler.DAGSchedulerEventProcessLoop.doOnReceive(DAGScheduler.scala:2638)\n\tat org.apache.spark.scheduler.DAGSchedulerEventProcessLoop.onReceive(DAGScheduler.scala:2580)\n\tat org.apache.spark.scheduler.DAGSchedulerEventProcessLoop.onReceive(DAGScheduler.scala:2569)\n\tat org.apache.spark.util.EventLoop$$anon$1.run(EventLoop.scala:49)\n\tat org.apache.spark.scheduler.DAGScheduler.runJob(DAGScheduler.scala:938)\n\tat org.apache.spark.SparkContext.runJob(SparkContext.scala:2224)\n\tat org.apache.spark.SparkContext.runJob(SparkContext.scala:2245)\n\tat org.apache.spark.SparkContext.runJob(SparkContext.scala:2264)\n\tat org.apache.spark.SparkContext.runJob(SparkContext.scala:2289)\n\tat org.apache.spark.rdd.RDD.$anonfun$collect$1(RDD.scala:1030)\n\tat org.apache.spark.rdd.RDDOperationScope$.withScope(RDDOperationScope.scala:151)\n\tat org.apache.spark.rdd.RDDOperationScope$.withScope(RDDOperationScope.scala:112)\n\tat org.apache.spark.rdd.RDD.withScope(RDD.scala:414)\n\tat org.apache.spark.rdd.RDD.collect(RDD.scala:1029)\n\tat org.apache.spark.rdd.PairRDDFunctions.$anonfun$collectAsMap$1(PairRDDFunctions.scala:737)\n\tat org.apache.spark.rdd.RDDOperationScope$.withScope(RDDOperationScope.scala:151)\n\tat org.apache.spark.rdd.RDDOperationScope$.withScope(RDDOperationScope.scala:112)\n\tat org.apache.spark.rdd.RDD.withScope(RDD.scala:414)\n\tat org.apache.spark.rdd.PairRDDFunctions.collectAsMap(PairRDDFunctions.scala:736)\n\tat org.apache.spark.mllib.evaluation.MulticlassMetrics.confusions$lzycompute(MulticlassMetrics.scala:61)\n\tat org.apache.spark.mllib.evaluation.MulticlassMetrics.confusions(MulticlassMetrics.scala:52)\n\tat org.apache.spark.mllib.evaluation.MulticlassMetrics.tpByClass$lzycompute(MulticlassMetrics.scala:78)\n\tat org.apache.spark.mllib.evaluation.MulticlassMetrics.tpByClass(MulticlassMetrics.scala:76)\n\tat org.apache.spark.mllib.evaluation.MulticlassMetrics.labels$lzycompute(MulticlassMetrics.scala:241)\n\tat org.apache.spark.mllib.evaluation.MulticlassMetrics.labels(MulticlassMetrics.scala:241)\n\tat org.apache.spark.mllib.evaluation.MulticlassMetrics.confusionMatrix(MulticlassMetrics.scala:113)\n\tat sun.reflect.NativeMethodAccessorImpl.invoke0(Native Method)\n\tat sun.reflect.NativeMethodAccessorImpl.invoke(NativeMethodAccessorImpl.java:62)\n\tat sun.reflect.DelegatingMethodAccessorImpl.invoke(DelegatingMethodAccessorImpl.java:43)\n\tat java.lang.reflect.Method.invoke(Method.java:498)\n\tat py4j.reflection.MethodInvoker.invoke(MethodInvoker.java:244)\n\tat py4j.reflection.ReflectionEngine.invoke(ReflectionEngine.java:357)\n\tat py4j.Gateway.invoke(Gateway.java:282)\n\tat py4j.commands.AbstractCommand.invokeMethod(AbstractCommand.java:132)\n\tat py4j.commands.CallCommand.execute(CallCommand.java:79)\n\tat py4j.ClientServerConnection.waitForCommands(ClientServerConnection.java:182)\n\tat py4j.ClientServerConnection.run(ClientServerConnection.java:106)\n\tat java.lang.Thread.run(Thread.java:750)\nCaused by: org.apache.spark.api.python.PythonException: Traceback (most recent call last):\n  File \"/srv/hadoop-yarn/nm-local/usercache/team9/appcache/application_1715165960394_0237/container_e31_1715165960394_0237_01_000077/pyspark.zip/pyspark/worker.py\", line 619, in main\n    process()\n  File \"/srv/hadoop-yarn/nm-local/usercache/team9/appcache/application_1715165960394_0237/container_e31_1715165960394_0237_01_000077/pyspark.zip/pyspark/worker.py\", line 611, in process\n    serializer.dump_stream(out_iter, outfile)\n  File \"/srv/hadoop-yarn/nm-local/usercache/team9/appcache/application_1715165960394_0237/container_e31_1715165960394_0237_01_000077/pyspark.zip/pyspark/serializers.py\", line 259, in dump_stream\n    vs = list(itertools.islice(iterator, batch))\n  File \"/srv/hadoop-yarn/nm-local/usercache/team9/appcache/application_1715165960394_0237/container_e31_1715165960394_0237_01_000077/pyspark.zip/pyspark/util.py\", line 74, in wrapper\n    return f(*args, **kwargs)\n  File \"/usr/local/lib/python3.6/site-packages/pyspark/sql/session.py\", line 682, in prepare\n  File \"/usr/local/lib/python3.6/site-packages/pyspark/sql/types.py\", line 1411, in verify\n  File \"/usr/local/lib/python3.6/site-packages/pyspark/sql/types.py\", line 1392, in verify_struct\n  File \"/usr/local/lib/python3.6/site-packages/pyspark/sql/types.py\", line 1411, in verify\n  File \"/usr/local/lib/python3.6/site-packages/pyspark/sql/types.py\", line 1405, in verify_default\n  File \"/usr/local/lib/python3.6/site-packages/pyspark/sql/types.py\", line 1294, in verify_acceptable_types\nTypeError: field label: DoubleType can not accept object 0 in type <class 'int'>\n\n\tat org.apache.spark.api.python.BasePythonRunner$ReaderIterator.handlePythonException(PythonRunner.scala:556)\n\tat org.apache.spark.api.python.PythonRunner$$anon$3.read(PythonRunner.scala:762)\n\tat org.apache.spark.api.python.PythonRunner$$anon$3.read(PythonRunner.scala:744)\n\tat org.apache.spark.api.python.BasePythonRunner$ReaderIterator.hasNext(PythonRunner.scala:509)\n\tat org.apache.spark.InterruptibleIterator.hasNext(InterruptibleIterator.scala:37)\n\tat scala.collection.Iterator$$anon$11.hasNext(Iterator.scala:491)\n\tat scala.collection.Iterator$$anon$10.hasNext(Iterator.scala:460)\n\tat scala.collection.Iterator$$anon$10.hasNext(Iterator.scala:460)\n\tat org.apache.spark.sql.catalyst.expressions.GeneratedClass$GeneratedIteratorForCodegenStage1.processNext(Unknown Source)\n\tat org.apache.spark.sql.execution.BufferedRowIterator.hasNext(BufferedRowIterator.java:43)\n\tat org.apache.spark.sql.execution.WholeStageCodegenExec$$anon$1.hasNext(WholeStageCodegenExec.scala:759)\n\tat scala.collection.Iterator$$anon$10.hasNext(Iterator.scala:460)\n\tat scala.collection.Iterator$$anon$10.hasNext(Iterator.scala:460)\n\tat scala.collection.Iterator$$anon$10.hasNext(Iterator.scala:460)\n\tat scala.collection.Iterator$$anon$10.hasNext(Iterator.scala:460)\n\tat org.apache.spark.util.collection.ExternalSorter.insertAll(ExternalSorter.scala:197)\n\tat org.apache.spark.shuffle.sort.SortShuffleWriter.write(SortShuffleWriter.scala:63)\n\tat org.apache.spark.shuffle.ShuffleWriteProcessor.write(ShuffleWriteProcessor.scala:59)\n\tat org.apache.spark.scheduler.ShuffleMapTask.runTask(ShuffleMapTask.scala:99)\n\tat org.apache.spark.scheduler.ShuffleMapTask.runTask(ShuffleMapTask.scala:52)\n\tat org.apache.spark.scheduler.Task.run(Task.scala:131)\n\tat org.apache.spark.executor.Executor$TaskRunner.$anonfun$run$3(Executor.scala:506)\n\tat org.apache.spark.util.Utils$.tryWithSafeFinally(Utils.scala:1491)\n\tat org.apache.spark.executor.Executor$TaskRunner.run(Executor.scala:509)\n\tat java.util.concurrent.ThreadPoolExecutor.runWorker(ThreadPoolExecutor.java:1149)\n\tat java.util.concurrent.ThreadPoolExecutor$Worker.run(ThreadPoolExecutor.java:624)\n\t... 1 more\n",
     "output_type": "error",
     "traceback": [
      "\u001b[0;31m---------------------------------------------------------------------------\u001b[0m",
      "\u001b[0;31mPy4JJavaError\u001b[0m                             Traceback (most recent call last)",
      "\u001b[0;32m<ipython-input-95-a2c27af88da3>\u001b[0m in \u001b[0;36m<module>\u001b[0;34m\u001b[0m\n\u001b[1;32m     13\u001b[0m \u001b[0;31m# print(metrics.confusionMatrix())\u001b[0m\u001b[0;34m\u001b[0m\u001b[0;34m\u001b[0m\u001b[0;34m\u001b[0m\u001b[0m\n\u001b[1;32m     14\u001b[0m \u001b[0;34m\u001b[0m\u001b[0m\n\u001b[0;32m---> 15\u001b[0;31m \u001b[0mconfusion_matrix\u001b[0m \u001b[0;34m=\u001b[0m \u001b[0mmetrics\u001b[0m\u001b[0;34m.\u001b[0m\u001b[0mconfusionMatrix\u001b[0m\u001b[0;34m(\u001b[0m\u001b[0;34m)\u001b[0m\u001b[0;34m.\u001b[0m\u001b[0mtoArray\u001b[0m\u001b[0;34m(\u001b[0m\u001b[0;34m)\u001b[0m\u001b[0;34m\u001b[0m\u001b[0;34m\u001b[0m\u001b[0m\n\u001b[0m\u001b[1;32m     16\u001b[0m \u001b[0mlabels\u001b[0m \u001b[0;34m=\u001b[0m \u001b[0;34m[\u001b[0m\u001b[0;34m'Class 0'\u001b[0m\u001b[0;34m,\u001b[0m \u001b[0;34m'Class 1'\u001b[0m\u001b[0;34m]\u001b[0m\u001b[0;34m\u001b[0m\u001b[0;34m\u001b[0m\u001b[0m\n\u001b[1;32m     17\u001b[0m \u001b[0mfig\u001b[0m \u001b[0;34m=\u001b[0m \u001b[0mplt\u001b[0m\u001b[0;34m.\u001b[0m\u001b[0mfigure\u001b[0m\u001b[0;34m(\u001b[0m\u001b[0;34m)\u001b[0m\u001b[0;34m\u001b[0m\u001b[0;34m\u001b[0m\u001b[0m\n",
      "\u001b[0;32m/usr/local/lib/python3.6/site-packages/pyspark/mllib/evaluation.py\u001b[0m in \u001b[0;36mconfusionMatrix\u001b[0;34m(self)\u001b[0m\n\u001b[1;32m    287\u001b[0m         \u001b[0mthey\u001b[0m \u001b[0mare\u001b[0m \u001b[0mordered\u001b[0m \u001b[0mby\u001b[0m \u001b[0;32mclass\u001b[0m \u001b[0mlabel\u001b[0m \u001b[0mascending\u001b[0m\u001b[0;34m,\u001b[0m \u001b[0;32mas\u001b[0m \u001b[0;32min\u001b[0m \u001b[0;34m\"labels\"\u001b[0m\u001b[0;34m.\u001b[0m\u001b[0;34m\u001b[0m\u001b[0;34m\u001b[0m\u001b[0m\n\u001b[1;32m    288\u001b[0m         \"\"\"\n\u001b[0;32m--> 289\u001b[0;31m         \u001b[0;32mreturn\u001b[0m \u001b[0mself\u001b[0m\u001b[0;34m.\u001b[0m\u001b[0mcall\u001b[0m\u001b[0;34m(\u001b[0m\u001b[0;34m\"confusionMatrix\"\u001b[0m\u001b[0;34m)\u001b[0m\u001b[0;34m\u001b[0m\u001b[0;34m\u001b[0m\u001b[0m\n\u001b[0m\u001b[1;32m    290\u001b[0m \u001b[0;34m\u001b[0m\u001b[0m\n\u001b[1;32m    291\u001b[0m     \u001b[0;34m@\u001b[0m\u001b[0msince\u001b[0m\u001b[0;34m(\u001b[0m\u001b[0;34m'1.4.0'\u001b[0m\u001b[0;34m)\u001b[0m\u001b[0;34m\u001b[0m\u001b[0;34m\u001b[0m\u001b[0m\n",
      "\u001b[0;32m/usr/local/lib/python3.6/site-packages/pyspark/mllib/common.py\u001b[0m in \u001b[0;36mcall\u001b[0;34m(self, name, *a)\u001b[0m\n\u001b[1;32m    139\u001b[0m     \u001b[0;32mdef\u001b[0m \u001b[0mcall\u001b[0m\u001b[0;34m(\u001b[0m\u001b[0mself\u001b[0m\u001b[0;34m,\u001b[0m \u001b[0mname\u001b[0m\u001b[0;34m,\u001b[0m \u001b[0;34m*\u001b[0m\u001b[0ma\u001b[0m\u001b[0;34m)\u001b[0m\u001b[0;34m:\u001b[0m\u001b[0;34m\u001b[0m\u001b[0;34m\u001b[0m\u001b[0m\n\u001b[1;32m    140\u001b[0m         \u001b[0;34m\"\"\"Call method of java_model\"\"\"\u001b[0m\u001b[0;34m\u001b[0m\u001b[0;34m\u001b[0m\u001b[0m\n\u001b[0;32m--> 141\u001b[0;31m         \u001b[0;32mreturn\u001b[0m \u001b[0mcallJavaFunc\u001b[0m\u001b[0;34m(\u001b[0m\u001b[0mself\u001b[0m\u001b[0;34m.\u001b[0m\u001b[0m_sc\u001b[0m\u001b[0;34m,\u001b[0m \u001b[0mgetattr\u001b[0m\u001b[0;34m(\u001b[0m\u001b[0mself\u001b[0m\u001b[0;34m.\u001b[0m\u001b[0m_java_model\u001b[0m\u001b[0;34m,\u001b[0m \u001b[0mname\u001b[0m\u001b[0;34m)\u001b[0m\u001b[0;34m,\u001b[0m \u001b[0;34m*\u001b[0m\u001b[0ma\u001b[0m\u001b[0;34m)\u001b[0m\u001b[0;34m\u001b[0m\u001b[0;34m\u001b[0m\u001b[0m\n\u001b[0m\u001b[1;32m    142\u001b[0m \u001b[0;34m\u001b[0m\u001b[0m\n\u001b[1;32m    143\u001b[0m \u001b[0;34m\u001b[0m\u001b[0m\n",
      "\u001b[0;32m/usr/local/lib/python3.6/site-packages/pyspark/mllib/common.py\u001b[0m in \u001b[0;36mcallJavaFunc\u001b[0;34m(sc, func, *args)\u001b[0m\n\u001b[1;32m    116\u001b[0m     \u001b[0;34m\"\"\" Call Java Function \"\"\"\u001b[0m\u001b[0;34m\u001b[0m\u001b[0;34m\u001b[0m\u001b[0m\n\u001b[1;32m    117\u001b[0m     \u001b[0margs\u001b[0m \u001b[0;34m=\u001b[0m \u001b[0;34m[\u001b[0m\u001b[0m_py2java\u001b[0m\u001b[0;34m(\u001b[0m\u001b[0msc\u001b[0m\u001b[0;34m,\u001b[0m \u001b[0ma\u001b[0m\u001b[0;34m)\u001b[0m \u001b[0;32mfor\u001b[0m \u001b[0ma\u001b[0m \u001b[0;32min\u001b[0m \u001b[0margs\u001b[0m\u001b[0;34m]\u001b[0m\u001b[0;34m\u001b[0m\u001b[0;34m\u001b[0m\u001b[0m\n\u001b[0;32m--> 118\u001b[0;31m     \u001b[0;32mreturn\u001b[0m \u001b[0m_java2py\u001b[0m\u001b[0;34m(\u001b[0m\u001b[0msc\u001b[0m\u001b[0;34m,\u001b[0m \u001b[0mfunc\u001b[0m\u001b[0;34m(\u001b[0m\u001b[0;34m*\u001b[0m\u001b[0margs\u001b[0m\u001b[0;34m)\u001b[0m\u001b[0;34m)\u001b[0m\u001b[0;34m\u001b[0m\u001b[0;34m\u001b[0m\u001b[0m\n\u001b[0m\u001b[1;32m    119\u001b[0m \u001b[0;34m\u001b[0m\u001b[0m\n\u001b[1;32m    120\u001b[0m \u001b[0;34m\u001b[0m\u001b[0m\n",
      "\u001b[0;32m/usr/local/lib/python3.6/site-packages/pyspark/python/lib/py4j-0.10.9.5-src.zip/py4j/java_gateway.py\u001b[0m in \u001b[0;36m__call__\u001b[0;34m(self, *args)\u001b[0m\n\u001b[1;32m   1320\u001b[0m         \u001b[0manswer\u001b[0m \u001b[0;34m=\u001b[0m \u001b[0mself\u001b[0m\u001b[0;34m.\u001b[0m\u001b[0mgateway_client\u001b[0m\u001b[0;34m.\u001b[0m\u001b[0msend_command\u001b[0m\u001b[0;34m(\u001b[0m\u001b[0mcommand\u001b[0m\u001b[0;34m)\u001b[0m\u001b[0;34m\u001b[0m\u001b[0;34m\u001b[0m\u001b[0m\n\u001b[1;32m   1321\u001b[0m         return_value = get_return_value(\n\u001b[0;32m-> 1322\u001b[0;31m             answer, self.gateway_client, self.target_id, self.name)\n\u001b[0m\u001b[1;32m   1323\u001b[0m \u001b[0;34m\u001b[0m\u001b[0m\n\u001b[1;32m   1324\u001b[0m         \u001b[0;32mfor\u001b[0m \u001b[0mtemp_arg\u001b[0m \u001b[0;32min\u001b[0m \u001b[0mtemp_args\u001b[0m\u001b[0;34m:\u001b[0m\u001b[0;34m\u001b[0m\u001b[0;34m\u001b[0m\u001b[0m\n",
      "\u001b[0;32m/usr/local/lib/python3.6/site-packages/pyspark/sql/utils.py\u001b[0m in \u001b[0;36mdeco\u001b[0;34m(*a, **kw)\u001b[0m\n\u001b[1;32m    109\u001b[0m     \u001b[0;32mdef\u001b[0m \u001b[0mdeco\u001b[0m\u001b[0;34m(\u001b[0m\u001b[0;34m*\u001b[0m\u001b[0ma\u001b[0m\u001b[0;34m,\u001b[0m \u001b[0;34m**\u001b[0m\u001b[0mkw\u001b[0m\u001b[0;34m)\u001b[0m\u001b[0;34m:\u001b[0m\u001b[0;34m\u001b[0m\u001b[0;34m\u001b[0m\u001b[0m\n\u001b[1;32m    110\u001b[0m         \u001b[0;32mtry\u001b[0m\u001b[0;34m:\u001b[0m\u001b[0;34m\u001b[0m\u001b[0;34m\u001b[0m\u001b[0m\n\u001b[0;32m--> 111\u001b[0;31m             \u001b[0;32mreturn\u001b[0m \u001b[0mf\u001b[0m\u001b[0;34m(\u001b[0m\u001b[0;34m*\u001b[0m\u001b[0ma\u001b[0m\u001b[0;34m,\u001b[0m \u001b[0;34m**\u001b[0m\u001b[0mkw\u001b[0m\u001b[0;34m)\u001b[0m\u001b[0;34m\u001b[0m\u001b[0;34m\u001b[0m\u001b[0m\n\u001b[0m\u001b[1;32m    112\u001b[0m         \u001b[0;32mexcept\u001b[0m \u001b[0mpy4j\u001b[0m\u001b[0;34m.\u001b[0m\u001b[0mprotocol\u001b[0m\u001b[0;34m.\u001b[0m\u001b[0mPy4JJavaError\u001b[0m \u001b[0;32mas\u001b[0m \u001b[0me\u001b[0m\u001b[0;34m:\u001b[0m\u001b[0;34m\u001b[0m\u001b[0;34m\u001b[0m\u001b[0m\n\u001b[1;32m    113\u001b[0m             \u001b[0mconverted\u001b[0m \u001b[0;34m=\u001b[0m \u001b[0mconvert_exception\u001b[0m\u001b[0;34m(\u001b[0m\u001b[0me\u001b[0m\u001b[0;34m.\u001b[0m\u001b[0mjava_exception\u001b[0m\u001b[0;34m)\u001b[0m\u001b[0;34m\u001b[0m\u001b[0;34m\u001b[0m\u001b[0m\n",
      "\u001b[0;32m/usr/local/lib/python3.6/site-packages/pyspark/python/lib/py4j-0.10.9.5-src.zip/py4j/protocol.py\u001b[0m in \u001b[0;36mget_return_value\u001b[0;34m(answer, gateway_client, target_id, name)\u001b[0m\n\u001b[1;32m    326\u001b[0m                 raise Py4JJavaError(\n\u001b[1;32m    327\u001b[0m                     \u001b[0;34m\"An error occurred while calling {0}{1}{2}.\\n\"\u001b[0m\u001b[0;34m.\u001b[0m\u001b[0;34m\u001b[0m\u001b[0;34m\u001b[0m\u001b[0m\n\u001b[0;32m--> 328\u001b[0;31m                     format(target_id, \".\", name), value)\n\u001b[0m\u001b[1;32m    329\u001b[0m             \u001b[0;32melse\u001b[0m\u001b[0;34m:\u001b[0m\u001b[0;34m\u001b[0m\u001b[0;34m\u001b[0m\u001b[0m\n\u001b[1;32m    330\u001b[0m                 raise Py4JError(\n",
      "\u001b[0;31mPy4JJavaError\u001b[0m: An error occurred while calling o24289.confusionMatrix.\n: org.apache.spark.SparkException: Job aborted due to stage failure: Task 0 in stage 11831.0 failed 4 times, most recent failure: Lost task 0.3 in stage 11831.0 (TID 1440129) (hadoop-02.uni.innopolis.ru executor 64): org.apache.spark.api.python.PythonException: Traceback (most recent call last):\n  File \"/srv/hadoop-yarn/nm-local/usercache/team9/appcache/application_1715165960394_0237/container_e31_1715165960394_0237_01_000077/pyspark.zip/pyspark/worker.py\", line 619, in main\n    process()\n  File \"/srv/hadoop-yarn/nm-local/usercache/team9/appcache/application_1715165960394_0237/container_e31_1715165960394_0237_01_000077/pyspark.zip/pyspark/worker.py\", line 611, in process\n    serializer.dump_stream(out_iter, outfile)\n  File \"/srv/hadoop-yarn/nm-local/usercache/team9/appcache/application_1715165960394_0237/container_e31_1715165960394_0237_01_000077/pyspark.zip/pyspark/serializers.py\", line 259, in dump_stream\n    vs = list(itertools.islice(iterator, batch))\n  File \"/srv/hadoop-yarn/nm-local/usercache/team9/appcache/application_1715165960394_0237/container_e31_1715165960394_0237_01_000077/pyspark.zip/pyspark/util.py\", line 74, in wrapper\n    return f(*args, **kwargs)\n  File \"/usr/local/lib/python3.6/site-packages/pyspark/sql/session.py\", line 682, in prepare\n  File \"/usr/local/lib/python3.6/site-packages/pyspark/sql/types.py\", line 1411, in verify\n  File \"/usr/local/lib/python3.6/site-packages/pyspark/sql/types.py\", line 1392, in verify_struct\n  File \"/usr/local/lib/python3.6/site-packages/pyspark/sql/types.py\", line 1411, in verify\n  File \"/usr/local/lib/python3.6/site-packages/pyspark/sql/types.py\", line 1405, in verify_default\n  File \"/usr/local/lib/python3.6/site-packages/pyspark/sql/types.py\", line 1294, in verify_acceptable_types\nTypeError: field label: DoubleType can not accept object 0 in type <class 'int'>\n\n\tat org.apache.spark.api.python.BasePythonRunner$ReaderIterator.handlePythonException(PythonRunner.scala:556)\n\tat org.apache.spark.api.python.PythonRunner$$anon$3.read(PythonRunner.scala:762)\n\tat org.apache.spark.api.python.PythonRunner$$anon$3.read(PythonRunner.scala:744)\n\tat org.apache.spark.api.python.BasePythonRunner$ReaderIterator.hasNext(PythonRunner.scala:509)\n\tat org.apache.spark.InterruptibleIterator.hasNext(InterruptibleIterator.scala:37)\n\tat scala.collection.Iterator$$anon$11.hasNext(Iterator.scala:491)\n\tat scala.collection.Iterator$$anon$10.hasNext(Iterator.scala:460)\n\tat scala.collection.Iterator$$anon$10.hasNext(Iterator.scala:460)\n\tat org.apache.spark.sql.catalyst.expressions.GeneratedClass$GeneratedIteratorForCodegenStage1.processNext(Unknown Source)\n\tat org.apache.spark.sql.execution.BufferedRowIterator.hasNext(BufferedRowIterator.java:43)\n\tat org.apache.spark.sql.execution.WholeStageCodegenExec$$anon$1.hasNext(WholeStageCodegenExec.scala:759)\n\tat scala.collection.Iterator$$anon$10.hasNext(Iterator.scala:460)\n\tat scala.collection.Iterator$$anon$10.hasNext(Iterator.scala:460)\n\tat scala.collection.Iterator$$anon$10.hasNext(Iterator.scala:460)\n\tat scala.collection.Iterator$$anon$10.hasNext(Iterator.scala:460)\n\tat org.apache.spark.util.collection.ExternalSorter.insertAll(ExternalSorter.scala:197)\n\tat org.apache.spark.shuffle.sort.SortShuffleWriter.write(SortShuffleWriter.scala:63)\n\tat org.apache.spark.shuffle.ShuffleWriteProcessor.write(ShuffleWriteProcessor.scala:59)\n\tat org.apache.spark.scheduler.ShuffleMapTask.runTask(ShuffleMapTask.scala:99)\n\tat org.apache.spark.scheduler.ShuffleMapTask.runTask(ShuffleMapTask.scala:52)\n\tat org.apache.spark.scheduler.Task.run(Task.scala:131)\n\tat org.apache.spark.executor.Executor$TaskRunner.$anonfun$run$3(Executor.scala:506)\n\tat org.apache.spark.util.Utils$.tryWithSafeFinally(Utils.scala:1491)\n\tat org.apache.spark.executor.Executor$TaskRunner.run(Executor.scala:509)\n\tat java.util.concurrent.ThreadPoolExecutor.runWorker(ThreadPoolExecutor.java:1149)\n\tat java.util.concurrent.ThreadPoolExecutor$Worker.run(ThreadPoolExecutor.java:624)\n\tat java.lang.Thread.run(Thread.java:750)\n\nDriver stacktrace:\n\tat org.apache.spark.scheduler.DAGScheduler.failJobAndIndependentStages(DAGScheduler.scala:2450)\n\tat org.apache.spark.scheduler.DAGScheduler.$anonfun$abortStage$2(DAGScheduler.scala:2399)\n\tat org.apache.spark.scheduler.DAGScheduler.$anonfun$abortStage$2$adapted(DAGScheduler.scala:2398)\n\tat scala.collection.mutable.ResizableArray.foreach(ResizableArray.scala:62)\n\tat scala.collection.mutable.ResizableArray.foreach$(ResizableArray.scala:55)\n\tat scala.collection.mutable.ArrayBuffer.foreach(ArrayBuffer.scala:49)\n\tat org.apache.spark.scheduler.DAGScheduler.abortStage(DAGScheduler.scala:2398)\n\tat org.apache.spark.scheduler.DAGScheduler.$anonfun$handleTaskSetFailed$1(DAGScheduler.scala:1156)\n\tat org.apache.spark.scheduler.DAGScheduler.$anonfun$handleTaskSetFailed$1$adapted(DAGScheduler.scala:1156)\n\tat scala.Option.foreach(Option.scala:407)\n\tat org.apache.spark.scheduler.DAGScheduler.handleTaskSetFailed(DAGScheduler.scala:1156)\n\tat org.apache.spark.scheduler.DAGSchedulerEventProcessLoop.doOnReceive(DAGScheduler.scala:2638)\n\tat org.apache.spark.scheduler.DAGSchedulerEventProcessLoop.onReceive(DAGScheduler.scala:2580)\n\tat org.apache.spark.scheduler.DAGSchedulerEventProcessLoop.onReceive(DAGScheduler.scala:2569)\n\tat org.apache.spark.util.EventLoop$$anon$1.run(EventLoop.scala:49)\n\tat org.apache.spark.scheduler.DAGScheduler.runJob(DAGScheduler.scala:938)\n\tat org.apache.spark.SparkContext.runJob(SparkContext.scala:2224)\n\tat org.apache.spark.SparkContext.runJob(SparkContext.scala:2245)\n\tat org.apache.spark.SparkContext.runJob(SparkContext.scala:2264)\n\tat org.apache.spark.SparkContext.runJob(SparkContext.scala:2289)\n\tat org.apache.spark.rdd.RDD.$anonfun$collect$1(RDD.scala:1030)\n\tat org.apache.spark.rdd.RDDOperationScope$.withScope(RDDOperationScope.scala:151)\n\tat org.apache.spark.rdd.RDDOperationScope$.withScope(RDDOperationScope.scala:112)\n\tat org.apache.spark.rdd.RDD.withScope(RDD.scala:414)\n\tat org.apache.spark.rdd.RDD.collect(RDD.scala:1029)\n\tat org.apache.spark.rdd.PairRDDFunctions.$anonfun$collectAsMap$1(PairRDDFunctions.scala:737)\n\tat org.apache.spark.rdd.RDDOperationScope$.withScope(RDDOperationScope.scala:151)\n\tat org.apache.spark.rdd.RDDOperationScope$.withScope(RDDOperationScope.scala:112)\n\tat org.apache.spark.rdd.RDD.withScope(RDD.scala:414)\n\tat org.apache.spark.rdd.PairRDDFunctions.collectAsMap(PairRDDFunctions.scala:736)\n\tat org.apache.spark.mllib.evaluation.MulticlassMetrics.confusions$lzycompute(MulticlassMetrics.scala:61)\n\tat org.apache.spark.mllib.evaluation.MulticlassMetrics.confusions(MulticlassMetrics.scala:52)\n\tat org.apache.spark.mllib.evaluation.MulticlassMetrics.tpByClass$lzycompute(MulticlassMetrics.scala:78)\n\tat org.apache.spark.mllib.evaluation.MulticlassMetrics.tpByClass(MulticlassMetrics.scala:76)\n\tat org.apache.spark.mllib.evaluation.MulticlassMetrics.labels$lzycompute(MulticlassMetrics.scala:241)\n\tat org.apache.spark.mllib.evaluation.MulticlassMetrics.labels(MulticlassMetrics.scala:241)\n\tat org.apache.spark.mllib.evaluation.MulticlassMetrics.confusionMatrix(MulticlassMetrics.scala:113)\n\tat sun.reflect.NativeMethodAccessorImpl.invoke0(Native Method)\n\tat sun.reflect.NativeMethodAccessorImpl.invoke(NativeMethodAccessorImpl.java:62)\n\tat sun.reflect.DelegatingMethodAccessorImpl.invoke(DelegatingMethodAccessorImpl.java:43)\n\tat java.lang.reflect.Method.invoke(Method.java:498)\n\tat py4j.reflection.MethodInvoker.invoke(MethodInvoker.java:244)\n\tat py4j.reflection.ReflectionEngine.invoke(ReflectionEngine.java:357)\n\tat py4j.Gateway.invoke(Gateway.java:282)\n\tat py4j.commands.AbstractCommand.invokeMethod(AbstractCommand.java:132)\n\tat py4j.commands.CallCommand.execute(CallCommand.java:79)\n\tat py4j.ClientServerConnection.waitForCommands(ClientServerConnection.java:182)\n\tat py4j.ClientServerConnection.run(ClientServerConnection.java:106)\n\tat java.lang.Thread.run(Thread.java:750)\nCaused by: org.apache.spark.api.python.PythonException: Traceback (most recent call last):\n  File \"/srv/hadoop-yarn/nm-local/usercache/team9/appcache/application_1715165960394_0237/container_e31_1715165960394_0237_01_000077/pyspark.zip/pyspark/worker.py\", line 619, in main\n    process()\n  File \"/srv/hadoop-yarn/nm-local/usercache/team9/appcache/application_1715165960394_0237/container_e31_1715165960394_0237_01_000077/pyspark.zip/pyspark/worker.py\", line 611, in process\n    serializer.dump_stream(out_iter, outfile)\n  File \"/srv/hadoop-yarn/nm-local/usercache/team9/appcache/application_1715165960394_0237/container_e31_1715165960394_0237_01_000077/pyspark.zip/pyspark/serializers.py\", line 259, in dump_stream\n    vs = list(itertools.islice(iterator, batch))\n  File \"/srv/hadoop-yarn/nm-local/usercache/team9/appcache/application_1715165960394_0237/container_e31_1715165960394_0237_01_000077/pyspark.zip/pyspark/util.py\", line 74, in wrapper\n    return f(*args, **kwargs)\n  File \"/usr/local/lib/python3.6/site-packages/pyspark/sql/session.py\", line 682, in prepare\n  File \"/usr/local/lib/python3.6/site-packages/pyspark/sql/types.py\", line 1411, in verify\n  File \"/usr/local/lib/python3.6/site-packages/pyspark/sql/types.py\", line 1392, in verify_struct\n  File \"/usr/local/lib/python3.6/site-packages/pyspark/sql/types.py\", line 1411, in verify\n  File \"/usr/local/lib/python3.6/site-packages/pyspark/sql/types.py\", line 1405, in verify_default\n  File \"/usr/local/lib/python3.6/site-packages/pyspark/sql/types.py\", line 1294, in verify_acceptable_types\nTypeError: field label: DoubleType can not accept object 0 in type <class 'int'>\n\n\tat org.apache.spark.api.python.BasePythonRunner$ReaderIterator.handlePythonException(PythonRunner.scala:556)\n\tat org.apache.spark.api.python.PythonRunner$$anon$3.read(PythonRunner.scala:762)\n\tat org.apache.spark.api.python.PythonRunner$$anon$3.read(PythonRunner.scala:744)\n\tat org.apache.spark.api.python.BasePythonRunner$ReaderIterator.hasNext(PythonRunner.scala:509)\n\tat org.apache.spark.InterruptibleIterator.hasNext(InterruptibleIterator.scala:37)\n\tat scala.collection.Iterator$$anon$11.hasNext(Iterator.scala:491)\n\tat scala.collection.Iterator$$anon$10.hasNext(Iterator.scala:460)\n\tat scala.collection.Iterator$$anon$10.hasNext(Iterator.scala:460)\n\tat org.apache.spark.sql.catalyst.expressions.GeneratedClass$GeneratedIteratorForCodegenStage1.processNext(Unknown Source)\n\tat org.apache.spark.sql.execution.BufferedRowIterator.hasNext(BufferedRowIterator.java:43)\n\tat org.apache.spark.sql.execution.WholeStageCodegenExec$$anon$1.hasNext(WholeStageCodegenExec.scala:759)\n\tat scala.collection.Iterator$$anon$10.hasNext(Iterator.scala:460)\n\tat scala.collection.Iterator$$anon$10.hasNext(Iterator.scala:460)\n\tat scala.collection.Iterator$$anon$10.hasNext(Iterator.scala:460)\n\tat scala.collection.Iterator$$anon$10.hasNext(Iterator.scala:460)\n\tat org.apache.spark.util.collection.ExternalSorter.insertAll(ExternalSorter.scala:197)\n\tat org.apache.spark.shuffle.sort.SortShuffleWriter.write(SortShuffleWriter.scala:63)\n\tat org.apache.spark.shuffle.ShuffleWriteProcessor.write(ShuffleWriteProcessor.scala:59)\n\tat org.apache.spark.scheduler.ShuffleMapTask.runTask(ShuffleMapTask.scala:99)\n\tat org.apache.spark.scheduler.ShuffleMapTask.runTask(ShuffleMapTask.scala:52)\n\tat org.apache.spark.scheduler.Task.run(Task.scala:131)\n\tat org.apache.spark.executor.Executor$TaskRunner.$anonfun$run$3(Executor.scala:506)\n\tat org.apache.spark.util.Utils$.tryWithSafeFinally(Utils.scala:1491)\n\tat org.apache.spark.executor.Executor$TaskRunner.run(Executor.scala:509)\n\tat java.util.concurrent.ThreadPoolExecutor.runWorker(ThreadPoolExecutor.java:1149)\n\tat java.util.concurrent.ThreadPoolExecutor$Worker.run(ThreadPoolExecutor.java:624)\n\t... 1 more\n"
     ]
    }
   ],
   "source": [
    "from pyspark.mllib.evaluation import MulticlassMetrics\n",
    "\n",
    "from sklearn.metrics import confusion_matrix\n",
    "\n",
    "# Returns confusion matrix: predicted classes are in columns, they are ordered by class label ascending, as in “labels”.\n",
    "# Meaning 0 1 in columns. Rows also 0 then 1.\n",
    "\n",
    "# Evaluate using MultiClass Metrics\n",
    "pred_rdd = predictions.select('prediction','label').rdd.map(tuple)\n",
    "metrics = MulticlassMetrics(pred_rdd)\n",
    "\n",
    "\n",
    "print(metrics.confusionMatrix())\n",
    "\n",
    "confusion_matrix = metrics.confusionMatrix().toArray()\n",
    "labels = ['Class 0', 'Class 1']\n",
    "fig = plt.figure()\n",
    "ax = fig.add_subplot(111)\n",
    "cax = ax.matshow(confusion_matrix, cmap=plt.cm.Blues)\n",
    "# Add actual values to the cells\n",
    "for i in range(len(labels)):\n",
    "    for j in range(len(labels)):\n",
    "        plt.text(j, i, str(int(confusion_matrix[i, j])), fontsize=12, ha='center', va='center', color='red')\n",
    "fig.colorbar(cax)\n",
    "ax.set_xticklabels([''] + labels)\n",
    "ax.set_yticklabels([''] + labels)\n",
    "plt.xlabel('Predicted')\n",
    "plt.ylabel('Expected')\n",
    "plt.show()"
   ]
  },
  {
   "cell_type": "code",
   "execution_count": null,
   "id": "0ab8238e-f36e-48f0-8210-6d3364e3ab39",
   "metadata": {},
   "outputs": [],
   "source": [
    "# from pyspark.ml.evaluation import BinaryClassificationEvaluator, MulticlassClassificationEvaluator\n",
    "# from pyspark.mllib.evaluation import MulticlassMetrics\n",
    "\n",
    "# from sklearn.metrics import confusion_matrix\n",
    "\n",
    "# # Evaluate using MultiClass Metrics\n",
    "# pred_rdd = predictions.select('prediction','label').rdd.map(tuple)\n",
    "# metrics = MulticlassMetrics(pred_rdd)\n",
    "# accuracy_o = metrics.accuracy   # Positive class\n",
    "# precision_o = metrics.precision(1.0)  # Positive class\n",
    "# recall_o = metrics.recall(1.0)  # Positive class\n",
    "# f1_o = metrics.fMeasure(1.0)  # Positive class\n",
    "\n",
    "# print(\"Accuracy:\", accuracy_o)\n",
    "# print(\"Precision:\", precision_o)\n",
    "# print(\"Recall:\", recall_o)\n",
    "# print(\"F1-score:\", f1_o)"
   ]
  },
  {
   "cell_type": "markdown",
   "id": "0e8fbaa6-8b32-44eb-b5c3-3358f06c8fff",
   "metadata": {},
   "source": [
    "## Hyperparameter optimization"
   ]
  },
  {
   "cell_type": "code",
   "execution_count": 79,
   "id": "a1fd648f-441d-4400-a920-c7d5b0b6c4f3",
   "metadata": {},
   "outputs": [
    {
     "data": {
      "text/plain": [
       "[Param(parent='RandomForestClassifier_94bc541f4c90', name='bootstrap', doc='Whether bootstrap samples are used when building trees.'),\n",
       " Param(parent='RandomForestClassifier_94bc541f4c90', name='cacheNodeIds', doc='If false, the algorithm will pass trees to executors to match instances with nodes. If true, the algorithm will cache node IDs for each instance. Caching can speed up training of deeper trees. Users can set how often should the cache be checkpointed or disable it by setting checkpointInterval.'),\n",
       " Param(parent='RandomForestClassifier_94bc541f4c90', name='checkpointInterval', doc='set checkpoint interval (>= 1) or disable checkpoint (-1). E.g. 10 means that the cache will get checkpointed every 10 iterations. Note: this setting will be ignored if the checkpoint directory is not set in the SparkContext.'),\n",
       " Param(parent='RandomForestClassifier_94bc541f4c90', name='featureSubsetStrategy', doc=\"The number of features to consider for splits at each tree node. Supported options: 'auto' (choose automatically for task: If numTrees == 1, set to 'all'. If numTrees > 1 (forest), set to 'sqrt' for classification and to 'onethird' for regression), 'all' (use all features), 'onethird' (use 1/3 of the features), 'sqrt' (use sqrt(number of features)), 'log2' (use log2(number of features)), 'n' (when n is in the range (0, 1.0], use n * number of features. When n is in the range (1, number of features), use n features). default = 'auto'\"),\n",
       " Param(parent='RandomForestClassifier_94bc541f4c90', name='featuresCol', doc='features column name.'),\n",
       " Param(parent='RandomForestClassifier_94bc541f4c90', name='impurity', doc='Criterion used for information gain calculation (case-insensitive). Supported options: entropy, gini'),\n",
       " Param(parent='RandomForestClassifier_94bc541f4c90', name='labelCol', doc='label column name.'),\n",
       " Param(parent='RandomForestClassifier_94bc541f4c90', name='leafCol', doc='Leaf indices column name. Predicted leaf index of each instance in each tree by preorder.'),\n",
       " Param(parent='RandomForestClassifier_94bc541f4c90', name='maxBins', doc='Max number of bins for discretizing continuous features.  Must be >=2 and >= number of categories for any categorical feature.'),\n",
       " Param(parent='RandomForestClassifier_94bc541f4c90', name='maxDepth', doc='Maximum depth of the tree. (>= 0) E.g., depth 0 means 1 leaf node; depth 1 means 1 internal node + 2 leaf nodes. Must be in range [0, 30].'),\n",
       " Param(parent='RandomForestClassifier_94bc541f4c90', name='maxMemoryInMB', doc='Maximum memory in MB allocated to histogram aggregation. If too small, then 1 node will be split per iteration, and its aggregates may exceed this size.'),\n",
       " Param(parent='RandomForestClassifier_94bc541f4c90', name='minInfoGain', doc='Minimum information gain for a split to be considered at a tree node.'),\n",
       " Param(parent='RandomForestClassifier_94bc541f4c90', name='minInstancesPerNode', doc='Minimum number of instances each child must have after split. If a split causes the left or right child to have fewer than minInstancesPerNode, the split will be discarded as invalid. Should be >= 1.'),\n",
       " Param(parent='RandomForestClassifier_94bc541f4c90', name='minWeightFractionPerNode', doc='Minimum fraction of the weighted sample count that each child must have after split. If a split causes the fraction of the total weight in the left or right child to be less than minWeightFractionPerNode, the split will be discarded as invalid. Should be in interval [0.0, 0.5).'),\n",
       " Param(parent='RandomForestClassifier_94bc541f4c90', name='numTrees', doc='Number of trees to train (>= 1).'),\n",
       " Param(parent='RandomForestClassifier_94bc541f4c90', name='predictionCol', doc='prediction column name.'),\n",
       " Param(parent='RandomForestClassifier_94bc541f4c90', name='probabilityCol', doc='Column name for predicted class conditional probabilities. Note: Not all models output well-calibrated probability estimates! These probabilities should be treated as confidences, not precise probabilities.'),\n",
       " Param(parent='RandomForestClassifier_94bc541f4c90', name='rawPredictionCol', doc='raw prediction (a.k.a. confidence) column name.'),\n",
       " Param(parent='RandomForestClassifier_94bc541f4c90', name='seed', doc='random seed.'),\n",
       " Param(parent='RandomForestClassifier_94bc541f4c90', name='subsamplingRate', doc='Fraction of the training data used for learning each decision tree, in range (0, 1].'),\n",
       " Param(parent='RandomForestClassifier_94bc541f4c90', name='thresholds', doc=\"Thresholds in multi-class classification to adjust the probability of predicting each class. Array must have length equal to the number of classes, with values > 0, excepting that at most one value may be 0. The class with largest value p/t is predicted, where p is the original probability of that class and t is the class's threshold.\"),\n",
       " Param(parent='RandomForestClassifier_94bc541f4c90', name='weightCol', doc='weight column name. If this is not set or empty, we treat all instance weights as 1.0.')]"
      ]
     },
     "execution_count": 79,
     "metadata": {},
     "output_type": "execute_result"
    }
   ],
   "source": [
    "rfModel.params"
   ]
  },
  {
   "cell_type": "code",
   "execution_count": 83,
   "id": "e3f61d9d-a09b-45f8-843c-e742d256e755",
   "metadata": {},
   "outputs": [
    {
     "data": {
      "text/plain": [
       "RandomForestClassificationModel: uid=RandomForestClassifier_94bc541f4c90, numTrees=30, numClasses=2, numFeatures=16"
      ]
     },
     "execution_count": 83,
     "metadata": {},
     "output_type": "execute_result"
    }
   ],
   "source": [
    "from pyspark.ml.tuning import ParamGridBuilder, CrossValidator \n",
    "\n",
    "import numpy as np\n",
    "\n",
    "\n",
    "grid = ParamGridBuilder()\n",
    "# grid = grid.addGrid(\n",
    "#                     model_lr.aggregationDepth, [2, 3, 4])\\\n",
    "#                     .addGrid(model_lr.regParam, np.logspace(1e-3,1e-1)\n",
    "#                     )\\\n",
    "#                     .build()\n",
    "\n",
    "# paramGrid = ParamGridBuilder() \\\n",
    "grid = grid.addGrid(rfModel.numTrees, [10, 20, 30]) \\\n",
    "    .addGrid(rfModel.maxDepth, [5, 10, 15])\\\n",
    "    .build()\n",
    "\n",
    "cv = CrossValidator(estimator = rf, \n",
    "                    estimatorParamMaps = grid, \n",
    "                    evaluator = lrEval3,\n",
    "                    parallelism = 5,\n",
    "                    numFolds=3)\n",
    "\n",
    "cvModel = cv.fit(train_data)\n",
    "bestModel = cvModel.bestModel\n",
    "bestModel"
   ]
  },
  {
   "cell_type": "markdown",
   "id": "fe9a1522-3c74-4650-817d-84551316143e",
   "metadata": {},
   "source": [
    "## Select best model"
   ]
  },
  {
   "cell_type": "code",
   "execution_count": 84,
   "id": "14784ec8-d820-4e48-bc37-e5496ee6db46",
   "metadata": {},
   "outputs": [
    {
     "name": "stdout",
     "output_type": "stream",
     "text": [
      "{Param(parent='RandomForestClassifier_94bc541f4c90', name='predictionCol', doc='prediction column name.'): 'prediction',\n",
      " Param(parent='RandomForestClassifier_94bc541f4c90', name='minWeightFractionPerNode', doc='Minimum fraction of the weighted sample count that each child must have after split. If a split causes the fraction of the total weight in the left or right child to be less than minWeightFractionPerNode, the split will be discarded as invalid. Should be in interval [0.0, 0.5).'): 0.0,\n",
      " Param(parent='RandomForestClassifier_94bc541f4c90', name='seed', doc='random seed.'): 5361263949622253908,\n",
      " Param(parent='RandomForestClassifier_94bc541f4c90', name='rawPredictionCol', doc='raw prediction (a.k.a. confidence) column name.'): 'rawPrediction',\n",
      " Param(parent='RandomForestClassifier_94bc541f4c90', name='probabilityCol', doc='Column name for predicted class conditional probabilities. Note: Not all models output well-calibrated probability estimates! These probabilities should be treated as confidences, not precise probabilities.'): 'probability',\n",
      " Param(parent='RandomForestClassifier_94bc541f4c90', name='subsamplingRate', doc='Fraction of the training data used for learning each decision tree, in range (0, 1].'): 1.0,\n",
      " Param(parent='RandomForestClassifier_94bc541f4c90', name='numTrees', doc='Number of trees to train (>= 1).'): 30,\n",
      " Param(parent='RandomForestClassifier_94bc541f4c90', name='labelCol', doc='label column name.'): 'label',\n",
      " Param(parent='RandomForestClassifier_94bc541f4c90', name='checkpointInterval', doc='set checkpoint interval (>= 1) or disable checkpoint (-1). E.g. 10 means that the cache will get checkpointed every 10 iterations. Note: this setting will be ignored if the checkpoint directory is not set in the SparkContext.'): 10,\n",
      " Param(parent='RandomForestClassifier_94bc541f4c90', name='cacheNodeIds', doc='If false, the algorithm will pass trees to executors to match instances with nodes. If true, the algorithm will cache node IDs for each instance. Caching can speed up training of deeper trees. Users can set how often should the cache be checkpointed or disable it by setting checkpointInterval.'): False,\n",
      " Param(parent='RandomForestClassifier_94bc541f4c90', name='maxDepth', doc='Maximum depth of the tree. (>= 0) E.g., depth 0 means 1 leaf node; depth 1 means 1 internal node + 2 leaf nodes. Must be in range [0, 30].'): 15,\n",
      " Param(parent='RandomForestClassifier_94bc541f4c90', name='minInstancesPerNode', doc='Minimum number of instances each child must have after split. If a split causes the left or right child to have fewer than minInstancesPerNode, the split will be discarded as invalid. Should be >= 1.'): 1,\n",
      " Param(parent='RandomForestClassifier_94bc541f4c90', name='bootstrap', doc='Whether bootstrap samples are used when building trees.'): True,\n",
      " Param(parent='RandomForestClassifier_94bc541f4c90', name='featuresCol', doc='features column name.'): 'features',\n",
      " Param(parent='RandomForestClassifier_94bc541f4c90', name='leafCol', doc='Leaf indices column name. Predicted leaf index of each instance in each tree by preorder.'): '',\n",
      " Param(parent='RandomForestClassifier_94bc541f4c90', name='minInfoGain', doc='Minimum information gain for a split to be considered at a tree node.'): 0.0,\n",
      " Param(parent='RandomForestClassifier_94bc541f4c90', name='maxBins', doc='Max number of bins for discretizing continuous features.  Must be >=2 and >= number of categories for any categorical feature.'): 32,\n",
      " Param(parent='RandomForestClassifier_94bc541f4c90', name='featureSubsetStrategy', doc=\"The number of features to consider for splits at each tree node. Supported options: 'auto' (choose automatically for task: If numTrees == 1, set to 'all'. If numTrees > 1 (forest), set to 'sqrt' for classification and to 'onethird' for regression), 'all' (use all features), 'onethird' (use 1/3 of the features), 'sqrt' (use sqrt(number of features)), 'log2' (use log2(number of features)), 'n' (when n is in the range (0, 1.0], use n * number of features. When n is in the range (1, number of features), use n features). default = 'auto'\"): 'auto',\n",
      " Param(parent='RandomForestClassifier_94bc541f4c90', name='maxMemoryInMB', doc='Maximum memory in MB allocated to histogram aggregation. If too small, then 1 node will be split per iteration, and its aggregates may exceed this size.'): 256,\n",
      " Param(parent='RandomForestClassifier_94bc541f4c90', name='impurity', doc='Criterion used for information gain calculation (case-insensitive). Supported options: entropy, gini'): 'gini'}\n"
     ]
    }
   ],
   "source": [
    "from pprint import pprint\n",
    "model3 = bestModel\n",
    "pprint(model3.extractParamMap())"
   ]
  },
  {
   "cell_type": "markdown",
   "id": "4655b3a2-3959-4560-8d77-760593700114",
   "metadata": {},
   "source": [
    "## Save the model to HDFS"
   ]
  },
  {
   "cell_type": "code",
   "execution_count": 85,
   "id": "ee5da225-6b4b-48b2-9449-313abc6e816a",
   "metadata": {},
   "outputs": [
    {
     "data": {
      "text/plain": [
       "''"
      ]
     },
     "execution_count": 85,
     "metadata": {},
     "output_type": "execute_result"
    }
   ],
   "source": [
    "model3.write().overwrite().save(\"project/models/model3\")\n",
    "\n",
    "# Run it from root directory of the repository\n",
    "run(\"hdfs dfs -get project/models/model3 models/model3\")"
   ]
  },
  {
   "cell_type": "markdown",
   "id": "13255877-5d1f-412c-a727-4372018ca076",
   "metadata": {},
   "source": [
    "## Prediction"
   ]
  },
  {
   "cell_type": "code",
   "execution_count": 86,
   "id": "35671c1b-cdc4-4c08-a32f-0278d3881b8b",
   "metadata": {},
   "outputs": [
    {
     "name": "stdout",
     "output_type": "stream",
     "text": [
      "+-----+--------------------+--------------------+--------------------+----------+\n",
      "|label|            features|       rawPrediction|         probability|prediction|\n",
      "+-----+--------------------+--------------------+--------------------+----------+\n",
      "|    0|[37.0,404347.0,53...|[14.3849576497880...|[0.47949858832626...|       1.0|\n",
      "|    0|[97.0,404347.0,53...|[20.2942417074539...|[0.67647472358179...|       0.0|\n",
      "|    0|[167.0,405490.0,6...|[17.6595623868778...|[0.58865207956259...|       0.0|\n",
      "|    0|[303.0,359520.0,1...|[19.9472035134890...|[0.66490678378296...|       0.0|\n",
      "|    0|[306.0,359520.0,1...|[20.6827450586369...|[0.68942483528789...|       0.0|\n",
      "|    0|[306.0,359520.0,1...|[17.2005983801011...|[0.57335327933670...|       0.0|\n",
      "|    0|[348.0,359520.0,1...|[19.9540975236039...|[0.66513658412013...|       0.0|\n",
      "|    0|[413.0,405490.0,6...|[15.5086369939249...|[0.51695456646416...|       0.0|\n",
      "|    0|[471.0,359520.0,1...|[23.1991449768603...|[0.77330483256201...|       0.0|\n",
      "|    0|[625.0,414149.0,4...|[24.0457071401804...|[0.80152357133934...|       0.0|\n",
      "|    0|[830.0,414149.0,4...|[20.4869667657858...|[0.68289889219286...|       0.0|\n",
      "|    0|[868.0,82320.0,17...|[20.5369400097821...|[0.68456466699273...|       0.0|\n",
      "|    0|[1096.0,359520.0,...|[22.7465870617851...|[0.75821956872617...|       0.0|\n",
      "|    0|[1223.0,359520.0,...|[24.5431204967978...|[0.81810401655992...|       0.0|\n",
      "|    0|[1229.0,359520.0,...|[17.0863306732508...|[0.56954435577502...|       0.0|\n",
      "|    0|[1229.0,359520.0,...|[21.4191465640165...|[0.71397155213388...|       0.0|\n",
      "|    0|[1229.0,359520.0,...|[21.0147884700034...|[0.70049294900011...|       0.0|\n",
      "|    0|[1229.0,360936.0,...|[23.6406791936815...|[0.78802263978938...|       0.0|\n",
      "|    0|[1229.0,360936.0,...|[23.5703955759739...|[0.78567985253246...|       0.0|\n",
      "|    0|[1229.0,405490.0,...|[22.6553865235094...|[0.75517955078364...|       0.0|\n",
      "+-----+--------------------+--------------------+--------------------+----------+\n",
      "only showing top 20 rows\n",
      "\n"
     ]
    },
    {
     "data": {
      "text/plain": [
       "''"
      ]
     },
     "execution_count": 86,
     "metadata": {},
     "output_type": "execute_result"
    }
   ],
   "source": [
    "predictions = model3.transform(test_data)\n",
    "predictions.show()\n",
    "\n",
    "predictions.select(\"label\", \"prediction\")\\\n",
    "    .coalesce(1)\\\n",
    "    .write\\\n",
    "    .mode(\"overwrite\")\\\n",
    "    .format(\"csv\")\\\n",
    "    .option(\"sep\", \",\")\\\n",
    "    .option(\"header\",\"true\")\\\n",
    "    .save(\"project/output/model3_predictions.csv\")\n",
    "\n",
    "# Run it from root directory of the repository\n",
    "run(\"hdfs dfs -cat project/output/model3_predictions.csv/*.csv > output/model3_predictions.csv\")"
   ]
  },
  {
   "cell_type": "markdown",
   "id": "376b02fb-2bfd-4563-83db-e0b544f821fa",
   "metadata": {},
   "source": [
    "## Evaluation"
   ]
  },
  {
   "cell_type": "code",
   "execution_count": 91,
   "id": "4b5d91af-49a2-49c6-b8a1-2dc1dfdad9ae",
   "metadata": {},
   "outputs": [
    {
     "name": "stdout",
     "output_type": "stream",
     "text": [
      "AUROC: 0.7943144427681609\n",
      "AUPR: 0.6445832585486191\n",
      "Accuracy: 0.7499888058030717\n",
      "Precision: 0.7865741097367034\n",
      "Recall: 0.7367313118645585\n",
      "F1 Score: 0.6737646133508346\n"
     ]
    }
   ],
   "source": [
    "# from pyspark.ml.evaluation import RegressionEvaluator \n",
    "\n",
    "# # Evaluate the performance of the model\n",
    "# evaluator1 = RegressionEvaluator(labelCol=\"label\", predictionCol=\"prediction\", metricName=\"rmse\")\n",
    "# rmse1 = evaluator1.evaluate(predictions)\n",
    "# print(\"Root Mean Squared Error (RMSE) on test data = %g\" % rmse1)\n",
    "\n",
    "from pyspark.ml.evaluation import BinaryClassificationEvaluator \n",
    "\n",
    "# Evaluate the performance of the model\n",
    "lrEval3 = BinaryClassificationEvaluator(labelCol='label')\n",
    "# evaluator2_area_ROC = lrEval.evaluate(predictions)\n",
    "auroc3 = lrEval3.evaluate(predictions,{lrEval3.metricName:'areaUnderROC'})\n",
    "aupr3 = lrEval3.evaluate(predictions,{lrEval3.metricName:'areaUnderPR'})\n",
    "\n",
    "print(f\"AUROC: {auroc3}\")\n",
    "print(f\"AUPR: {aupr3}\")\n",
    "\n",
    "# Initialize the MulticlassClassificationEvaluator\n",
    "evaluator3 = MulticlassClassificationEvaluator(labelCol=\"label\", predictionCol=\"prediction\")\n",
    "\n",
    "# Compute accuracy, precision, recall, and F1 score\n",
    "accuracy3 = evaluator3.evaluate(predictions, {evaluator3.metricName: \"accuracy\"})\n",
    "precision3 = evaluator3.evaluate(predictions, {evaluator3.metricName: \"weightedPrecision\"})\n",
    "recall3 = evaluator3.evaluate(predictions, {evaluator3.metricName: \"weightedRecall\"})\n",
    "f13 = evaluator3.evaluate(predictions, {evaluator3.metricName: \"f1\"})\n",
    "\n",
    "# Print the metrics\n",
    "\n",
    "print(f\"Accuracy: {accuracy3}\")\n",
    "print(f\"Precision: {precision3}\")\n",
    "print(f\"Recall: {recall3}\")\n",
    "print(f\"F1 Score: {f13}\")"
   ]
  },
  {
   "cell_type": "code",
   "execution_count": null,
   "id": "4e3b75c5-8835-450c-979f-1e346939f343",
   "metadata": {},
   "outputs": [],
   "source": []
  },
  {
   "cell_type": "markdown",
   "id": "22bd7b48-f536-495a-ac38-90ea1b9014af",
   "metadata": {},
   "source": [
    "# Compare best models"
   ]
  },
  {
   "cell_type": "code",
   "execution_count": 92,
   "id": "8b91f3c3-50ca-4ce1-9dfa-dba7449fbc35",
   "metadata": {},
   "outputs": [
    {
     "name": "stdout",
     "output_type": "stream",
     "text": [
      "+-------------------------------------------------------------------------------------------------------------------+------------------+------------------+------------------+\n",
      "|model                                                                                                              |AUROC             |AUPR              |F1                |\n",
      "+-------------------------------------------------------------------------------------------------------------------+------------------+------------------+------------------+\n",
      "|LogisticRegressionModel: uid=LogisticRegression_5ec06869222b, numClasses=2, numFeatures=16                         |0.5616692640126489|0.3366785351503631|0.5956348854372476|\n",
      "|GBTClassificationModel: uid = GBTClassifier_d9204f445ad7, numTrees=20, numClasses=2, numFeatures=16                |0.7136355105679135|0.5027309800770258|0.6711229603457609|\n",
      "|RandomForestClassificationModel: uid=RandomForestClassifier_94bc541f4c90, numTrees=30, numClasses=2, numFeatures=16|0.7943144427681609|0.6445832585486191|0.6737646133508346|\n",
      "+-------------------------------------------------------------------------------------------------------------------+------------------+------------------+------------------+\n",
      "\n"
     ]
    }
   ],
   "source": [
    "models = [[str(model1),auroc1, aupr1, f11], [str(model2),auroc2, aupr2, f12], [str(model3),auroc3, aupr3, f13]]\n",
    "\n",
    "df = spark.createDataFrame(models, [\"model\", \"AUROC\", \"AUPR\", \"F1\"])\n",
    "df.show(truncate=False)"
   ]
  },
  {
   "cell_type": "code",
   "execution_count": null,
   "id": "e008d30b-9489-44a2-84a0-95bcd9608319",
   "metadata": {},
   "outputs": [],
   "source": [
    "df.coalesce(1)\\\n",
    "    .write\\\n",
    "    .mode(\"overwrite\")\\\n",
    "    .format(\"csv\")\\\n",
    "    .option(\"sep\", \",\")\\\n",
    "    .option(\"header\",\"true\")\\\n",
    "    .save(\"project/output/evaluation.csv\")\n",
    "\n",
    "# Run it from root directory of the repository\n",
    "run(\"hdfs dfs -cat project/output/evaluation.csv/*.csv > output/evaluation.csv\")"
   ]
  },
  {
   "cell_type": "code",
   "execution_count": null,
   "id": "a7b0dd72-0730-41d1-b893-35cb6352dbe3",
   "metadata": {},
   "outputs": [],
   "source": [
    "run(\"hdfs dfs -cat project/output/hyperparametrs_1.csv/*.csv > output/hyperparametrs_1.csv\")\n",
    "# project/BigData/output/hyperparametrs_3.csv'"
   ]
  },
  {
   "cell_type": "code",
   "execution_count": null,
   "id": "fedc0135-aa4a-4022-9d61-999a7f8db640",
   "metadata": {},
   "outputs": [],
   "source": [
    "run(\"hdfs dfs -cat project/output/hyperparametrs_2.csv/*.csv > output/hyperparametrs_2.csv\")\n",
    "run(\"hdfs dfs -cat project/output/hyperparametrs_3.csv/*.csv > output/hyperparametrs_3.csv\")"
   ]
  },
  {
   "cell_type": "code",
   "execution_count": null,
   "id": "ae819219-2830-4791-8fdc-dd175a3ae883",
   "metadata": {},
   "outputs": [],
   "source": []
  },
  {
   "cell_type": "markdown",
   "id": "fc343753-cfc9-44b0-8aa9-877c14d9f750",
   "metadata": {},
   "source": [
    " "
   ]
  }
 ],
 "metadata": {
  "kernelspec": {
   "display_name": "Pyspark 3",
   "language": "python",
   "name": "python3"
  },
  "language_info": {
   "codemirror_mode": {
    "name": "ipython",
    "version": 3
   },
   "file_extension": ".py",
   "mimetype": "text/x-python",
   "name": "python",
   "nbconvert_exporter": "python",
   "pygments_lexer": "ipython3",
   "version": "3.6.8"
  },
  "toc-autonumbering": true,
  "toc-showtags": false
 },
 "nbformat": 4,
 "nbformat_minor": 5
}
